{
 "cells": [
  {
   "cell_type": "code",
   "execution_count": 1,
   "metadata": {},
   "outputs": [],
   "source": [
    "import pandas as pd\n",
    "from Data_preparation_Library import *\n",
    "import numpy as np\n",
    "import matplotlib.pyplot as plt\n",
    "from tqdm.notebook import tqdm\n",
    "from time import time\n",
    "from sklearn.model_selection import train_test_split\n",
    "from tensorflow.keras.models import load_model\n",
    "from random import choice\n",
    "from scipy import signal\n",
    "from pickle import load"
   ]
  },
  {
   "cell_type": "code",
   "execution_count": null,
   "metadata": {},
   "outputs": [],
   "source": [
    "def prep_data_angles(df,window,angle_label,interval=0,Normalize=False,rms=False,angle_thresh = 0.001):\n",
    "    \n",
    "    emg_labels = ['EMG1', 'EMG2', 'EMG3', 'EMG4', 'EMG5', 'EMG6',\n",
    "           'EMG7', 'EMG8'] # , 'EMG9', 'EMG10', 'EMG11', 'EMG12'\n",
    "    emg_df = df[emg_labels]\n",
    "    \n",
    "\n",
    "    if(Normalize==True):\n",
    "        emg_df = pd.DataFrame(norm(emg_df),columns=emg_labels)\n",
    "        \n",
    "    if(rms==True):\n",
    "        emg_df = rms_df(emg_df,window)\n",
    "        \n",
    "    emg_array = np.array(emg_df)\n",
    "    all_angle = np.array(df[angle_label])\n",
    "    req_angle = []\n",
    "    X = []\n",
    "    y = []\n",
    "    i = 0\n",
    "    counter = [0,0,0]\n",
    "    while i < df.shape[0]-window:\n",
    "        rmin = i\n",
    "        rmax = i+window\n",
    "        \n",
    "        loc_arr = emg_array[rmin:rmax]\n",
    "        X.append(loc_arr)\n",
    "        angles = all_angle[rmin:rmax]\n",
    "        diff = difference(angles).mean()\n",
    "        req_angle.append(np.array(df))\n",
    "\n",
    "        i = i + interval\n",
    "            \n",
    "    X = np.array(X)\n",
    "    y = np.array(y)\n",
    "    \n",
    "    return X, y"
   ]
  }
 ],
 "metadata": {
  "kernelspec": {
   "display_name": "Python 3.8.0 64-bit",
   "language": "python",
   "name": "python38064bitcaed634bb72a48a5bf9eda0dc4f94389"
  },
  "language_info": {
   "codemirror_mode": {
    "name": "ipython",
    "version": 3
   },
   "file_extension": ".py",
   "mimetype": "text/x-python",
   "name": "python",
   "nbconvert_exporter": "python",
   "pygments_lexer": "ipython3",
   "version": "3.8.5"
  }
 },
 "nbformat": 4,
 "nbformat_minor": 4
}