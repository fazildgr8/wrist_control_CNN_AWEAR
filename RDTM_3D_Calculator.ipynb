{
 "cells": [
  {
   "cell_type": "code",
   "execution_count": 1,
   "metadata": {},
   "outputs": [],
   "source": [
    "import numpy as np\n",
    "import pandas as pd\n",
    "from math import sqrt,acos,degrees\n",
    "import matplotlib.pyplot as plt\n",
    "from scipy.signal import resample\n",
    "from tqdm.notebook import tqdm\n",
    "from time import time\n",
    "import os\n",
    "import csv\n",
    "from openpyxl import load_workbook\n",
    "from Data_preparation_Library import *"
   ]
  },
  {
   "cell_type": "markdown",
   "metadata": {},
   "source": [
    "## Data Extraction from Excel (Cumilative Function)"
   ]
  },
  {
   "cell_type": "code",
   "execution_count": 2,
   "metadata": {},
   "outputs": [],
   "source": [
    "def emg_xlsx(workbook,typ):\n",
    "    emg_labels = ['Frame','Sub Frame',\n",
    "                 'EMG1',\n",
    "                 'EMG2',\n",
    "                 'EMG3',\n",
    "                 'EMG4',\n",
    "                 'EMG5',\n",
    "                 'EMG6',\n",
    "                 'EMG7',\n",
    "                 'EMG8',\n",
    "                 'EMG9',\n",
    "                 'EMG10',\n",
    "                 'EMG11',\n",
    "                 'EMG12']\n",
    "    \n",
    "    sheet = workbook.active\n",
    "    if(typ=='b'):\n",
    "        table = sheet['BO6':'BZ92005']\n",
    "        frames = sheet['A6':'B92005']\n",
    "    else:\n",
    "        table = sheet['BO6':'BZ54005']\n",
    "        frames = sheet['A6':'B54005']\n",
    "    table = tuple(table)\n",
    "    frames = tuple(frames)\n",
    "    frames_arr = []\n",
    "    emg_arr = []\n",
    "    for t in range(len(table)):\n",
    "        row = []\n",
    "        for i in range(12):\n",
    "            row.append(table[t][i].value)\n",
    "        frame = []\n",
    "        for i in range(2):\n",
    "            frame.append(frames[t][i].value)\n",
    "        emg_arr.append(row)\n",
    "        frames_arr.append(frame)\n",
    "\n",
    "    emg_arr = np.array(emg_arr)\n",
    "    frames_arr = np.array(frames_arr)\n",
    "\n",
    "    emg_df = pd.DataFrame(columns=emg_labels)\n",
    "\n",
    "    for i in range(2):\n",
    "        emg_df[emg_labels[i]] = frames_arr[:,i]\n",
    "    emg_labels = emg_labels[2:]\n",
    "    for i in range(12):\n",
    "        emg_df[emg_labels[i]] = emg_arr[:,i]\n",
    "    return emg_df\n",
    "\n",
    "def marker_xlsx(workbook,typ):\n",
    "    marker_labels = ['Frame','Sub Frame',\n",
    "                  'RSHO_X','RSHO_Y','RSHO_Z',\n",
    "                  'RUPA_X','RUPA_Y','RUPA_Z',\n",
    "                  'RELB_X','RELB_Y','RELB_Z',\n",
    "                  'RM1_X','RM1_Y','RM1_Z',\n",
    "                 'RFRM_X','RFRM_Y','RFRM_Z',\n",
    "                 'WRM2_X','WRM2_Y','WRM2_Z',\n",
    "                 'RWRA_X','RWRA_Y','RWRA_Z',\n",
    "                 'RWRB_X','RWRB_Y','RWRB_Z',\n",
    "                 'RFIN_X','RFIN_Y','RFIN_Z']\n",
    "    sheet = workbook.active\n",
    "    if(typ=='b'):\n",
    "        table = sheet['A92012':'AC96611']\n",
    "    else:\n",
    "        table = sheet['A54012':'AC56711']\n",
    "    table = tuple(table)\n",
    "    emg_arr = []\n",
    "    for t in range(len(table)):\n",
    "        row = []\n",
    "        for i in range(29):\n",
    "            row.append(table[t][i].value)\n",
    "        emg_arr.append(row)\n",
    "    emg_arr = np.array(emg_arr)\n",
    "    marker_df = pd.DataFrame(columns=marker_labels)\n",
    "    for i in range(29):\n",
    "        marker_df[marker_labels[i]] = emg_arr[:,i]\n",
    "    return marker_df\n",
    "\n",
    "def extract_df_xlsx(filename,typ):\n",
    "    workbook = load_workbook(filename)\n",
    "    emg_df = emg_xlsx(workbook,typ)\n",
    "    marker_df = marker_xlsx(workbook,typ)\n",
    "    return emg_df, marker_df"
   ]
  },
  {
   "cell_type": "code",
   "execution_count": 3,
   "metadata": {},
   "outputs": [],
   "source": [
    "filename = file = 'Subjects/Nikhil/marker_data/Hammer.xlsx'\n",
    "emg_labels = ['EMG1','EMG2','EMG3','EMG4','EMG5','EMG6','EMG7','EMG8']\n",
    "angle_lables = ['Pronation_Angle','Flexion_Angle',  'Radial_Angle','Elbow_Joint_Angle']\n",
    "emg_df, marker_df = extract_df_xlsx(filename,'c')"
   ]
  },
  {
   "cell_type": "code",
   "execution_count": 4,
   "metadata": {},
   "outputs": [
    {
     "data": {
      "text/html": [
       "<div>\n",
       "<style scoped>\n",
       "    .dataframe tbody tr th:only-of-type {\n",
       "        vertical-align: middle;\n",
       "    }\n",
       "\n",
       "    .dataframe tbody tr th {\n",
       "        vertical-align: top;\n",
       "    }\n",
       "\n",
       "    .dataframe thead th {\n",
       "        text-align: right;\n",
       "    }\n",
       "</style>\n",
       "<table border=\"1\" class=\"dataframe\">\n",
       "  <thead>\n",
       "    <tr style=\"text-align: right;\">\n",
       "      <th></th>\n",
       "      <th>Frame</th>\n",
       "      <th>Sub Frame</th>\n",
       "      <th>RSHO_X</th>\n",
       "      <th>RSHO_Y</th>\n",
       "      <th>RSHO_Z</th>\n",
       "      <th>RUPA_X</th>\n",
       "      <th>RUPA_Y</th>\n",
       "      <th>RUPA_Z</th>\n",
       "      <th>RELB_X</th>\n",
       "      <th>RELB_Y</th>\n",
       "      <th>...</th>\n",
       "      <th>WRM2_Z</th>\n",
       "      <th>RWRA_X</th>\n",
       "      <th>RWRA_Y</th>\n",
       "      <th>RWRA_Z</th>\n",
       "      <th>RWRB_X</th>\n",
       "      <th>RWRB_Y</th>\n",
       "      <th>RWRB_Z</th>\n",
       "      <th>RFIN_X</th>\n",
       "      <th>RFIN_Y</th>\n",
       "      <th>RFIN_Z</th>\n",
       "    </tr>\n",
       "  </thead>\n",
       "  <tbody>\n",
       "    <tr>\n",
       "      <th>0</th>\n",
       "      <td>1.0</td>\n",
       "      <td>0.0</td>\n",
       "      <td>-163.988</td>\n",
       "      <td>1347.49</td>\n",
       "      <td>1544.01</td>\n",
       "      <td>-310.383</td>\n",
       "      <td>1353.91</td>\n",
       "      <td>1522.48</td>\n",
       "      <td>-425.044</td>\n",
       "      <td>1362.54</td>\n",
       "      <td>...</td>\n",
       "      <td>1535.79</td>\n",
       "      <td>-688.121</td>\n",
       "      <td>1274.76</td>\n",
       "      <td>1525.29</td>\n",
       "      <td>-690.515</td>\n",
       "      <td>1343.20</td>\n",
       "      <td>1511.00</td>\n",
       "      <td>-784.872</td>\n",
       "      <td>1318.92</td>\n",
       "      <td>1531.15</td>\n",
       "    </tr>\n",
       "    <tr>\n",
       "      <th>1</th>\n",
       "      <td>2.0</td>\n",
       "      <td>0.0</td>\n",
       "      <td>-163.998</td>\n",
       "      <td>1347.50</td>\n",
       "      <td>1543.99</td>\n",
       "      <td>-310.392</td>\n",
       "      <td>1353.90</td>\n",
       "      <td>1522.51</td>\n",
       "      <td>-425.070</td>\n",
       "      <td>1362.51</td>\n",
       "      <td>...</td>\n",
       "      <td>1535.93</td>\n",
       "      <td>-688.026</td>\n",
       "      <td>1274.66</td>\n",
       "      <td>1525.35</td>\n",
       "      <td>-690.536</td>\n",
       "      <td>1343.11</td>\n",
       "      <td>1511.16</td>\n",
       "      <td>-784.866</td>\n",
       "      <td>1318.77</td>\n",
       "      <td>1531.35</td>\n",
       "    </tr>\n",
       "    <tr>\n",
       "      <th>2</th>\n",
       "      <td>3.0</td>\n",
       "      <td>0.0</td>\n",
       "      <td>-164.012</td>\n",
       "      <td>1347.50</td>\n",
       "      <td>1544.01</td>\n",
       "      <td>-310.398</td>\n",
       "      <td>1353.89</td>\n",
       "      <td>1522.53</td>\n",
       "      <td>-425.071</td>\n",
       "      <td>1362.51</td>\n",
       "      <td>...</td>\n",
       "      <td>1536.06</td>\n",
       "      <td>-688.061</td>\n",
       "      <td>1274.56</td>\n",
       "      <td>1525.55</td>\n",
       "      <td>-690.548</td>\n",
       "      <td>1343.02</td>\n",
       "      <td>1511.31</td>\n",
       "      <td>-784.860</td>\n",
       "      <td>1318.64</td>\n",
       "      <td>1531.53</td>\n",
       "    </tr>\n",
       "    <tr>\n",
       "      <th>3</th>\n",
       "      <td>4.0</td>\n",
       "      <td>0.0</td>\n",
       "      <td>-164.033</td>\n",
       "      <td>1347.51</td>\n",
       "      <td>1544.00</td>\n",
       "      <td>-310.428</td>\n",
       "      <td>1353.91</td>\n",
       "      <td>1522.57</td>\n",
       "      <td>-425.082</td>\n",
       "      <td>1362.51</td>\n",
       "      <td>...</td>\n",
       "      <td>1536.21</td>\n",
       "      <td>-688.073</td>\n",
       "      <td>1274.46</td>\n",
       "      <td>1525.72</td>\n",
       "      <td>-690.562</td>\n",
       "      <td>1342.94</td>\n",
       "      <td>1511.47</td>\n",
       "      <td>-784.874</td>\n",
       "      <td>1318.53</td>\n",
       "      <td>1531.74</td>\n",
       "    </tr>\n",
       "    <tr>\n",
       "      <th>4</th>\n",
       "      <td>5.0</td>\n",
       "      <td>0.0</td>\n",
       "      <td>-164.066</td>\n",
       "      <td>1347.52</td>\n",
       "      <td>1544.02</td>\n",
       "      <td>-310.419</td>\n",
       "      <td>1353.91</td>\n",
       "      <td>1522.60</td>\n",
       "      <td>-425.093</td>\n",
       "      <td>1362.53</td>\n",
       "      <td>...</td>\n",
       "      <td>1536.38</td>\n",
       "      <td>-688.212</td>\n",
       "      <td>1275.64</td>\n",
       "      <td>1525.36</td>\n",
       "      <td>-690.568</td>\n",
       "      <td>1342.86</td>\n",
       "      <td>1511.63</td>\n",
       "      <td>-784.846</td>\n",
       "      <td>1318.43</td>\n",
       "      <td>1531.96</td>\n",
       "    </tr>\n",
       "    <tr>\n",
       "      <th>...</th>\n",
       "      <td>...</td>\n",
       "      <td>...</td>\n",
       "      <td>...</td>\n",
       "      <td>...</td>\n",
       "      <td>...</td>\n",
       "      <td>...</td>\n",
       "      <td>...</td>\n",
       "      <td>...</td>\n",
       "      <td>...</td>\n",
       "      <td>...</td>\n",
       "      <td>...</td>\n",
       "      <td>...</td>\n",
       "      <td>...</td>\n",
       "      <td>...</td>\n",
       "      <td>...</td>\n",
       "      <td>...</td>\n",
       "      <td>...</td>\n",
       "      <td>...</td>\n",
       "      <td>...</td>\n",
       "      <td>...</td>\n",
       "      <td>...</td>\n",
       "    </tr>\n",
       "    <tr>\n",
       "      <th>2695</th>\n",
       "      <td>2696.0</td>\n",
       "      <td>0.0</td>\n",
       "      <td>-155.393</td>\n",
       "      <td>1344.36</td>\n",
       "      <td>1547.35</td>\n",
       "      <td>-298.964</td>\n",
       "      <td>1369.38</td>\n",
       "      <td>1538.79</td>\n",
       "      <td>-415.303</td>\n",
       "      <td>1395.56</td>\n",
       "      <td>...</td>\n",
       "      <td>1591.56</td>\n",
       "      <td>-674.966</td>\n",
       "      <td>1322.16</td>\n",
       "      <td>1585.13</td>\n",
       "      <td>-676.913</td>\n",
       "      <td>1390.13</td>\n",
       "      <td>1570.80</td>\n",
       "      <td>-761.750</td>\n",
       "      <td>1369.76</td>\n",
       "      <td>1614.33</td>\n",
       "    </tr>\n",
       "    <tr>\n",
       "      <th>2696</th>\n",
       "      <td>2697.0</td>\n",
       "      <td>0.0</td>\n",
       "      <td>-155.509</td>\n",
       "      <td>1344.36</td>\n",
       "      <td>1547.38</td>\n",
       "      <td>-299.246</td>\n",
       "      <td>1368.82</td>\n",
       "      <td>1538.88</td>\n",
       "      <td>-415.590</td>\n",
       "      <td>1394.37</td>\n",
       "      <td>...</td>\n",
       "      <td>1590.19</td>\n",
       "      <td>-675.897</td>\n",
       "      <td>1322.25</td>\n",
       "      <td>1583.46</td>\n",
       "      <td>-677.305</td>\n",
       "      <td>1390.26</td>\n",
       "      <td>1569.33</td>\n",
       "      <td>-762.602</td>\n",
       "      <td>1370.09</td>\n",
       "      <td>1612.23</td>\n",
       "    </tr>\n",
       "    <tr>\n",
       "      <th>2697</th>\n",
       "      <td>2698.0</td>\n",
       "      <td>0.0</td>\n",
       "      <td>-155.658</td>\n",
       "      <td>1344.33</td>\n",
       "      <td>1547.39</td>\n",
       "      <td>-299.499</td>\n",
       "      <td>1368.24</td>\n",
       "      <td>1538.91</td>\n",
       "      <td>-415.925</td>\n",
       "      <td>1393.26</td>\n",
       "      <td>...</td>\n",
       "      <td>1588.91</td>\n",
       "      <td>-676.783</td>\n",
       "      <td>1322.34</td>\n",
       "      <td>1581.81</td>\n",
       "      <td>-677.630</td>\n",
       "      <td>1390.62</td>\n",
       "      <td>1567.96</td>\n",
       "      <td>-763.442</td>\n",
       "      <td>1370.21</td>\n",
       "      <td>1610.14</td>\n",
       "    </tr>\n",
       "    <tr>\n",
       "      <th>2698</th>\n",
       "      <td>2699.0</td>\n",
       "      <td>0.0</td>\n",
       "      <td>-155.752</td>\n",
       "      <td>1344.29</td>\n",
       "      <td>1547.35</td>\n",
       "      <td>-299.752</td>\n",
       "      <td>1367.69</td>\n",
       "      <td>1538.90</td>\n",
       "      <td>-416.242</td>\n",
       "      <td>1392.29</td>\n",
       "      <td>...</td>\n",
       "      <td>1587.57</td>\n",
       "      <td>-677.625</td>\n",
       "      <td>1322.41</td>\n",
       "      <td>1580.21</td>\n",
       "      <td>-677.795</td>\n",
       "      <td>1390.93</td>\n",
       "      <td>1566.85</td>\n",
       "      <td>-764.215</td>\n",
       "      <td>1370.54</td>\n",
       "      <td>1608.10</td>\n",
       "    </tr>\n",
       "    <tr>\n",
       "      <th>2699</th>\n",
       "      <td>2700.0</td>\n",
       "      <td>0.0</td>\n",
       "      <td>-155.976</td>\n",
       "      <td>1344.22</td>\n",
       "      <td>1547.41</td>\n",
       "      <td>-300.005</td>\n",
       "      <td>1367.17</td>\n",
       "      <td>1538.86</td>\n",
       "      <td>-416.546</td>\n",
       "      <td>1391.38</td>\n",
       "      <td>...</td>\n",
       "      <td>1586.20</td>\n",
       "      <td>-678.302</td>\n",
       "      <td>1322.41</td>\n",
       "      <td>1578.65</td>\n",
       "      <td>-678.136</td>\n",
       "      <td>1390.76</td>\n",
       "      <td>1565.34</td>\n",
       "      <td>-764.916</td>\n",
       "      <td>1370.85</td>\n",
       "      <td>1606.12</td>\n",
       "    </tr>\n",
       "  </tbody>\n",
       "</table>\n",
       "<p>2700 rows × 29 columns</p>\n",
       "</div>"
      ],
      "text/plain": [
       "       Frame  Sub Frame   RSHO_X   RSHO_Y   RSHO_Z   RUPA_X   RUPA_Y   RUPA_Z  \\\n",
       "0        1.0        0.0 -163.988  1347.49  1544.01 -310.383  1353.91  1522.48   \n",
       "1        2.0        0.0 -163.998  1347.50  1543.99 -310.392  1353.90  1522.51   \n",
       "2        3.0        0.0 -164.012  1347.50  1544.01 -310.398  1353.89  1522.53   \n",
       "3        4.0        0.0 -164.033  1347.51  1544.00 -310.428  1353.91  1522.57   \n",
       "4        5.0        0.0 -164.066  1347.52  1544.02 -310.419  1353.91  1522.60   \n",
       "...      ...        ...      ...      ...      ...      ...      ...      ...   \n",
       "2695  2696.0        0.0 -155.393  1344.36  1547.35 -298.964  1369.38  1538.79   \n",
       "2696  2697.0        0.0 -155.509  1344.36  1547.38 -299.246  1368.82  1538.88   \n",
       "2697  2698.0        0.0 -155.658  1344.33  1547.39 -299.499  1368.24  1538.91   \n",
       "2698  2699.0        0.0 -155.752  1344.29  1547.35 -299.752  1367.69  1538.90   \n",
       "2699  2700.0        0.0 -155.976  1344.22  1547.41 -300.005  1367.17  1538.86   \n",
       "\n",
       "       RELB_X   RELB_Y  ...   WRM2_Z   RWRA_X   RWRA_Y   RWRA_Z   RWRB_X  \\\n",
       "0    -425.044  1362.54  ...  1535.79 -688.121  1274.76  1525.29 -690.515   \n",
       "1    -425.070  1362.51  ...  1535.93 -688.026  1274.66  1525.35 -690.536   \n",
       "2    -425.071  1362.51  ...  1536.06 -688.061  1274.56  1525.55 -690.548   \n",
       "3    -425.082  1362.51  ...  1536.21 -688.073  1274.46  1525.72 -690.562   \n",
       "4    -425.093  1362.53  ...  1536.38 -688.212  1275.64  1525.36 -690.568   \n",
       "...       ...      ...  ...      ...      ...      ...      ...      ...   \n",
       "2695 -415.303  1395.56  ...  1591.56 -674.966  1322.16  1585.13 -676.913   \n",
       "2696 -415.590  1394.37  ...  1590.19 -675.897  1322.25  1583.46 -677.305   \n",
       "2697 -415.925  1393.26  ...  1588.91 -676.783  1322.34  1581.81 -677.630   \n",
       "2698 -416.242  1392.29  ...  1587.57 -677.625  1322.41  1580.21 -677.795   \n",
       "2699 -416.546  1391.38  ...  1586.20 -678.302  1322.41  1578.65 -678.136   \n",
       "\n",
       "       RWRB_Y   RWRB_Z   RFIN_X   RFIN_Y   RFIN_Z  \n",
       "0     1343.20  1511.00 -784.872  1318.92  1531.15  \n",
       "1     1343.11  1511.16 -784.866  1318.77  1531.35  \n",
       "2     1343.02  1511.31 -784.860  1318.64  1531.53  \n",
       "3     1342.94  1511.47 -784.874  1318.53  1531.74  \n",
       "4     1342.86  1511.63 -784.846  1318.43  1531.96  \n",
       "...       ...      ...      ...      ...      ...  \n",
       "2695  1390.13  1570.80 -761.750  1369.76  1614.33  \n",
       "2696  1390.26  1569.33 -762.602  1370.09  1612.23  \n",
       "2697  1390.62  1567.96 -763.442  1370.21  1610.14  \n",
       "2698  1390.93  1566.85 -764.215  1370.54  1608.10  \n",
       "2699  1390.76  1565.34 -764.916  1370.85  1606.12  \n",
       "\n",
       "[2700 rows x 29 columns]"
      ]
     },
     "execution_count": 4,
     "metadata": {},
     "output_type": "execute_result"
    }
   ],
   "source": [
    "marker_df"
   ]
  },
  {
   "cell_type": "markdown",
   "metadata": {},
   "source": [
    "## Finding RDTM"
   ]
  },
  {
   "cell_type": "code",
   "execution_count": 5,
   "metadata": {},
   "outputs": [
    {
     "data": {
      "text/plain": [
       "Index(['Frame', 'Sub Frame', 'RSHO_X', 'RSHO_Y', 'RSHO_Z', 'RUPA_X', 'RUPA_Y',\n",
       "       'RUPA_Z', 'RELB_X', 'RELB_Y', 'RELB_Z', 'RM1_X', 'RM1_Y', 'RM1_Z',\n",
       "       'RFRM_X', 'RFRM_Y', 'RFRM_Z', 'WRM2_X', 'WRM2_Y', 'WRM2_Z', 'RWRA_X',\n",
       "       'RWRA_Y', 'RWRA_Z', 'RWRB_X', 'RWRB_Y', 'RWRB_Z', 'RFIN_X', 'RFIN_Y',\n",
       "       'RFIN_Z'],\n",
       "      dtype='object')"
      ]
     },
     "execution_count": 5,
     "metadata": {},
     "output_type": "execute_result"
    }
   ],
   "source": [
    "marker_df.columns"
   ]
  },
  {
   "cell_type": "code",
   "execution_count": 6,
   "metadata": {},
   "outputs": [],
   "source": [
    "RFIN = marker_df[['RFIN_X', 'RFIN_Y','RFIN_Z']].values\n",
    "RWRA = marker_df[['RWRA_X','RWRA_Y', 'RWRA_Z']].values\n",
    "RWRB = marker_df[['RWRB_X', 'RWRB_Y','RWRB_Z']].values\n",
    "MID = (np.array(RWRB) + np.array(RWRA))/2"
   ]
  },
  {
   "cell_type": "markdown",
   "metadata": {},
   "source": [
    "## Find RDTM of One Frame"
   ]
  },
  {
   "cell_type": "code",
   "execution_count": 7,
   "metadata": {},
   "outputs": [],
   "source": [
    "import Geometry3D as G3D\n",
    "from math import sin, cos, radians"
   ]
  },
  {
   "cell_type": "code",
   "execution_count": 8,
   "metadata": {},
   "outputs": [],
   "source": [
    "A = RFIN[0]\n",
    "B = MID[0]\n",
    "D = RWRB[0]\n",
    "E = RWRA[0]\n",
    "theta = radians(30) # degrees"
   ]
  },
  {
   "cell_type": "code",
   "execution_count": 61,
   "metadata": {},
   "outputs": [],
   "source": [
    "pA = G3D.Point(A[0],A[1],A[2])\n",
    "pB = G3D.Point(B[0],B[1],B[2])\n",
    "pD = G3D.Point(D[0],D[1],D[2])\n",
    "pE = G3D.Point(E[0],E[1],E[2])\n",
    "plane = G3D.Plane(pA,pB,pD)"
   ]
  },
  {
   "cell_type": "code",
   "execution_count": 62,
   "metadata": {},
   "outputs": [],
   "source": [
    "## EQ of Line AC - lv,mv,nv\n",
    "BD = G3D.Line(pB,pD)\n",
    "lv,mv,nv = BD.dv"
   ]
  },
  {
   "cell_type": "code",
   "execution_count": 63,
   "metadata": {},
   "outputs": [],
   "source": [
    "## EQ of Line BC - l,m,n\n",
    "a,b,c,d = plane.general_form()"
   ]
  },
  {
   "cell_type": "code",
   "execution_count": 64,
   "metadata": {},
   "outputs": [],
   "source": [
    "m = (cos(theta) - sin(theta)*b*lv/nv - (sin(theta)*a*lv**2)/nv*mv - sin(theta)*nv/mv)\n",
    "m = m / ((lv**2 + mv**3 + nv**2)/mv)\n",
    "l = sin(theta)*b/nv + lv*sin(theta)*a/(nv*mv) + lv*m/mv\n",
    "n = (sin(theta)*a + nv*m)/mv"
   ]
  },
  {
   "cell_type": "code",
   "execution_count": 49,
   "metadata": {},
   "outputs": [],
   "source": [
    "y = (pA.x - pA.y*lv/mv + pB.y*l/m - pB.x)*(l/m - lv/mv)\n",
    "x = (y*l - pB.y*l)/m + pB.x\n",
    "# x = (y*lv - pA.y*lv)/m + pA.x\n",
    "z = (nv*y - pA.y*nv)/mv + pA.z"
   ]
  },
  {
   "cell_type": "code",
   "execution_count": 68,
   "metadata": {},
   "outputs": [
    {
     "data": {
      "text/plain": [
       "Point(-784.8216771794785, 1317.481364312244, 1531.4503814140567)"
      ]
     },
     "execution_count": 68,
     "metadata": {},
     "output_type": "execute_result"
    }
   ],
   "source": [
    "ac = G3D.Vector([lv,mv,nv])\n",
    "bc = G3D.Vector([l,m,n])\n",
    "line_AC = G3D.Line(pA,ac)\n",
    "line_BC = G3D.Line(pB,bc)\n",
    "G3D.intersection(line_AC,line_BC)"
   ]
  },
  {
   "cell_type": "code",
   "execution_count": 9,
   "metadata": {},
   "outputs": [],
   "source": [
    "def get_RDTM(A,B,D,theta):\n",
    "    pA = G3D.Point(A[0],A[1],A[2])\n",
    "    pB = G3D.Point(B[0],B[1],B[2])\n",
    "    pD = G3D.Point(D[0],D[1],D[2])\n",
    "    \n",
    "    plane = G3D.Plane(pA,pB,pD)\n",
    "    a,b,c,d = plane.general_form()\n",
    "    \n",
    "    BD = G3D.Line(pB,pD)\n",
    "    lv,mv,nv = BD.dv\n",
    "\n",
    "    m = (cos(theta) - sin(theta)*b*lv/nv - (sin(theta)*a*lv**2)/nv*mv - sin(theta)*nv/mv)\n",
    "    m = m / ((lv**2 + mv**3 + nv**2)/mv)\n",
    "    l = sin(theta)*b/nv + lv*sin(theta)*a/(nv*mv) + lv*m/mv\n",
    "    n = (sin(theta)*a + nv*m)/mv\n",
    "    \n",
    "    ac = G3D.Vector([lv,mv,nv])\n",
    "    bc = G3D.Vector([l,m,n])\n",
    "    line_AC = G3D.Line(pA,ac)\n",
    "    line_BC = G3D.Line(pB,bc)\n",
    "    \n",
    "    return G3D.intersection(line_AC,line_BC)\n",
    "    "
   ]
  },
  {
   "cell_type": "code",
   "execution_count": 10,
   "metadata": {},
   "outputs": [
    {
     "data": {
      "text/plain": [
       "Point(-784.8216771794785, 1317.481364312244, 1531.4503814140567)"
      ]
     },
     "execution_count": 10,
     "metadata": {},
     "output_type": "execute_result"
    }
   ],
   "source": [
    "get_RDTM(A,B,D,theta)"
   ]
  },
  {
   "cell_type": "code",
   "execution_count": 11,
   "metadata": {},
   "outputs": [
    {
     "data": {
      "text/plain": [
       "Point(-784.653399580928, 1312.670621269304, 1532.4548454421633)"
      ]
     },
     "execution_count": 11,
     "metadata": {},
     "output_type": "execute_result"
    }
   ],
   "source": [
    "get_RDTM(A,B,D,90-theta)"
   ]
  },
  {
   "cell_type": "markdown",
   "metadata": {},
   "source": [
    "## RDTM Angles"
   ]
  },
  {
   "cell_type": "code",
   "execution_count": 26,
   "metadata": {},
   "outputs": [],
   "source": [
    "def get_RDTM_df(marker_df, theta):\n",
    "    RFIN = marker_df[['RFIN_X', 'RFIN_Y','RFIN_Z']].values\n",
    "    RWRB = marker_df[['RWRB_X', 'RWRB_Y','RWRB_Z']].values\n",
    "    WRM2 = marker_df[['WRM2_X', 'WRM2_Y','WRM2_Z']].values\n",
    "    MID = (np.array(RWRB) + np.array(RWRA))/2\n",
    "    theta = radians(30) # degrees\n",
    "\n",
    "    A_all= RFIN\n",
    "    B_all= MID\n",
    "    D_all= RWRB\n",
    "\n",
    "    RDTM_all = []\n",
    "    for i in range(marker_df.shape[0]):\n",
    "        A = A_all[i]\n",
    "        B = B_all[i]\n",
    "        D = D_all[i]\n",
    "        rdtm = [get_RDTM(A,B,D,theta).x, get_RDTM(A,B,D,theta).y, get_RDTM(A,B,D,theta).z]\n",
    "        RDTM_all.append(rdtm)\n",
    "\n",
    "    return np.array(RDTM_all)"
   ]
  },
  {
   "cell_type": "code",
   "execution_count": 27,
   "metadata": {},
   "outputs": [],
   "source": [
    "def angles_lines(p1,p2,mid,deg=False):\n",
    "    u = np.array(p1)-np.array(mid)\n",
    "    v = np.array(p2)-np.array(mid)\n",
    "    i1,j1,k1 = u[:,0],u[:,1],u[:,2]\n",
    "    i2,j2,k2 = v[:,0],v[:,1],v[:,2]\n",
    "    angles = []\n",
    "    for t in range(len(i1)):\n",
    "        cos_t = abs(i1[t]*i2[t]+j1[t]*j2[t]+k1[t]*k2[t])\n",
    "        cos_t = cos_t/(sqrt(i1[t]**2+j1[t]**2+k1[t]**2)*sqrt(i2[t]**2+j2[t]**2+k2[t]**2))\n",
    "        if deg==False:\n",
    "            angles.append(acos(cos_t))  \n",
    "        if deg==True:\n",
    "            angles.append(degrees(acos(cos_t)))\n",
    "    return np.array(angles)"
   ]
  },
  {
   "cell_type": "code",
   "execution_count": 31,
   "metadata": {},
   "outputs": [
    {
     "data": {
      "text/plain": [
       "(2700, 3)"
      ]
     },
     "execution_count": 31,
     "metadata": {},
     "output_type": "execute_result"
    }
   ],
   "source": [
    "all_RDTM = get_RDTM_df(marker_df, 30)\n",
    "all_RDTM.shape"
   ]
  },
  {
   "cell_type": "code",
   "execution_count": 32,
   "metadata": {},
   "outputs": [],
   "source": [
    "WRM2 = marker_df[['WRM2_X', 'WRM2_Y','WRM2_Z']].values\n",
    "MID = (np.array(RWRB) + np.array(RWRA))/2\n",
    "dtm_anles = angles_lines(all_RDTM,WRM2,MID,deg=True)"
   ]
  },
  {
   "cell_type": "code",
   "execution_count": 33,
   "metadata": {},
   "outputs": [
    {
     "data": {
      "text/plain": [
       "[<matplotlib.lines.Line2D at 0x259201b9100>]"
      ]
     },
     "execution_count": 33,
     "metadata": {},
     "output_type": "execute_result"
    },
    {
     "data": {
      "image/png": "[encoded data removed]",
      "text/plain": [
       "<Figure size 720x432 with 1 Axes>"
      ]
     },
     "metadata": {
      "needs_background": "light"
     },
     "output_type": "display_data"
    }
   ],
   "source": [
    "plt.figure(figsize=(10,6))\n",
    "plt.plot(dtm_anles)"
   ]
  },
  {
   "cell_type": "code",
   "execution_count": null,
   "metadata": {},
   "outputs": [],
   "source": []
  }
 ],
 "metadata": {
  "kernelspec": {
   "display_name": "Python 3.8.0 64-bit",
   "language": "python",
   "name": "python38064bitcaed634bb72a48a5bf9eda0dc4f94389"
  },
  "language_info": {
   "codemirror_mode": {
    "name": "ipython",
    "version": 3
   },
   "file_extension": ".py",
   "mimetype": "text/x-python",
   "name": "python",
   "nbconvert_exporter": "python",
   "pygments_lexer": "ipython3",
   "version": "3.8.5"
  }
 },
 "nbformat": 4,
 "nbformat_minor": 4
}
