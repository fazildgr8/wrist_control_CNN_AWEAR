{
 "cells": [
  {
   "cell_type": "code",
   "execution_count": 1,
   "metadata": {},
   "outputs": [],
   "source": [
    "import numpy as np\n",
    "import pandas as pd\n",
    "from math import sqrt,acos,degrees\n",
    "import matplotlib.pyplot as plt\n",
    "import csv\n",
    "from wrist_data_computations import extract_dataframes"
   ]
  },
  {
   "cell_type": "code",
   "execution_count": 59,
   "metadata": {},
   "outputs": [],
   "source": [
    "def direction_labels(array,interval=50,movements=None):\n",
    "    \"\"\"\n",
    "    0 - No Motion\n",
    "    1 - Positive Direction\n",
    "    2 - Negative Direction\n",
    "    \"\"\"\n",
    "    labels = []\n",
    "    diff_arr = difference(array,interval)\n",
    "    data_len = len(array)\n",
    "    len_diff = int(data_len - len(diff_arr))\n",
    "    for diff in diff_arr:\n",
    "        if(abs(diff)<5):\n",
    "            labels.append(0)\n",
    "        elif(diff>0):\n",
    "            labels.append(1)\n",
    "        elif(diff<0):\n",
    "            labels.append(2)\n",
    "    # Balencing\n",
    "    if(len_diff%2==0):\n",
    "        nd = int(len_diff/2)\n",
    "        labels = [labels[0]]*nd + labels\n",
    "        labels = labels + [labels[-1]]*nd\n",
    "    else:\n",
    "        nd = int((len_diff+1)/2)\n",
    "        labels = [labels[0]]*nd + labels\n",
    "        labels = labels + [labels[-1]]*nd \n",
    "        labels = labels[1:]\n",
    "    \n",
    "    if(movements==None):\n",
    "        return np.array(labels)\n",
    "    else:\n",
    "        movement_labels = []\n",
    "        hot_labels = labels\n",
    "        for lb in labels:\n",
    "            movement_labels.append(movements[lb])\n",
    "        return hot_labels,movement_labels\n",
    "    \n",
    "def difference(dataset, interval=1):\n",
    "\tdiff = list()\n",
    "\tfor i in range(interval, len(dataset)):\n",
    "\t\tvalue = dataset[i] - dataset[i - interval]\n",
    "\t\tdiff.append(value)\n",
    "\treturn diff"
   ]
  },
  {
   "cell_type": "code",
   "execution_count": 65,
   "metadata": {},
   "outputs": [],
   "source": [
    "def resample_series(data,sr_origin,sr_new):\n",
    "    \"\"\"\n",
    "    Upsamples Series Vector to required Freq(Hz)\n",
    "    data - Series 1D Array\n",
    "    sr_origin - Origin Sampling Rate\n",
    "    sr_new - New Sampling Rate\n",
    "    \"\"\"\n",
    "    dt = pd.Series(data)\n",
    "    dt.index = pd.to_datetime(dt.index*(int((sr_origin/10)**7)))\n",
    "    dt2 = dt.resample(str(1/sample_rate)+'S').ffill()\n",
    "    len_diff = len(dt)*(sr_new/sr_origin) - len(dt2)\n",
    "    dt2_list = list(np.array(dt2))\n",
    "    resampled_array = None\n",
    "    print(len_diff)\n",
    "    # Balencing\n",
    "    if(len_diff%2==0):\n",
    "        nd = int(len_diff/2)\n",
    "        resampled_array = [dt2_list[0]]*nd + dt2_list\n",
    "        resampled_array = resampled_array + [dt2_list[-1]]*nd\n",
    "    else:\n",
    "        nd = int((len_diff+1)/2)\n",
    "        resampled_array = [dt2_list[0]]*nd + dt2_list\n",
    "        resampled_array = resampled_array + [dt2_list[-1]]*nd\n",
    "        resampled_array = resampled_array[1:]\n",
    "    return np.array(resampled_array)\n",
    "    \n",
    "    "
   ]
  },
  {
   "cell_type": "markdown",
   "metadata": {},
   "source": [
    "## Testing Section"
   ]
  },
  {
   "cell_type": "code",
   "execution_count": 36,
   "metadata": {},
   "outputs": [],
   "source": [
    "path = 'Fazil/day_04_14_21'\n",
    "file = 'Hammer.csv'\n",
    "emg_df,marker_df, angles_df = extract_dataframes(path,file)"
   ]
  },
  {
   "cell_type": "code",
   "execution_count": 37,
   "metadata": {},
   "outputs": [
    {
     "data": {
      "text/plain": [
       "2800"
      ]
     },
     "execution_count": 37,
     "metadata": {},
     "output_type": "execute_result"
    }
   ],
   "source": [
    "flexions = np.array(angles_df['Flexion_Angle'])\n",
    "flexion_labels = direction_labels(flexions)\n",
    "len(flexion_labels)"
   ]
  },
  {
   "cell_type": "code",
   "execution_count": 61,
   "metadata": {},
   "outputs": [
    {
     "name": "stdout",
     "output_type": "stream",
     "text": [
      "19.0\n"
     ]
    },
    {
     "data": {
      "text/plain": [
       "array([32.61810052, 32.61810052, 32.61810052, ..., 30.2923839 ,\n",
       "       30.2923839 , 30.2923839 ])"
      ]
     },
     "execution_count": 61,
     "metadata": {},
     "output_type": "execute_result"
    }
   ],
   "source": [
    "sample_rate = 2000 # Hz\n",
    "sr_origin = 100 # Hz\n",
    "resamp_flexions=resample_series(flexions,100,2000)\n",
    "resamp_flexions"
   ]
  },
  {
   "cell_type": "code",
   "execution_count": 62,
   "metadata": {},
   "outputs": [
    {
     "data": {
      "text/plain": [
       "2800"
      ]
     },
     "execution_count": 62,
     "metadata": {},
     "output_type": "execute_result"
    }
   ],
   "source": [
    "len(flexions)"
   ]
  },
  {
   "cell_type": "code",
   "execution_count": 63,
   "metadata": {},
   "outputs": [
    {
     "data": {
      "text/plain": [
       "56000"
      ]
     },
     "execution_count": 63,
     "metadata": {},
     "output_type": "execute_result"
    }
   ],
   "source": [
    "len(resamp_flexions)"
   ]
  },
  {
   "cell_type": "code",
   "execution_count": null,
   "metadata": {},
   "outputs": [],
   "source": []
  }
 ],
 "metadata": {
  "kernelspec": {
   "display_name": "Python 3.8.0 64-bit",
   "language": "python",
   "name": "python38064bitcaed634bb72a48a5bf9eda0dc4f94389"
  },
  "language_info": {
   "codemirror_mode": {
    "name": "ipython",
    "version": 3
   },
   "file_extension": ".py",
   "mimetype": "text/x-python",
   "name": "python",
   "nbconvert_exporter": "python",
   "pygments_lexer": "ipython3",
   "version": "3.8.5"
  }
 },
 "nbformat": 4,
 "nbformat_minor": 4
}
