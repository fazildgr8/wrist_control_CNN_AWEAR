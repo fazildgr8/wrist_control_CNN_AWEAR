{
 "cells": [
  {
   "cell_type": "markdown",
   "metadata": {},
   "source": [
    "# CNN Regression Model"
   ]
  },
  {
   "cell_type": "code",
   "execution_count": null,
   "metadata": {},
   "outputs": [],
   "source": [
    "import pandas as pd\n",
    "from Data_preparation_Library import *\n",
    "import numpy as np\n",
    "import matplotlib.pyplot as plt\n",
    "from tqdm.notebook import tqdm\n",
    "from time import time\n",
    "from sklearn.model_selection import train_test_split\n",
    "from tensorflow.keras.models import load_model\n",
    "from random import choice\n",
    "from scipy import signal\n",
    "from pickle import load,dump\n",
    "import math\n",
    "from scipy.stats import pearsonr\n",
    "from sklearn.metrics import mean_squared_error"
   ]
  },
  {
   "cell_type": "markdown",
   "metadata": {},
   "source": [
    "## Sample"
   ]
  },
  {
   "cell_type": "code",
   "execution_count": null,
   "metadata": {},
   "outputs": [],
   "source": [
    "file = 'Subjects/Fazil/day_04_24_21/computed_Bulb.csv'\n",
    "emg_labels = ['EMG1','EMG2','EMG3','EMG4','EMG5','EMG6','EMG7','EMG8']\n",
    "angle_lables = ['Flexion_Angle'] # 'Pronation_Angle','Flexion_Angle',  'Radial_Angle','Elbow_Joint_Angle'\n",
    "df = pd.read_csv(file,index_col=0)\n",
    "df[angle_lables].plot(figsize=(16,5),title=file,grid=True,xticks=np.linspace(0,len(df),5))\n",
    "\n",
    "arr = np.diff([0]+list(df['Pronation_Angle']))\n",
    "# arr = arr/df.index\n",
    "b,a = signal.butter(1, 1,fs=2000)\n",
    "arr = signal.lfilter(b, a,arr)\n",
    "pd.DataFrame(arr[1000:]).plot(figsize=(16,5),title='Velocity',grid=True,xticks=np.linspace(0,len(df),5))"
   ]
  },
  {
   "cell_type": "markdown",
   "metadata": {},
   "source": [
    "## Prep Data"
   ]
  },
  {
   "cell_type": "code",
   "execution_count": 3,
   "metadata": {},
   "outputs": [],
   "source": [
    "window = 400"
   ]
  },
  {
   "cell_type": "code",
   "execution_count": 4,
   "metadata": {},
   "outputs": [
    {
     "data": {
      "text/plain": [
       "['Subjects/Fazil/day_04_24_21/computed_Bulb.csv',\n",
       " 'Subjects/Fazil/day_04_24_21/computed_Bulb01.csv',\n",
       " 'Subjects/Fazil/day_04_24_21/computed_Bulb02.csv',\n",
       " 'Subjects/Fazil/day_04_24_21/computed_Hammer.csv',\n",
       " 'Subjects/Fazil/day_04_24_21/computed_Hammer01.csv',\n",
       " 'Subjects/Fazil/day_04_24_21/computed_Hammer02.csv',\n",
       " 'Subjects/Fazil/day_04_24_21/computed_Cup.csv',\n",
       " 'Subjects/Fazil/day_04_24_21/computed_Cup01.csv',\n",
       " 'Subjects/Fazil/day_04_24_21/computed_Cup02.csv',\n",
       " 'Subjects/Fazil/day_04_24_21/computed_Screw.csv',\n",
       " 'Subjects/Fazil/day_04_24_21/computed_Screw01.csv',\n",
       " 'Subjects/Fazil/day_04_24_21/computed_Screw02.csv',\n",
       " 'Subjects/Nikhil/day_05_13_21/computed_Bulb.csv',\n",
       " 'Subjects/Nikhil/day_05_13_21/computed_Bulb01.csv',\n",
       " 'Subjects/Nikhil/day_05_13_21/computed_Bulb02.csv',\n",
       " 'Subjects/Nikhil/day_05_13_21/computed_Hammer.csv',\n",
       " 'Subjects/Nikhil/day_05_13_21/computed_Hammer01.csv',\n",
       " 'Subjects/Nikhil/day_05_13_21/computed_Hammer02.csv',\n",
       " 'Subjects/Nikhil/day_05_13_21/computed_Cup.csv',\n",
       " 'Subjects/Nikhil/day_05_13_21/computed_Cup01.csv',\n",
       " 'Subjects/Nikhil/day_05_13_21/computed_Cup02.csv',\n",
       " 'Subjects/Nikhil/day_05_13_21/computed_Screw.csv',\n",
       " 'Subjects/Nikhil/day_05_13_21/computed_Screw01.csv',\n",
       " 'Subjects/Nikhil/day_05_13_21/computed_Screw02.csv']"
      ]
     },
     "execution_count": 4,
     "metadata": {},
     "output_type": "execute_result"
    }
   ],
   "source": [
    "files = []\n",
    "subjects = ['Fazil/day_04_24_21','Nikhil/day_05_13_21'] #'Fazil/day_04_14_21'\n",
    "for subj in subjects:\n",
    "    path = 'Subjects/'+subj\n",
    "    # trial_names = ['Bulb','Hammer'] # 'Bulb','Hammer' ,'Cup','Screw'\n",
    "    trial_names = ['Bulb','Hammer' ,'Cup','Screw'] #,\n",
    "    for exp in trial_names:\n",
    "        for i in range(3):\n",
    "            if(i==0):\n",
    "                files.append(path+'/computed_'+exp+'.csv')\n",
    "            else:\n",
    "                files.append(path+'/computed_'+exp+'0'+str(i)+'.csv')\n",
    "files"
   ]
  },
  {
   "cell_type": "code",
   "execution_count": 5,
   "metadata": {},
   "outputs": [],
   "source": [
    "files = files[1:]"
   ]
  },
  {
   "cell_type": "code",
   "execution_count": 6,
   "metadata": {},
   "outputs": [],
   "source": [
    "files_df = []\n",
    "for file in files:\n",
    "    files_df.append(pd.read_csv(file,index_col=0))"
   ]
  },
  {
   "cell_type": "code",
   "execution_count": 7,
   "metadata": {},
   "outputs": [],
   "source": [
    "files_df = filter_df(files_df)"
   ]
  },
  {
   "cell_type": "code",
   "execution_count": 8,
   "metadata": {},
   "outputs": [
    {
     "data": {
      "application/vnd.jupyter.widget-view+json": {
       "model_id": "0c8aec3aaf244678a060ec6c8acf4cb5",
       "version_major": 2,
       "version_minor": 0
      },
      "text/plain": [
       "HBox(children=(FloatProgress(value=0.0, max=23.0), HTML(value='')))"
      ]
     },
     "metadata": {},
     "output_type": "display_data"
    },
    {
     "name": "stdout",
     "output_type": "stream",
     "text": [
      "\n"
     ]
    },
    {
     "data": {
      "text/plain": [
       "(142280, 400, 8)"
      ]
     },
     "execution_count": 8,
     "metadata": {},
     "output_type": "execute_result"
    }
   ],
   "source": [
    "X, y = multiple_prep_data_velocity(files_df,window,interval=10,Normalize=False,rms=False,angle_label ='Pronation_Angle')\n",
    "X.shape"
   ]
  },
  {
   "cell_type": "markdown",
   "metadata": {},
   "source": [
    "## Time Window Normalize"
   ]
  },
  {
   "cell_type": "code",
   "execution_count": 9,
   "metadata": {},
   "outputs": [],
   "source": [
    "X_mean = np.zeros(X[0].shape)\n",
    "for x in X:\n",
    "    X_mean = X_mean + x\n",
    "X_mean = X_mean/X.shape[0]\n",
    "X_std = np.sqrt(variance(X))\n",
    "np.save('mean_std',np.array([X_mean,X_std]))"
   ]
  },
  {
   "cell_type": "code",
   "execution_count": 10,
   "metadata": {},
   "outputs": [
    {
     "data": {
      "application/vnd.jupyter.widget-view+json": {
       "model_id": "c283f674c596420499bfbb2770812189",
       "version_major": 2,
       "version_minor": 0
      },
      "text/plain": [
       "HBox(children=(FloatProgress(value=0.0, max=142280.0), HTML(value='')))"
      ]
     },
     "metadata": {},
     "output_type": "display_data"
    },
    {
     "name": "stdout",
     "output_type": "stream",
     "text": [
      "\n"
     ]
    }
   ],
   "source": [
    "X_new = []\n",
    "for x in tqdm(X):\n",
    "    X_new.append((x-X_mean)/X_std)\n",
    "X = np.array(X_new)"
   ]
  },
  {
   "cell_type": "markdown",
   "metadata": {},
   "source": [
    "## Test Train Split"
   ]
  },
  {
   "cell_type": "code",
   "execution_count": 11,
   "metadata": {},
   "outputs": [
    {
     "name": "stdout",
     "output_type": "stream",
     "text": [
      "(113824, 400, 8)\n",
      "(28456, 400, 8)\n",
      "(113824, 1)\n",
      "(28456, 1)\n"
     ]
    }
   ],
   "source": [
    "X_train, X_test, y_train, y_test = train_test_split(X, y,test_size=0.2)\n",
    "for data in [X_train, X_test, y_train, y_test]:\n",
    "    print(data.shape)"
   ]
  },
  {
   "cell_type": "markdown",
   "metadata": {},
   "source": [
    "# Neural Network Regression"
   ]
  },
  {
   "cell_type": "code",
   "execution_count": 45,
   "metadata": {
    "scrolled": true
   },
   "outputs": [],
   "source": [
    "from tensorflow.keras.models import Sequential\n",
    "from tensorflow.keras.layers import Dense\n",
    "from tensorflow.keras.layers import Flatten\n",
    "from tensorflow.keras.layers import Dropout\n",
    "from tensorflow.keras.layers import Conv1D\n",
    "from tensorflow.keras.layers import MaxPooling1D\n",
    "from tensorflow.keras.optimizers import SGD\n",
    "from tensorflow.keras.utils import to_categorical\n",
    "from tensorflow import keras\n",
    "n_outputs = 1"
   ]
  },
  {
   "cell_type": "code",
   "execution_count": 138,
   "metadata": {
    "scrolled": true
   },
   "outputs": [
    {
     "name": "stdout",
     "output_type": "stream",
     "text": [
      "Model: \"sequential_8\"\n",
      "_________________________________________________________________\n",
      "Layer (type)                 Output Shape              Param #   \n",
      "=================================================================\n",
      "conv1d_48 (Conv1D)           (None, 398, 64)           1600      \n",
      "_________________________________________________________________\n",
      "conv1d_49 (Conv1D)           (None, 396, 64)           12352     \n",
      "_________________________________________________________________\n",
      "dropout_8 (Dropout)          (None, 396, 64)           0         \n",
      "_________________________________________________________________\n",
      "conv1d_50 (Conv1D)           (None, 394, 64)           12352     \n",
      "_________________________________________________________________\n",
      "conv1d_51 (Conv1D)           (None, 392, 8)            1544      \n",
      "_________________________________________________________________\n",
      "dropout_9 (Dropout)          (None, 392, 8)            0         \n",
      "_________________________________________________________________\n",
      "flatten_8 (Flatten)          (None, 3136)              0         \n",
      "_________________________________________________________________\n",
      "dense_14 (Dense)             (None, 1)                 3137      \n",
      "=================================================================\n",
      "Total params: 30,985\n",
      "Trainable params: 30,985\n",
      "Non-trainable params: 0\n",
      "_________________________________________________________________\n"
     ]
    }
   ],
   "source": [
    "n_outputs = 1\n",
    "in_shape = (X.shape[1],X.shape[2])\n",
    "\n",
    "model = Sequential()\n",
    "model.add(Conv1D(filters=64, kernel_size=3, activation='relu', input_shape=in_shape))\n",
    "model.add(Conv1D(filters=64, kernel_size=3, activation='relu'))\n",
    "model.add(Dropout(0.5))\n",
    "model.add(Conv1D(filters=64, kernel_size=3, activation='relu'))\n",
    "# model.add(Conv1D(filters=64, kernel_size=3, activation='relu'))\n",
    "# model.add(Conv1D(filters=64, kernel_size=3, activation='relu'))\n",
    "# model.add(Conv1D(filters=64, kernel_size=3, activation='relu'))\n",
    "\n",
    "model.add(Conv1D(filters=8, kernel_size=3, activation='relu'))\n",
    "# model.add(Conv1D(filters=32, kernel_size=3, activation='relu'))\n",
    "model.add(Dropout(0.5))\n",
    "# model.add(MaxPooling1D(pool_size=2))\n",
    "model.add(Flatten())\n",
    "# model.add(Dense(10,activation='relu'))\n",
    "model.add(Dense(n_outputs))\n",
    "\n",
    "model.compile(loss='mean_squared_error', optimizer='adam')\n",
    "model.summary()"
   ]
  },
  {
   "cell_type": "code",
   "execution_count": null,
   "metadata": {},
   "outputs": [],
   "source": [
    "model = load_model('models/prosup_velocity_model_{}.hdf5'.format(window))"
   ]
  },
  {
   "cell_type": "code",
   "execution_count": 139,
   "metadata": {
    "scrolled": true
   },
   "outputs": [
    {
     "name": "stdout",
     "output_type": "stream",
     "text": [
      "Epoch 1/25\n",
      "29/29 [==============================] - 10s 298ms/step - loss: 0.9936 - val_loss: 1.0517\n",
      "Epoch 2/25\n",
      "29/29 [==============================] - 8s 287ms/step - loss: 0.9870 - val_loss: 1.0508\n",
      "Epoch 3/25\n",
      "29/29 [==============================] - 8s 290ms/step - loss: 0.9725 - val_loss: 1.0148\n",
      "Epoch 4/25\n",
      "29/29 [==============================] - 8s 290ms/step - loss: 0.9521 - val_loss: 0.9997\n",
      "Epoch 5/25\n",
      "29/29 [==============================] - 8s 291ms/step - loss: 0.9379 - val_loss: 0.9892\n",
      "Epoch 6/25\n",
      "29/29 [==============================] - 8s 293ms/step - loss: 0.9285 - val_loss: 0.9816\n",
      "Epoch 7/25\n",
      "29/29 [==============================] - 9s 296ms/step - loss: 0.9067 - val_loss: 0.9440\n",
      "Epoch 8/25\n",
      "29/29 [==============================] - 9s 299ms/step - loss: 0.8750 - val_loss: 0.8843\n",
      "Epoch 9/25\n",
      "29/29 [==============================] - 9s 308ms/step - loss: 0.8270 - val_loss: 0.8633\n",
      "Epoch 10/25\n",
      "29/29 [==============================] - 9s 322ms/step - loss: 0.7875 - val_loss: 0.7987\n",
      "Epoch 11/25\n",
      "29/29 [==============================] - 10s 341ms/step - loss: 0.7528 - val_loss: 0.7553\n",
      "Epoch 12/25\n",
      "29/29 [==============================] - 10s 352ms/step - loss: 0.7169 - val_loss: 0.7192\n",
      "Epoch 13/25\n",
      "29/29 [==============================] - 10s 355ms/step - loss: 0.6893 - val_loss: 0.6904\n",
      "Epoch 14/25\n",
      "29/29 [==============================] - 10s 356ms/step - loss: 0.6685 - val_loss: 0.6720\n",
      "Epoch 15/25\n",
      "29/29 [==============================] - 10s 361ms/step - loss: 0.6453 - val_loss: 0.6866\n",
      "Epoch 16/25\n",
      "29/29 [==============================] - 11s 366ms/step - loss: 0.6359 - val_loss: 0.6289\n",
      "Epoch 17/25\n",
      "29/29 [==============================] - 11s 371ms/step - loss: 0.6134 - val_loss: 0.5977\n",
      "Epoch 18/25\n",
      "29/29 [==============================] - 11s 368ms/step - loss: 0.5928 - val_loss: 0.5708\n",
      "Epoch 19/25\n",
      "29/29 [==============================] - 11s 373ms/step - loss: 0.5821 - val_loss: 0.5702\n",
      "Epoch 20/25\n",
      "29/29 [==============================] - 11s 373ms/step - loss: 0.5579 - val_loss: 0.5499\n",
      "Epoch 21/25\n",
      "29/29 [==============================] - 11s 374ms/step - loss: 0.5507 - val_loss: 0.5501\n",
      "Epoch 22/25\n",
      "29/29 [==============================] - 11s 365ms/step - loss: 0.5483 - val_loss: 0.5307\n",
      "Epoch 23/25\n",
      "29/29 [==============================] - 11s 387ms/step - loss: 0.5241 - val_loss: 0.5098\n",
      "Epoch 24/25\n",
      "29/29 [==============================] - 11s 378ms/step - loss: 0.5099 - val_loss: 0.5052\n",
      "Epoch 25/25\n",
      "29/29 [==============================] - 11s 376ms/step - loss: 0.4982 - val_loss: 0.4705\n"
     ]
    }
   ],
   "source": [
    "cnn_history=model.fit(X_train,y_train,epochs = 25,batch_size = 4000,validation_data = (X_test,y_test) )"
   ]
  },
  {
   "cell_type": "code",
   "execution_count": 124,
   "metadata": {},
   "outputs": [],
   "source": [
    "model.save('models/prosup_velocity_model_{}.hdf5'.format(window))"
   ]
  },
  {
   "cell_type": "code",
   "execution_count": 140,
   "metadata": {},
   "outputs": [
    {
     "data": {
      "image/png": "[encoded data removed]",
      "text/plain": [
       "<Figure size 720x432 with 1 Axes>"
      ]
     },
     "metadata": {
      "needs_background": "light"
     },
     "output_type": "display_data"
    }
   ],
   "source": [
    "plot_model(cnn_history)"
   ]
  },
  {
   "cell_type": "code",
   "execution_count": 141,
   "metadata": {},
   "outputs": [],
   "source": [
    "import matplotlib.pyplot as plt\n",
    "def plot_model(history):\n",
    "#     plt.figure(figsize=(10,6))\n",
    "#     plt.plot(history.history['root_mean_squared_error'][1:])\n",
    "#     plt.plot(history.history['val_root_mean_squared_error'][1:])\n",
    "#     plt.title('Model RMSE',size=20)\n",
    "#     plt.ylabel('RMSE Loss',size=15)\n",
    "#     plt.xlabel('Epochs', size=15)\n",
    "#     plt.legend(['Training', 'Testing'], loc='best')\n",
    "#     plt.show()\n",
    "    \n",
    "    plt.figure(figsize=(10,6))\n",
    "    plt.plot(history.history['loss'])\n",
    "    plt.plot(history.history['val_loss'])\n",
    "    plt.title('Model Loss',size=20)\n",
    "    plt.ylabel('Loss',size=15)\n",
    "    plt.xlabel('Epochs',size=15)\n",
    "    plt.legend(['Training', 'Testing'], loc='best')\n",
    "    plt.show()"
   ]
  },
  {
   "cell_type": "markdown",
   "metadata": {},
   "source": [
    "## Model Testing"
   ]
  },
  {
   "cell_type": "code",
   "execution_count": 183,
   "metadata": {},
   "outputs": [],
   "source": [
    "file = 'Subjects/Fazil/day_04_24_21/computed_Bulb.csv'\n",
    "df = pd.read_csv(file,index_col=0)"
   ]
  },
  {
   "cell_type": "code",
   "execution_count": 184,
   "metadata": {},
   "outputs": [],
   "source": [
    "X, y = prep_data_velocity(df,window,interval=10,Normalize=False,rms=False,angle_label ='Pronation_Angle')"
   ]
  },
  {
   "cell_type": "code",
   "execution_count": 185,
   "metadata": {},
   "outputs": [
    {
     "data": {
      "application/vnd.jupyter.widget-view+json": {
       "model_id": "1aa75af323de4aa2aa6eeb5abca74a90",
       "version_major": 2,
       "version_minor": 0
      },
      "text/plain": [
       "HBox(children=(FloatProgress(value=0.0, max=9160.0), HTML(value='')))"
      ]
     },
     "metadata": {},
     "output_type": "display_data"
    },
    {
     "name": "stdout",
     "output_type": "stream",
     "text": [
      "\n"
     ]
    }
   ],
   "source": [
    "X_mean = np.load('mean_std.npy')[0]\n",
    "X_std = np.load('mean_std.npy')[1]\n",
    "X_new = []\n",
    "for x in tqdm(X):\n",
    "    X_new.append((x-X_mean)/X_std)\n",
    "X = np.array(X_new)"
   ]
  },
  {
   "cell_type": "code",
   "execution_count": 186,
   "metadata": {},
   "outputs": [],
   "source": [
    "pred = model.predict(X)"
   ]
  },
  {
   "cell_type": "code",
   "execution_count": 187,
   "metadata": {},
   "outputs": [
    {
     "data": {
      "image/png": "[encoded data removed]",
      "text/plain": [
       "<Figure size 1152x360 with 1 Axes>"
      ]
     },
     "metadata": {
      "needs_background": "light"
     },
     "output_type": "display_data"
    }
   ],
   "source": [
    "plt.figure(figsize=(16,5))\n",
    "plt.plot(pred)\n",
    "plt.plot(y)\n",
    "plt.title('True Velocity Vs Predicted Velocity',size=20)\n",
    "plt.ylabel('Ang Velocity',size=15)\n",
    "plt.xlabel('Time', size=15)\n",
    "plt.legend(['Predicted', 'True'], loc='best')\n",
    "plt.show()"
   ]
  },
  {
   "cell_type": "code",
   "execution_count": 188,
   "metadata": {},
   "outputs": [
    {
     "name": "stdout",
     "output_type": "stream",
     "text": [
      "Pearson Correlation Coefficient - (0.30451872906884614, 8.109349927433665e-196)\n",
      "RMSE Score - 1.0446894593492906\n"
     ]
    }
   ],
   "source": [
    "print('Pearson Correlation Coefficient -',pearsonr(y.flatten(),pred.flatten()))\n",
    "print('RMSE Score -',mean_squared_error(y,pred,squared=False))"
   ]
  },
  {
   "cell_type": "code",
   "execution_count": null,
   "metadata": {},
   "outputs": [],
   "source": []
  }
 ],
 "metadata": {
  "kernelspec": {
   "display_name": "Python 3.8.0 64-bit",
   "language": "python",
   "name": "python38064bitcaed634bb72a48a5bf9eda0dc4f94389"
  },
  "language_info": {
   "codemirror_mode": {
    "name": "ipython",
    "version": 3
   },
   "file_extension": ".py",
   "mimetype": "text/x-python",
   "name": "python",
   "nbconvert_exporter": "python",
   "pygments_lexer": "ipython3",
   "version": "3.8.5"
  }
 },
 "nbformat": 4,
 "nbformat_minor": 4
}
