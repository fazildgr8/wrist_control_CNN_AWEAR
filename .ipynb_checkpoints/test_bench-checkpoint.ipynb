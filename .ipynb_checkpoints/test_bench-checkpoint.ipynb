{
 "cells": [
  {
   "cell_type": "code",
   "execution_count": 83,
   "metadata": {},
   "outputs": [],
   "source": [
    "import numpy as np\n",
    "from sklearn.preprocessing import MinMaxScaler,minmax_scale\n",
    "from sklearn.neighbors import KNeighborsClassifier\n",
    "from pickle import load\n",
    "from Data_preparation_Library import *\n",
    "from tqdm.notebook import tqdm"
   ]
  },
  {
   "cell_type": "code",
   "execution_count": 84,
   "metadata": {},
   "outputs": [],
   "source": [
    "X_dtm = np.load('prepared_data/X_dtm_aug.npy')\n",
    "y_dtm = np.load('prepared_data/y_dtm_aug.npy')\n",
    "X_mean,X_std = np.load('mean_std.npy')"
   ]
  },
  {
   "cell_type": "code",
   "execution_count": 85,
   "metadata": {},
   "outputs": [],
   "source": [
    "y = []\n",
    "for t in y_dtm:\n",
    "    y.append(np.argmax(t))"
   ]
  },
  {
   "cell_type": "code",
   "execution_count": 86,
   "metadata": {},
   "outputs": [],
   "source": [
    "X = []\n",
    "for t in X_dtm:\n",
    "    X.append(t.flatten())"
   ]
  },
  {
   "cell_type": "code",
   "execution_count": 87,
   "metadata": {},
   "outputs": [
    {
     "data": {
      "text/plain": [
       "((79530, 3200), (79530,))"
      ]
     },
     "execution_count": 87,
     "metadata": {},
     "output_type": "execute_result"
    }
   ],
   "source": [
    "X = np.array(X)\n",
    "y = np.array(y)\n",
    "X.shape,y.shape"
   ]
  },
  {
   "cell_type": "code",
   "execution_count": 88,
   "metadata": {},
   "outputs": [],
   "source": [
    "kNeibhor = KNeighborsClassifier(n_neighbors=3)"
   ]
  },
  {
   "cell_type": "code",
   "execution_count": 89,
   "metadata": {},
   "outputs": [
    {
     "data": {
      "text/plain": [
       "KNeighborsClassifier(n_neighbors=3)"
      ]
     },
     "execution_count": 89,
     "metadata": {},
     "output_type": "execute_result"
    }
   ],
   "source": [
    "kNeibhor.fit(X,y)"
   ]
  },
  {
   "cell_type": "code",
   "execution_count": 90,
   "metadata": {},
   "outputs": [],
   "source": [
    "X = X[10000:20000]\n",
    "y = y[10000:20000]"
   ]
  },
  {
   "cell_type": "code",
   "execution_count": null,
   "metadata": {},
   "outputs": [],
   "source": []
  },
  {
   "cell_type": "code",
   "execution_count": 91,
   "metadata": {},
   "outputs": [
    {
     "data": {
      "application/vnd.jupyter.widget-view+json": {
       "model_id": "fd9daccae2b34b36a9c6e92ae6b5e31e",
       "version_major": 2,
       "version_minor": 0
      },
      "text/plain": [
       "HBox(children=(FloatProgress(value=0.0, max=10000.0), HTML(value='')))"
      ]
     },
     "metadata": {},
     "output_type": "display_data"
    },
    {
     "name": "stdout",
     "output_type": "stream",
     "text": [
      "\n",
      "Accuracy- 1.0\n"
     ]
    }
   ],
   "source": [
    "pred = kNeibhor.predict(X)\n",
    "acc = 0\n",
    "for i in tqdm(range(len(y))):\n",
    "    if y[i]==pred[i]:\n",
    "        acc = acc +1\n",
    "acc = acc/len(pred)\n",
    "print('Accuracy-',acc)"
   ]
  },
  {
   "cell_type": "code",
   "execution_count": 99,
   "metadata": {},
   "outputs": [
    {
     "name": "stdout",
     "output_type": "stream",
     "text": [
      "0 - 10000 [ 100.0 %]\n",
      "1 - 0 [ 0.0 %]\n",
      "2 - 0 [ 0.0 %]\n"
     ]
    }
   ],
   "source": [
    "count(y)"
   ]
  },
  {
   "cell_type": "code",
   "execution_count": 100,
   "metadata": {},
   "outputs": [
    {
     "name": "stdout",
     "output_type": "stream",
     "text": [
      "0 - 10000 [ 100.0 %]\n",
      "1 - 0 [ 0.0 %]\n",
      "2 - 0 [ 0.0 %]\n"
     ]
    }
   ],
   "source": [
    "count(pred)"
   ]
  },
  {
   "cell_type": "code",
   "execution_count": 98,
   "metadata": {},
   "outputs": [],
   "source": [
    "def count(y):\n",
    "    s0 = 0\n",
    "    s1 = 0\n",
    "    s2 = 0\n",
    "    for arr in y:\n",
    "        if arr==0:\n",
    "            s0 = s0+1\n",
    "        if arr==1:\n",
    "            s1 = s1+1\n",
    "        if arr==2:\n",
    "            s2 = s2+1\n",
    "    ls = [s0,s1,s2]\n",
    "    for i in range(3):\n",
    "        print(i,'-',ls[i],'[',ls[i]*100/len(y),'%]')"
   ]
  },
  {
   "cell_type": "code",
   "execution_count": null,
   "metadata": {},
   "outputs": [],
   "source": []
  }
 ],
 "metadata": {
  "kernelspec": {
   "display_name": "Python 3",
   "language": "python",
   "name": "python3"
  },
  "language_info": {
   "codemirror_mode": {
    "name": "ipython",
    "version": 3
   },
   "file_extension": ".py",
   "mimetype": "text/x-python",
   "name": "python",
   "nbconvert_exporter": "python",
   "pygments_lexer": "ipython3",
   "version": "3.8.5"
  }
 },
 "nbformat": 4,
 "nbformat_minor": 4
}
