{
 "cells": [
  {
   "cell_type": "markdown",
   "metadata": {},
   "source": [
    "# ProSup DTM Binary Movement Classifier"
   ]
  },
  {
   "cell_type": "code",
   "execution_count": 1,
   "metadata": {},
   "outputs": [],
   "source": [
    "import pandas as pd\n",
    "from Data_preparation_Library import *\n",
    "import numpy as np\n",
    "import matplotlib.pyplot as plt\n",
    "from tqdm.notebook import tqdm\n",
    "from time import time\n",
    "from sklearn.model_selection import train_test_split\n",
    "from tensorflow.keras.models import load_model\n",
    "from random import choice\n",
    "from scipy import signal\n",
    "from pickle import load"
   ]
  },
  {
   "cell_type": "code",
   "execution_count": 44,
   "metadata": {},
   "outputs": [],
   "source": [
    "def filter_df(files_df,order=1,cf=50,fs=2000):\n",
    "    b,a = signal.butter(1, 50,fs=fs)\n",
    "    for i in range(len(files_df)):\n",
    "        emg_df = pd.DataFrame(columns=emg_labels)\n",
    "        for labels in emg_labels:\n",
    "            emg_df[labels] = signal.lfilter(b, a,files_df[i][labels])\n",
    "        files_df[i][emg_labels] = np.array(emg_df)\n",
    "    return files_df\n",
    "emg_labels = ['EMG1','EMG2','EMG3','EMG4','EMG5','EMG6','EMG7','EMG8']"
   ]
  },
  {
   "cell_type": "markdown",
   "metadata": {},
   "source": [
    "## Generate File Names"
   ]
  },
  {
   "cell_type": "markdown",
   "metadata": {},
   "source": [
    "### Pronation Supination Files"
   ]
  },
  {
   "cell_type": "code",
   "execution_count": 45,
   "metadata": {},
   "outputs": [],
   "source": [
    "prosup_files = []\n",
    "dtm_files = []\n",
    "subjects = ['Fazil/day_04_24_21','Nikhil/day_05_13_21'] #'Fazil/day_04_14_21'"
   ]
  },
  {
   "cell_type": "code",
   "execution_count": 46,
   "metadata": {},
   "outputs": [
    {
     "data": {
      "text/plain": [
       "['Subjects/Fazil/day_04_24_21/computed_Bulb.csv',\n",
       " 'Subjects/Fazil/day_04_24_21/computed_Bulb01.csv',\n",
       " 'Subjects/Fazil/day_04_24_21/computed_Bulb02.csv',\n",
       " 'Subjects/Fazil/day_04_24_21/computed_Screw.csv',\n",
       " 'Subjects/Fazil/day_04_24_21/computed_Screw01.csv',\n",
       " 'Subjects/Fazil/day_04_24_21/computed_Screw02.csv',\n",
       " 'Subjects/Nikhil/day_05_13_21/computed_Bulb.csv',\n",
       " 'Subjects/Nikhil/day_05_13_21/computed_Bulb01.csv',\n",
       " 'Subjects/Nikhil/day_05_13_21/computed_Bulb02.csv',\n",
       " 'Subjects/Nikhil/day_05_13_21/computed_Screw.csv',\n",
       " 'Subjects/Nikhil/day_05_13_21/computed_Screw01.csv',\n",
       " 'Subjects/Nikhil/day_05_13_21/computed_Screw02.csv']"
      ]
     },
     "execution_count": 46,
     "metadata": {},
     "output_type": "execute_result"
    }
   ],
   "source": [
    "for subj in subjects:\n",
    "    path = 'Subjects/'+subj\n",
    "    # trial_names = ['Bulb','Hammer'] # 'Bulb','Hammer' ,'Cup','Screw'\n",
    "    trial_names = ['Bulb','Screw'] #,\n",
    "    for exp in trial_names:\n",
    "        for i in range(3):\n",
    "            if(i==0):\n",
    "                prosup_files.append(path+'/computed_'+exp+'.csv')\n",
    "            else:\n",
    "                prosup_files.append(path+'/computed_'+exp+'0'+str(i)+'.csv')\n",
    "prosup_files"
   ]
  },
  {
   "cell_type": "code",
   "execution_count": 47,
   "metadata": {},
   "outputs": [],
   "source": [
    "prosup_files_df = []\n",
    "for file in prosup_files:\n",
    "    prosup_files_df.append(pd.read_csv(file,index_col=0))\n",
    "prosup_files_df = filter_df(prosup_files_df)"
   ]
  },
  {
   "cell_type": "markdown",
   "metadata": {},
   "source": [
    "### DTM Files"
   ]
  },
  {
   "cell_type": "code",
   "execution_count": 25,
   "metadata": {},
   "outputs": [
    {
     "data": {
      "text/plain": [
       "['Subjects/Fazil/day_04_24_21/computed_Hammer.csv',\n",
       " 'Subjects/Fazil/day_04_24_21/computed_Hammer01.csv',\n",
       " 'Subjects/Fazil/day_04_24_21/computed_Hammer02.csv',\n",
       " 'Subjects/Fazil/day_04_24_21/computed_Cup.csv',\n",
       " 'Subjects/Fazil/day_04_24_21/computed_Cup01.csv',\n",
       " 'Subjects/Fazil/day_04_24_21/computed_Cup02.csv',\n",
       " 'Subjects/Nikhil/day_05_13_21/computed_Hammer.csv',\n",
       " 'Subjects/Nikhil/day_05_13_21/computed_Hammer01.csv',\n",
       " 'Subjects/Nikhil/day_05_13_21/computed_Hammer02.csv',\n",
       " 'Subjects/Nikhil/day_05_13_21/computed_Cup.csv',\n",
       " 'Subjects/Nikhil/day_05_13_21/computed_Cup01.csv',\n",
       " 'Subjects/Nikhil/day_05_13_21/computed_Cup02.csv']"
      ]
     },
     "execution_count": 25,
     "metadata": {},
     "output_type": "execute_result"
    }
   ],
   "source": [
    "for subj in subjects:\n",
    "    path = 'Subjects/'+subj\n",
    "    # trial_names = ['Bulb','Hammer'] # 'Bulb','Hammer' ,'Cup','Screw'\n",
    "    trial_names = ['Hammer','Cup'] #,\n",
    "    for exp in trial_names:\n",
    "        for i in range(3):\n",
    "            if(i==0):\n",
    "                dtm_files.append(path+'/computed_'+exp+'.csv')\n",
    "            else:\n",
    "                dtm_files.append(path+'/computed_'+exp+'0'+str(i)+'.csv')\n",
    "dtm_files"
   ]
  },
  {
   "cell_type": "code",
   "execution_count": 26,
   "metadata": {},
   "outputs": [],
   "source": [
    "dtm_files_df = []\n",
    "for file in dtm_files:\n",
    "    dtm_files_df.append(pd.read_csv(file,index_col=0))\n",
    "dtm_files_df = filter_df(dtm_files_df)"
   ]
  },
  {
   "cell_type": "markdown",
   "metadata": {},
   "source": [
    "## Dataset Preparation"
   ]
  },
  {
   "cell_type": "code",
   "execution_count": 27,
   "metadata": {},
   "outputs": [],
   "source": [
    "window = 250\n",
    "interval = 15\n",
    "Normalize = False\n",
    "rms = False\n",
    "angle_thresh_DTM = 0.008\n",
    "angle_thresh_prosup = 0.001"
   ]
  },
  {
   "cell_type": "code",
   "execution_count": 28,
   "metadata": {},
   "outputs": [
    {
     "data": {
      "application/vnd.jupyter.widget-view+json": {
       "model_id": "4577ce60584442b7a01b73b26d749bfb",
       "version_major": 2,
       "version_minor": 0
      },
      "text/plain": [
       "HBox(children=(FloatProgress(value=0.0, max=12.0), HTML(value='')))"
      ]
     },
     "metadata": {},
     "output_type": "display_data"
    },
    {
     "name": "stdout",
     "output_type": "stream",
     "text": [
      "\n",
      "(58206, 250, 8) (58206, 3)\n"
     ]
    }
   ],
   "source": [
    "X_prosup, y_prosup = multiple_prep_data_DTM(prosup_files_df,\n",
    "                                      window,\n",
    "                                      interval,\n",
    "                                      Normalize,\n",
    "                                      rms,\n",
    "                                      angle_thresh_prosup)\n",
    "print(X_prosup.shape,y_prosup.shape)"
   ]
  },
  {
   "cell_type": "code",
   "execution_count": 29,
   "metadata": {},
   "outputs": [
    {
     "data": {
      "application/vnd.jupyter.widget-view+json": {
       "model_id": "e2af2f2d7e684c00a31a8557b1b33716",
       "version_major": 2,
       "version_minor": 0
      },
      "text/plain": [
       "HBox(children=(FloatProgress(value=0.0, max=12.0), HTML(value='')))"
      ]
     },
     "metadata": {},
     "output_type": "display_data"
    },
    {
     "name": "stdout",
     "output_type": "stream",
     "text": [
      "\n",
      "(43008, 250, 8) (43008, 3)\n"
     ]
    }
   ],
   "source": [
    "X_dtm, y_dtm = multiple_prep_data_DTM(dtm_files_df,\n",
    "                                      window,\n",
    "                                      interval,\n",
    "                                      Normalize,\n",
    "                                      rms,\n",
    "                                      angle_thresh_DTM)\n",
    "print(X_dtm.shape,y_dtm.shape)"
   ]
  },
  {
   "cell_type": "markdown",
   "metadata": {},
   "source": [
    "## Merge ProSup and DTM Datasets to Bianry excluding Rest Labels"
   ]
  },
  {
   "cell_type": "code",
   "execution_count": 30,
   "metadata": {},
   "outputs": [
    {
     "data": {
      "application/vnd.jupyter.widget-view+json": {
       "model_id": "337c4a589af44e37a141cfc39435fc43",
       "version_major": 2,
       "version_minor": 0
      },
      "text/plain": [
       "HBox(children=(FloatProgress(value=0.0, max=43008.0), HTML(value='')))"
      ]
     },
     "metadata": {},
     "output_type": "display_data"
    },
    {
     "name": "stdout",
     "output_type": "stream",
     "text": [
      "\n"
     ]
    },
    {
     "data": {
      "application/vnd.jupyter.widget-view+json": {
       "model_id": "39c1ff88731447aeaf49ba28274e860c",
       "version_major": 2,
       "version_minor": 0
      },
      "text/plain": [
       "HBox(children=(FloatProgress(value=0.0, max=58206.0), HTML(value='')))"
      ]
     },
     "metadata": {},
     "output_type": "display_data"
    },
    {
     "name": "stdout",
     "output_type": "stream",
     "text": [
      "\n"
     ]
    }
   ],
   "source": [
    "X_dtm_n = []\n",
    "for i in tqdm(range(y_dtm.shape[0])):\n",
    "    if y_dtm[i][0]!=1:\n",
    "        X_dtm_n.append(X_dtm[i])\n",
    "X_dtm_n = np.array(X_dtm_n)        \n",
    "\n",
    "X_prosup_n = []\n",
    "for i in tqdm(range(y_prosup.shape[0])):\n",
    "    if y_prosup[i][0]!=1:\n",
    "        X_prosup_n.append(X_prosup[i])\n",
    "X_prosup_n = np.array(X_prosup_n)  \n",
    "\n",
    "# prosup - 0\n",
    "# DTM - 1\n",
    "X = np.vstack((X_prosup_n,X_dtm_n))\n",
    "a = np.array([[1,0]]*X_prosup_n.shape[0])\n",
    "b = np.array([[0,1]]*X_dtm_n.shape[0])\n",
    "y = np.vstack((a,b))"
   ]
  },
  {
   "cell_type": "code",
   "execution_count": 31,
   "metadata": {},
   "outputs": [
    {
     "data": {
      "text/plain": [
       "((71702, 250, 8), (71702, 2))"
      ]
     },
     "execution_count": 31,
     "metadata": {},
     "output_type": "execute_result"
    }
   ],
   "source": [
    "X.shape, y.shape"
   ]
  },
  {
   "cell_type": "markdown",
   "metadata": {},
   "source": [
    "## Time Window Normalization"
   ]
  },
  {
   "cell_type": "code",
   "execution_count": 32,
   "metadata": {},
   "outputs": [],
   "source": [
    "def variance(data, ddof=0):\n",
    "    n = len(data)\n",
    "    mean = sum(data) / n\n",
    "    return sum((x - mean) ** 2 for x in data) / (n - ddof)\n",
    "\n",
    "X_mean = np.zeros(X[0].shape)\n",
    "for x in X:\n",
    "    X_mean = X_mean + x\n",
    "X_mean = X_mean/X.shape[0]\n",
    "X_std = np.sqrt(variance(X))\n",
    "np.save('mean_std',np.array([X_mean,X_std]))"
   ]
  },
  {
   "cell_type": "code",
   "execution_count": 33,
   "metadata": {},
   "outputs": [
    {
     "data": {
      "application/vnd.jupyter.widget-view+json": {
       "model_id": "dd20c071f27945e888eab0cd9bf12853",
       "version_major": 2,
       "version_minor": 0
      },
      "text/plain": [
       "HBox(children=(FloatProgress(value=0.0, max=71702.0), HTML(value='')))"
      ]
     },
     "metadata": {},
     "output_type": "display_data"
    },
    {
     "name": "stdout",
     "output_type": "stream",
     "text": [
      "\n"
     ]
    }
   ],
   "source": [
    "Xn = []\n",
    "for x in tqdm(X):\n",
    "    Xn.append((x-X_mean)/X_std)\n",
    "X = np.array(Xn)"
   ]
  },
  {
   "cell_type": "code",
   "execution_count": 34,
   "metadata": {},
   "outputs": [],
   "source": [
    "np.save('prepared_data/X_prosup_dtm_tw',X)\n",
    "np.save('prepared_data/y_prosup_dtm_tw',y)"
   ]
  },
  {
   "cell_type": "code",
   "execution_count": 48,
   "metadata": {},
   "outputs": [],
   "source": [
    "X = np.load('prepared_data/X_prosup_dtm_tw.npy')\n",
    "y = np.load('prepared_data/y_prosup_dtm_tw.npy')"
   ]
  },
  {
   "cell_type": "code",
   "execution_count": 49,
   "metadata": {},
   "outputs": [
    {
     "name": "stdout",
     "output_type": "stream",
     "text": [
      "(57361, 250, 8)\n",
      "(14341, 250, 8)\n",
      "(57361, 2)\n",
      "(14341, 2)\n"
     ]
    }
   ],
   "source": [
    "X_train, X_test, y_train, y_test = train_test_split(X, y,test_size=0.2)\n",
    "for data in [X_train, X_test, y_train, y_test]:\n",
    "    print(data.shape)"
   ]
  },
  {
   "cell_type": "code",
   "execution_count": 50,
   "metadata": {},
   "outputs": [],
   "source": [
    "y_true = []\n",
    "for d in y_test:\n",
    "    idx = list(d).index(1)\n",
    "    y_true.append(idx)"
   ]
  },
  {
   "cell_type": "markdown",
   "metadata": {},
   "source": [
    "## Label Distribution"
   ]
  },
  {
   "cell_type": "code",
   "execution_count": 51,
   "metadata": {},
   "outputs": [],
   "source": [
    "def count(y):\n",
    "    s0 = 0\n",
    "    s1 = 0\n",
    "    for arr in y:\n",
    "        if arr[0]==1:\n",
    "            s0 = s0+1\n",
    "        if arr[1]==1:\n",
    "            s1 = s1+1\n",
    "    ls = [s0,s1]\n",
    "    for i in range(2):\n",
    "        print(i,'-',ls[i],'[',ls[i]*100/len(y),'%]')"
   ]
  },
  {
   "cell_type": "code",
   "execution_count": 52,
   "metadata": {},
   "outputs": [
    {
     "name": "stdout",
     "output_type": "stream",
     "text": [
      "0 - 42430 [ 73.97011907044856 %]\n",
      "1 - 14931 [ 26.02988092955144 %]\n",
      "None\n",
      "0 - 10513 [ 73.30730074611255 %]\n",
      "1 - 3828 [ 26.692699253887454 %]\n",
      "None\n"
     ]
    }
   ],
   "source": [
    "print(count(y_train))\n",
    "print(count(y_test))"
   ]
  },
  {
   "cell_type": "markdown",
   "metadata": {},
   "source": [
    "# InceptionTime Trainer"
   ]
  },
  {
   "cell_type": "code",
   "execution_count": 2,
   "metadata": {},
   "outputs": [],
   "source": [
    "import numpy as np\n",
    "import sklearn\n",
    "import pandas as pd\n",
    "import sys\n",
    "import subprocess\n",
    "import tensorflow as tf\n",
    "from InceptionTime.classifiers.inception import Classifier_INCEPTION"
   ]
  },
  {
   "cell_type": "code",
   "execution_count": 56,
   "metadata": {},
   "outputs": [
    {
     "name": "stdout",
     "output_type": "stream",
     "text": [
      "Model: \"model_2\"\n",
      "__________________________________________________________________________________________________\n",
      "Layer (type)                    Output Shape         Param #     Connected to                     \n",
      "==================================================================================================\n",
      "input_3 (InputLayer)            [(None, 250, 8)]     0                                            \n",
      "__________________________________________________________________________________________________\n",
      "conv1d_106 (Conv1D)             (None, 250, 32)      256         input_3[0][0]                    \n",
      "__________________________________________________________________________________________________\n",
      "max_pooling1d_20 (MaxPooling1D) (None, 250, 8)       0           input_3[0][0]                    \n",
      "__________________________________________________________________________________________________\n",
      "conv1d_107 (Conv1D)             (None, 250, 32)      10240       conv1d_106[0][0]                 \n",
      "__________________________________________________________________________________________________\n",
      "conv1d_108 (Conv1D)             (None, 250, 32)      5120        conv1d_106[0][0]                 \n",
      "__________________________________________________________________________________________________\n",
      "conv1d_109 (Conv1D)             (None, 250, 32)      2048        conv1d_106[0][0]                 \n",
      "__________________________________________________________________________________________________\n",
      "conv1d_110 (Conv1D)             (None, 250, 32)      256         max_pooling1d_20[0][0]           \n",
      "__________________________________________________________________________________________________\n",
      "concatenate_20 (Concatenate)    (None, 250, 128)     0           conv1d_107[0][0]                 \n",
      "                                                                 conv1d_108[0][0]                 \n",
      "                                                                 conv1d_109[0][0]                 \n",
      "                                                                 conv1d_110[0][0]                 \n",
      "__________________________________________________________________________________________________\n",
      "batch_normalization_26 (BatchNo (None, 250, 128)     512         concatenate_20[0][0]             \n",
      "__________________________________________________________________________________________________\n",
      "activation_26 (Activation)      (None, 250, 128)     0           batch_normalization_26[0][0]     \n",
      "__________________________________________________________________________________________________\n",
      "conv1d_111 (Conv1D)             (None, 250, 32)      4096        activation_26[0][0]              \n",
      "__________________________________________________________________________________________________\n",
      "max_pooling1d_21 (MaxPooling1D) (None, 250, 128)     0           activation_26[0][0]              \n",
      "__________________________________________________________________________________________________\n",
      "conv1d_112 (Conv1D)             (None, 250, 32)      10240       conv1d_111[0][0]                 \n",
      "__________________________________________________________________________________________________\n",
      "conv1d_113 (Conv1D)             (None, 250, 32)      5120        conv1d_111[0][0]                 \n",
      "__________________________________________________________________________________________________\n",
      "conv1d_114 (Conv1D)             (None, 250, 32)      2048        conv1d_111[0][0]                 \n",
      "__________________________________________________________________________________________________\n",
      "conv1d_115 (Conv1D)             (None, 250, 32)      4096        max_pooling1d_21[0][0]           \n",
      "__________________________________________________________________________________________________\n",
      "concatenate_21 (Concatenate)    (None, 250, 128)     0           conv1d_112[0][0]                 \n",
      "                                                                 conv1d_113[0][0]                 \n",
      "                                                                 conv1d_114[0][0]                 \n",
      "                                                                 conv1d_115[0][0]                 \n",
      "__________________________________________________________________________________________________\n",
      "batch_normalization_27 (BatchNo (None, 250, 128)     512         concatenate_21[0][0]             \n",
      "__________________________________________________________________________________________________\n",
      "activation_27 (Activation)      (None, 250, 128)     0           batch_normalization_27[0][0]     \n",
      "__________________________________________________________________________________________________\n",
      "conv1d_116 (Conv1D)             (None, 250, 32)      4096        activation_27[0][0]              \n",
      "__________________________________________________________________________________________________\n",
      "max_pooling1d_22 (MaxPooling1D) (None, 250, 128)     0           activation_27[0][0]              \n",
      "__________________________________________________________________________________________________\n",
      "conv1d_117 (Conv1D)             (None, 250, 32)      10240       conv1d_116[0][0]                 \n",
      "__________________________________________________________________________________________________\n",
      "conv1d_118 (Conv1D)             (None, 250, 32)      5120        conv1d_116[0][0]                 \n",
      "__________________________________________________________________________________________________\n",
      "conv1d_119 (Conv1D)             (None, 250, 32)      2048        conv1d_116[0][0]                 \n",
      "__________________________________________________________________________________________________\n",
      "conv1d_120 (Conv1D)             (None, 250, 32)      4096        max_pooling1d_22[0][0]           \n",
      "__________________________________________________________________________________________________\n",
      "concatenate_22 (Concatenate)    (None, 250, 128)     0           conv1d_117[0][0]                 \n",
      "                                                                 conv1d_118[0][0]                 \n",
      "                                                                 conv1d_119[0][0]                 \n",
      "                                                                 conv1d_120[0][0]                 \n",
      "__________________________________________________________________________________________________\n",
      "conv1d_121 (Conv1D)             (None, 250, 128)     1024        input_3[0][0]                    \n",
      "__________________________________________________________________________________________________\n",
      "batch_normalization_28 (BatchNo (None, 250, 128)     512         concatenate_22[0][0]             \n",
      "__________________________________________________________________________________________________\n",
      "batch_normalization_29 (BatchNo (None, 250, 128)     512         conv1d_121[0][0]                 \n",
      "__________________________________________________________________________________________________\n",
      "activation_28 (Activation)      (None, 250, 128)     0           batch_normalization_28[0][0]     \n",
      "__________________________________________________________________________________________________\n",
      "add_6 (Add)                     (None, 250, 128)     0           batch_normalization_29[0][0]     \n",
      "                                                                 activation_28[0][0]              \n",
      "__________________________________________________________________________________________________\n",
      "activation_29 (Activation)      (None, 250, 128)     0           add_6[0][0]                      \n",
      "__________________________________________________________________________________________________\n",
      "conv1d_122 (Conv1D)             (None, 250, 32)      4096        activation_29[0][0]              \n",
      "__________________________________________________________________________________________________\n",
      "max_pooling1d_23 (MaxPooling1D) (None, 250, 128)     0           activation_29[0][0]              \n",
      "__________________________________________________________________________________________________\n",
      "conv1d_123 (Conv1D)             (None, 250, 32)      10240       conv1d_122[0][0]                 \n",
      "__________________________________________________________________________________________________\n",
      "conv1d_124 (Conv1D)             (None, 250, 32)      5120        conv1d_122[0][0]                 \n",
      "__________________________________________________________________________________________________\n",
      "conv1d_125 (Conv1D)             (None, 250, 32)      2048        conv1d_122[0][0]                 \n",
      "__________________________________________________________________________________________________\n",
      "conv1d_126 (Conv1D)             (None, 250, 32)      4096        max_pooling1d_23[0][0]           \n",
      "__________________________________________________________________________________________________\n",
      "concatenate_23 (Concatenate)    (None, 250, 128)     0           conv1d_123[0][0]                 \n",
      "                                                                 conv1d_124[0][0]                 \n",
      "                                                                 conv1d_125[0][0]                 \n",
      "                                                                 conv1d_126[0][0]                 \n",
      "__________________________________________________________________________________________________\n",
      "batch_normalization_30 (BatchNo (None, 250, 128)     512         concatenate_23[0][0]             \n",
      "__________________________________________________________________________________________________\n",
      "activation_30 (Activation)      (None, 250, 128)     0           batch_normalization_30[0][0]     \n",
      "__________________________________________________________________________________________________\n",
      "conv1d_127 (Conv1D)             (None, 250, 32)      4096        activation_30[0][0]              \n",
      "__________________________________________________________________________________________________\n",
      "max_pooling1d_24 (MaxPooling1D) (None, 250, 128)     0           activation_30[0][0]              \n",
      "__________________________________________________________________________________________________\n",
      "conv1d_128 (Conv1D)             (None, 250, 32)      10240       conv1d_127[0][0]                 \n",
      "__________________________________________________________________________________________________\n",
      "conv1d_129 (Conv1D)             (None, 250, 32)      5120        conv1d_127[0][0]                 \n",
      "__________________________________________________________________________________________________\n",
      "conv1d_130 (Conv1D)             (None, 250, 32)      2048        conv1d_127[0][0]                 \n",
      "__________________________________________________________________________________________________\n",
      "conv1d_131 (Conv1D)             (None, 250, 32)      4096        max_pooling1d_24[0][0]           \n",
      "__________________________________________________________________________________________________\n",
      "concatenate_24 (Concatenate)    (None, 250, 128)     0           conv1d_128[0][0]                 \n",
      "                                                                 conv1d_129[0][0]                 \n",
      "                                                                 conv1d_130[0][0]                 \n",
      "                                                                 conv1d_131[0][0]                 \n",
      "__________________________________________________________________________________________________\n",
      "batch_normalization_31 (BatchNo (None, 250, 128)     512         concatenate_24[0][0]             \n",
      "__________________________________________________________________________________________________\n",
      "activation_31 (Activation)      (None, 250, 128)     0           batch_normalization_31[0][0]     \n",
      "__________________________________________________________________________________________________\n",
      "conv1d_132 (Conv1D)             (None, 250, 32)      4096        activation_31[0][0]              \n",
      "__________________________________________________________________________________________________\n",
      "max_pooling1d_25 (MaxPooling1D) (None, 250, 128)     0           activation_31[0][0]              \n",
      "__________________________________________________________________________________________________\n",
      "conv1d_133 (Conv1D)             (None, 250, 32)      10240       conv1d_132[0][0]                 \n",
      "__________________________________________________________________________________________________\n",
      "conv1d_134 (Conv1D)             (None, 250, 32)      5120        conv1d_132[0][0]                 \n",
      "__________________________________________________________________________________________________\n",
      "conv1d_135 (Conv1D)             (None, 250, 32)      2048        conv1d_132[0][0]                 \n",
      "__________________________________________________________________________________________________\n",
      "conv1d_136 (Conv1D)             (None, 250, 32)      4096        max_pooling1d_25[0][0]           \n",
      "__________________________________________________________________________________________________\n",
      "concatenate_25 (Concatenate)    (None, 250, 128)     0           conv1d_133[0][0]                 \n",
      "                                                                 conv1d_134[0][0]                 \n",
      "                                                                 conv1d_135[0][0]                 \n",
      "                                                                 conv1d_136[0][0]                 \n",
      "__________________________________________________________________________________________________\n",
      "conv1d_137 (Conv1D)             (None, 250, 128)     16384       activation_29[0][0]              \n",
      "__________________________________________________________________________________________________\n",
      "batch_normalization_32 (BatchNo (None, 250, 128)     512         concatenate_25[0][0]             \n",
      "__________________________________________________________________________________________________\n",
      "batch_normalization_33 (BatchNo (None, 250, 128)     512         conv1d_137[0][0]                 \n",
      "__________________________________________________________________________________________________\n",
      "activation_32 (Activation)      (None, 250, 128)     0           batch_normalization_32[0][0]     \n",
      "__________________________________________________________________________________________________\n",
      "add_7 (Add)                     (None, 250, 128)     0           batch_normalization_33[0][0]     \n",
      "                                                                 activation_32[0][0]              \n",
      "__________________________________________________________________________________________________\n",
      "activation_33 (Activation)      (None, 250, 128)     0           add_7[0][0]                      \n",
      "__________________________________________________________________________________________________\n",
      "conv1d_138 (Conv1D)             (None, 250, 32)      4096        activation_33[0][0]              \n",
      "__________________________________________________________________________________________________\n",
      "max_pooling1d_26 (MaxPooling1D) (None, 250, 128)     0           activation_33[0][0]              \n",
      "__________________________________________________________________________________________________\n",
      "conv1d_139 (Conv1D)             (None, 250, 32)      10240       conv1d_138[0][0]                 \n",
      "__________________________________________________________________________________________________\n",
      "conv1d_140 (Conv1D)             (None, 250, 32)      5120        conv1d_138[0][0]                 \n",
      "__________________________________________________________________________________________________\n",
      "conv1d_141 (Conv1D)             (None, 250, 32)      2048        conv1d_138[0][0]                 \n",
      "__________________________________________________________________________________________________\n",
      "conv1d_142 (Conv1D)             (None, 250, 32)      4096        max_pooling1d_26[0][0]           \n",
      "__________________________________________________________________________________________________\n",
      "concatenate_26 (Concatenate)    (None, 250, 128)     0           conv1d_139[0][0]                 \n",
      "                                                                 conv1d_140[0][0]                 \n",
      "                                                                 conv1d_141[0][0]                 \n",
      "                                                                 conv1d_142[0][0]                 \n",
      "__________________________________________________________________________________________________\n",
      "batch_normalization_34 (BatchNo (None, 250, 128)     512         concatenate_26[0][0]             \n",
      "__________________________________________________________________________________________________\n",
      "activation_34 (Activation)      (None, 250, 128)     0           batch_normalization_34[0][0]     \n",
      "__________________________________________________________________________________________________\n",
      "conv1d_143 (Conv1D)             (None, 250, 32)      4096        activation_34[0][0]              \n",
      "__________________________________________________________________________________________________\n",
      "max_pooling1d_27 (MaxPooling1D) (None, 250, 128)     0           activation_34[0][0]              \n",
      "__________________________________________________________________________________________________\n",
      "conv1d_144 (Conv1D)             (None, 250, 32)      10240       conv1d_143[0][0]                 \n",
      "__________________________________________________________________________________________________\n",
      "conv1d_145 (Conv1D)             (None, 250, 32)      5120        conv1d_143[0][0]                 \n",
      "__________________________________________________________________________________________________\n",
      "conv1d_146 (Conv1D)             (None, 250, 32)      2048        conv1d_143[0][0]                 \n",
      "__________________________________________________________________________________________________\n",
      "conv1d_147 (Conv1D)             (None, 250, 32)      4096        max_pooling1d_27[0][0]           \n",
      "__________________________________________________________________________________________________\n",
      "concatenate_27 (Concatenate)    (None, 250, 128)     0           conv1d_144[0][0]                 \n",
      "                                                                 conv1d_145[0][0]                 \n",
      "                                                                 conv1d_146[0][0]                 \n",
      "                                                                 conv1d_147[0][0]                 \n",
      "__________________________________________________________________________________________________\n",
      "batch_normalization_35 (BatchNo (None, 250, 128)     512         concatenate_27[0][0]             \n",
      "__________________________________________________________________________________________________\n",
      "activation_35 (Activation)      (None, 250, 128)     0           batch_normalization_35[0][0]     \n",
      "__________________________________________________________________________________________________\n",
      "conv1d_148 (Conv1D)             (None, 250, 32)      4096        activation_35[0][0]              \n",
      "__________________________________________________________________________________________________\n",
      "max_pooling1d_28 (MaxPooling1D) (None, 250, 128)     0           activation_35[0][0]              \n",
      "__________________________________________________________________________________________________\n",
      "conv1d_149 (Conv1D)             (None, 250, 32)      10240       conv1d_148[0][0]                 \n",
      "__________________________________________________________________________________________________\n",
      "conv1d_150 (Conv1D)             (None, 250, 32)      5120        conv1d_148[0][0]                 \n",
      "__________________________________________________________________________________________________\n",
      "conv1d_151 (Conv1D)             (None, 250, 32)      2048        conv1d_148[0][0]                 \n",
      "__________________________________________________________________________________________________\n",
      "conv1d_152 (Conv1D)             (None, 250, 32)      4096        max_pooling1d_28[0][0]           \n",
      "__________________________________________________________________________________________________\n",
      "concatenate_28 (Concatenate)    (None, 250, 128)     0           conv1d_149[0][0]                 \n",
      "                                                                 conv1d_150[0][0]                 \n",
      "                                                                 conv1d_151[0][0]                 \n",
      "                                                                 conv1d_152[0][0]                 \n",
      "__________________________________________________________________________________________________\n",
      "conv1d_153 (Conv1D)             (None, 250, 128)     16384       activation_33[0][0]              \n",
      "__________________________________________________________________________________________________\n",
      "batch_normalization_36 (BatchNo (None, 250, 128)     512         concatenate_28[0][0]             \n",
      "__________________________________________________________________________________________________\n",
      "batch_normalization_37 (BatchNo (None, 250, 128)     512         conv1d_153[0][0]                 \n",
      "__________________________________________________________________________________________________\n",
      "activation_36 (Activation)      (None, 250, 128)     0           batch_normalization_36[0][0]     \n",
      "__________________________________________________________________________________________________\n",
      "add_8 (Add)                     (None, 250, 128)     0           batch_normalization_37[0][0]     \n",
      "                                                                 activation_36[0][0]              \n",
      "__________________________________________________________________________________________________\n",
      "activation_37 (Activation)      (None, 250, 128)     0           add_8[0][0]                      \n",
      "__________________________________________________________________________________________________\n",
      "conv1d_154 (Conv1D)             (None, 250, 32)      4096        activation_37[0][0]              \n",
      "__________________________________________________________________________________________________\n",
      "max_pooling1d_29 (MaxPooling1D) (None, 250, 128)     0           activation_37[0][0]              \n",
      "__________________________________________________________________________________________________\n",
      "conv1d_155 (Conv1D)             (None, 250, 32)      10240       conv1d_154[0][0]                 \n",
      "__________________________________________________________________________________________________\n",
      "conv1d_156 (Conv1D)             (None, 250, 32)      5120        conv1d_154[0][0]                 \n",
      "__________________________________________________________________________________________________\n",
      "conv1d_157 (Conv1D)             (None, 250, 32)      2048        conv1d_154[0][0]                 \n",
      "__________________________________________________________________________________________________\n",
      "conv1d_158 (Conv1D)             (None, 250, 32)      4096        max_pooling1d_29[0][0]           \n",
      "__________________________________________________________________________________________________\n",
      "concatenate_29 (Concatenate)    (None, 250, 128)     0           conv1d_155[0][0]                 \n",
      "                                                                 conv1d_156[0][0]                 \n",
      "                                                                 conv1d_157[0][0]                 \n",
      "                                                                 conv1d_158[0][0]                 \n",
      "__________________________________________________________________________________________________\n",
      "batch_normalization_38 (BatchNo (None, 250, 128)     512         concatenate_29[0][0]             \n",
      "__________________________________________________________________________________________________\n",
      "activation_38 (Activation)      (None, 250, 128)     0           batch_normalization_38[0][0]     \n",
      "__________________________________________________________________________________________________\n",
      "global_average_pooling1d_2 (Glo (None, 128)          0           activation_38[0][0]              \n",
      "__________________________________________________________________________________________________\n",
      "dense_2 (Dense)                 (None, 2)            258         global_average_pooling1d_2[0][0] \n",
      "==================================================================================================\n",
      "Total params: 289,026\n",
      "Trainable params: 285,698\n",
      "Non-trainable params: 3,328\n",
      "__________________________________________________________________________________________________\n"
     ]
    }
   ],
   "source": [
    "clf = Classifier_INCEPTION('', (X_train.shape[1],X_train.shape[2]),nb_classes=2,\n",
    "                            verbose=True,batch_size=256,nb_epochs=10,nb_filters=32,\n",
    "                            depth=10, kernel_size=11)"
   ]
  },
  {
   "cell_type": "code",
   "execution_count": 62,
   "metadata": {
    "scrolled": false
   },
   "outputs": [
    {
     "name": "stdout",
     "output_type": "stream",
     "text": [
      "Epoch 1/10\n",
      "225/225 [==============================] - 41s 184ms/step - loss: 0.0416 - accuracy: 0.9848 - val_loss: 0.0554 - val_accuracy: 0.9745\n",
      "Epoch 2/10\n",
      "225/225 [==============================] - 46s 207ms/step - loss: 0.0251 - accuracy: 0.9910 - val_loss: 0.0504 - val_accuracy: 0.9789\n",
      "Epoch 3/10\n",
      "225/225 [==============================] - 51s 227ms/step - loss: 0.0148 - accuracy: 0.9950 - val_loss: 0.0161 - val_accuracy: 0.9950\n"
     ]
    },
    {
     "name": "stderr",
     "output_type": "stream",
     "text": [
      "C:\\Users\\moham\\AppData\\Local\\Programs\\Python\\Python38\\lib\\site-packages\\tensorflow\\python\\keras\\utils\\generic_utils.py:494: CustomMaskWarning: Custom mask layers require a config and must override get_config. When loading, the custom mask layer must be passed to the custom_objects argument.\n",
      "  warnings.warn('Custom mask layers require a config and must override '\n"
     ]
    },
    {
     "name": "stdout",
     "output_type": "stream",
     "text": [
      "Epoch 4/10\n",
      "225/225 [==============================] - 51s 229ms/step - loss: 0.0097 - accuracy: 0.9971 - val_loss: 0.0181 - val_accuracy: 0.9931\n",
      "Epoch 5/10\n",
      "225/225 [==============================] - 52s 231ms/step - loss: 0.0180 - accuracy: 0.9936 - val_loss: 0.0521 - val_accuracy: 0.9802\n",
      "Epoch 6/10\n",
      "225/225 [==============================] - 51s 229ms/step - loss: 0.0231 - accuracy: 0.9917 - val_loss: 0.0196 - val_accuracy: 0.9934\n",
      "Epoch 7/10\n",
      "225/225 [==============================] - 51s 228ms/step - loss: 0.0068 - accuracy: 0.9979 - val_loss: 0.0346 - val_accuracy: 0.9884\n",
      "Epoch 8/10\n",
      "225/225 [==============================] - 51s 227ms/step - loss: 0.0137 - accuracy: 0.9953 - val_loss: 0.0228 - val_accuracy: 0.9922\n",
      "Epoch 9/10\n",
      "225/225 [==============================] - 51s 228ms/step - loss: 0.0217 - accuracy: 0.9925 - val_loss: 0.0167 - val_accuracy: 0.9961\n",
      "Epoch 10/10\n",
      "225/225 [==============================] - 51s 229ms/step - loss: 0.0053 - accuracy: 0.9983 - val_loss: 0.5223 - val_accuracy: 0.9057\n"
     ]
    }
   ],
   "source": [
    "df_metrics = clf.fit(X_train, y_train, X_test, y_test, y_true,plot_test_acc=True)"
   ]
  },
  {
   "cell_type": "code",
   "execution_count": 63,
   "metadata": {},
   "outputs": [
    {
     "name": "stderr",
     "output_type": "stream",
     "text": [
      "C:\\Users\\moham\\AppData\\Local\\Programs\\Python\\Python38\\lib\\site-packages\\tensorflow\\python\\keras\\utils\\generic_utils.py:494: CustomMaskWarning: Custom mask layers require a config and must override get_config. When loading, the custom mask layer must be passed to the custom_objects argument.\n",
      "  warnings.warn('Custom mask layers require a config and must override '\n"
     ]
    }
   ],
   "source": [
    "best_model = load_model('best_model.hdf5')\n",
    "best_model.save('models/prosup_dtm_{}_raw.hdf5'.format(window))"
   ]
  },
  {
   "cell_type": "code",
   "execution_count": 64,
   "metadata": {},
   "outputs": [
    {
     "name": "stdout",
     "output_type": "stream",
     "text": [
      "449/449 [==============================] - 8s 15ms/step - loss: 0.0167 - accuracy: 0.9961 0s - los\n"
     ]
    },
    {
     "data": {
      "text/plain": [
       "[0.016661610454320908, 0.9960951209068298]"
      ]
     },
     "execution_count": 64,
     "metadata": {},
     "output_type": "execute_result"
    }
   ],
   "source": [
    "best_model.evaluate(X_test,y_test)"
   ]
  },
  {
   "cell_type": "code",
   "execution_count": 3,
   "metadata": {},
   "outputs": [],
   "source": [
    "%matplotlib inline\n",
    "metrics_df = pd.read_csv('df_metrics.csv')\n",
    "best_model_df = pd.read_csv('df_best_model.csv')\n",
    "history_df = pd.read_csv('history.csv')"
   ]
  },
  {
   "cell_type": "code",
   "execution_count": 4,
   "metadata": {},
   "outputs": [
    {
     "data": {
      "text/html": [
       "<div>\n",
       "<style scoped>\n",
       "    .dataframe tbody tr th:only-of-type {\n",
       "        vertical-align: middle;\n",
       "    }\n",
       "\n",
       "    .dataframe tbody tr th {\n",
       "        vertical-align: top;\n",
       "    }\n",
       "\n",
       "    .dataframe thead th {\n",
       "        text-align: right;\n",
       "    }\n",
       "</style>\n",
       "<table border=\"1\" class=\"dataframe\">\n",
       "  <thead>\n",
       "    <tr style=\"text-align: right;\">\n",
       "      <th></th>\n",
       "      <th>precision</th>\n",
       "      <th>accuracy</th>\n",
       "      <th>recall</th>\n",
       "      <th>duration</th>\n",
       "    </tr>\n",
       "  </thead>\n",
       "  <tbody>\n",
       "    <tr>\n",
       "      <th>0</th>\n",
       "      <td>0.993413</td>\n",
       "      <td>0.996095</td>\n",
       "      <td>0.996672</td>\n",
       "      <td>499.460961</td>\n",
       "    </tr>\n",
       "  </tbody>\n",
       "</table>\n",
       "</div>"
      ],
      "text/plain": [
       "   precision  accuracy    recall    duration\n",
       "0   0.993413  0.996095  0.996672  499.460961"
      ]
     },
     "execution_count": 4,
     "metadata": {},
     "output_type": "execute_result"
    }
   ],
   "source": [
    "metrics_df"
   ]
  },
  {
   "cell_type": "code",
   "execution_count": 5,
   "metadata": {},
   "outputs": [
    {
     "data": {
      "text/plain": [
       "<AxesSubplot:title={'center':'Loss'}>"
      ]
     },
     "execution_count": 5,
     "metadata": {},
     "output_type": "execute_result"
    },
    {
     "data": {
      "image/png": "[encoded data removed]",
      "text/plain": [
       "<Figure size 1008x576 with 1 Axes>"
      ]
     },
     "metadata": {
      "needs_background": "light"
     },
     "output_type": "display_data"
    },
    {
     "data": {
      "image/png": "[encoded data removed]",
      "text/plain": [
       "<Figure size 1008x576 with 1 Axes>"
      ]
     },
     "metadata": {
      "needs_background": "light"
     },
     "output_type": "display_data"
    }
   ],
   "source": [
    "history_df[['accuracy','val_accuracy']].plot(figsize=(14,8),title='Accuracy',grid=True,fontsize=15)\n",
    "history_df[['loss','val_loss']].plot(figsize=(14,8),title='Loss',grid=True,fontsize=15)"
   ]
  },
  {
   "cell_type": "code",
   "execution_count": null,
   "metadata": {},
   "outputs": [],
   "source": []
  }
 ],
 "metadata": {
  "kernelspec": {
   "display_name": "Python 3.8.0 64-bit",
   "language": "python",
   "name": "python38064bitcaed634bb72a48a5bf9eda0dc4f94389"
  },
  "language_info": {
   "codemirror_mode": {
    "name": "ipython",
    "version": 3
   },
   "file_extension": ".py",
   "mimetype": "text/x-python",
   "name": "python",
   "nbconvert_exporter": "python",
   "pygments_lexer": "ipython3",
   "version": "3.8.5"
  }
 },
 "nbformat": 4,
 "nbformat_minor": 4
}
