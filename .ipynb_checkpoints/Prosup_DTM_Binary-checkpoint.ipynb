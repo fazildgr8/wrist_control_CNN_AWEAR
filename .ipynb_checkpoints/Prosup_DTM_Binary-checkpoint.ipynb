{
 "cells": [
  {
   "cell_type": "markdown",
   "metadata": {},
   "source": [
    "# ProSup DTM Binary Movement Classifier"
   ]
  },
  {
   "cell_type": "code",
   "execution_count": 6,
   "metadata": {},
   "outputs": [],
   "source": [
    "import pandas as pd\n",
    "from Data_preparation_Library import *\n",
    "import numpy as np\n",
    "import matplotlib.pyplot as plt\n",
    "from tqdm.notebook import tqdm\n",
    "from time import time\n",
    "from sklearn.model_selection import train_test_split\n",
    "from tensorflow.keras.models import load_model\n",
    "from random import choice\n",
    "from scipy import signal\n",
    "from pickle import load"
   ]
  },
  {
   "cell_type": "code",
   "execution_count": 7,
   "metadata": {},
   "outputs": [],
   "source": [
    "def filter_df(files_df,order=1,cf=50,fs=2000):\n",
    "    b,a = signal.butter(1, 50,fs=fs)\n",
    "    for i in range(len(files_df)):\n",
    "        emg_df = pd.DataFrame(columns=emg_labels)\n",
    "        for labels in emg_labels:\n",
    "            emg_df[labels] = signal.lfilter(b, a,files_df[i][labels])\n",
    "        files_df[i][emg_labels] = np.array(emg_df)\n",
    "    return files_df\n",
    "emg_labels = ['EMG1','EMG2','EMG3','EMG4','EMG5','EMG6','EMG7','EMG8']"
   ]
  },
  {
   "cell_type": "markdown",
   "metadata": {},
   "source": [
    "## Generate File Names"
   ]
  },
  {
   "cell_type": "markdown",
   "metadata": {},
   "source": [
    "### Pronation Supination Files"
   ]
  },
  {
   "cell_type": "code",
   "execution_count": 9,
   "metadata": {},
   "outputs": [],
   "source": [
    "prosup_files = []\n",
    "dtm_files = []\n",
    "subjects = ['Fazil','Nikhil','Ingy','Abhishek','Jai','Deepti','Nirmayee'] #'Fazil/day_04_14_21' 'Varun'"
   ]
  },
  {
   "cell_type": "code",
   "execution_count": 10,
   "metadata": {
    "scrolled": true
   },
   "outputs": [
    {
     "data": {
      "text/plain": [
       "['Subjects/Fazil/computed_Bulb.csv',\n",
       " 'Subjects/Fazil/computed_Bulb01.csv',\n",
       " 'Subjects/Fazil/computed_Bulb02.csv',\n",
       " 'Subjects/Fazil/computed_Screw.csv',\n",
       " 'Subjects/Fazil/computed_Screw01.csv',\n",
       " 'Subjects/Fazil/computed_Screw02.csv',\n",
       " 'Subjects/Nikhil/computed_Bulb.csv',\n",
       " 'Subjects/Nikhil/computed_Bulb01.csv',\n",
       " 'Subjects/Nikhil/computed_Bulb02.csv',\n",
       " 'Subjects/Nikhil/computed_Screw.csv',\n",
       " 'Subjects/Nikhil/computed_Screw01.csv',\n",
       " 'Subjects/Nikhil/computed_Screw02.csv',\n",
       " 'Subjects/Ingy/computed_Bulb.csv',\n",
       " 'Subjects/Ingy/computed_Bulb01.csv',\n",
       " 'Subjects/Ingy/computed_Bulb02.csv',\n",
       " 'Subjects/Ingy/computed_Screw.csv',\n",
       " 'Subjects/Ingy/computed_Screw01.csv',\n",
       " 'Subjects/Ingy/computed_Screw02.csv',\n",
       " 'Subjects/Abhishek/computed_Bulb.csv',\n",
       " 'Subjects/Abhishek/computed_Bulb01.csv',\n",
       " 'Subjects/Abhishek/computed_Bulb02.csv',\n",
       " 'Subjects/Abhishek/computed_Screw.csv',\n",
       " 'Subjects/Abhishek/computed_Screw01.csv',\n",
       " 'Subjects/Abhishek/computed_Screw02.csv',\n",
       " 'Subjects/Jai/computed_Bulb.csv',\n",
       " 'Subjects/Jai/computed_Bulb01.csv',\n",
       " 'Subjects/Jai/computed_Bulb02.csv',\n",
       " 'Subjects/Jai/computed_Screw.csv',\n",
       " 'Subjects/Jai/computed_Screw01.csv',\n",
       " 'Subjects/Jai/computed_Screw02.csv',\n",
       " 'Subjects/Deepti/computed_Bulb.csv',\n",
       " 'Subjects/Deepti/computed_Bulb01.csv',\n",
       " 'Subjects/Deepti/computed_Bulb02.csv',\n",
       " 'Subjects/Deepti/computed_Screw.csv',\n",
       " 'Subjects/Deepti/computed_Screw01.csv',\n",
       " 'Subjects/Deepti/computed_Screw02.csv',\n",
       " 'Subjects/Nirmayee/computed_Bulb.csv',\n",
       " 'Subjects/Nirmayee/computed_Bulb01.csv',\n",
       " 'Subjects/Nirmayee/computed_Bulb02.csv',\n",
       " 'Subjects/Nirmayee/computed_Screw.csv',\n",
       " 'Subjects/Nirmayee/computed_Screw01.csv',\n",
       " 'Subjects/Nirmayee/computed_Screw02.csv']"
      ]
     },
     "execution_count": 10,
     "metadata": {},
     "output_type": "execute_result"
    }
   ],
   "source": [
    "for subj in subjects:\n",
    "    path = 'Subjects/'+subj\n",
    "    # trial_names = ['Bulb','Hammer'] # 'Bulb','Hammer' ,'Cup','Screw'\n",
    "    trial_names = ['Bulb','Screw'] #,\n",
    "    for exp in trial_names:\n",
    "        for i in range(3):\n",
    "            if(i==0):\n",
    "                prosup_files.append(path+'/computed_'+exp+'.csv')\n",
    "            else:\n",
    "                prosup_files.append(path+'/computed_'+exp+'0'+str(i)+'.csv')\n",
    "prosup_files"
   ]
  },
  {
   "cell_type": "code",
   "execution_count": 11,
   "metadata": {},
   "outputs": [],
   "source": [
    "prosup_files_df = []\n",
    "for file in prosup_files:\n",
    "    prosup_files_df.append(pd.read_csv(file,index_col=0))\n",
    "prosup_files_df = filter_df(prosup_files_df)"
   ]
  },
  {
   "cell_type": "markdown",
   "metadata": {},
   "source": [
    "### Rearrange "
   ]
  },
  {
   "cell_type": "code",
   "execution_count": 12,
   "metadata": {},
   "outputs": [
    {
     "data": {
      "text/plain": [
       "[['EMG8', 'EMG1', 'EMG2', 'EMG3', 'EMG4', 'EMG5', 'EMG6', 'EMG7'],\n",
       " ['EMG2', 'EMG3', 'EMG4', 'EMG5', 'EMG6', 'EMG7', 'EMG8', 'EMG1']]"
      ]
     },
     "execution_count": 12,
     "metadata": {},
     "output_type": "execute_result"
    }
   ],
   "source": [
    "from collections import deque\n",
    "rearr_labels = []\n",
    "labels = deque(emg_labels)\n",
    "labels.rotate(1)\n",
    "rearr_labels.append(list(labels))\n",
    "labels.rotate(-2)\n",
    "rearr_labels.append(list(labels))\n",
    "rearr_labels"
   ]
  },
  {
   "cell_type": "code",
   "execution_count": 14,
   "metadata": {},
   "outputs": [
    {
     "data": {
      "application/vnd.jupyter.widget-view+json": {
       "model_id": "7bfc9247140241868decb56a0409fec2",
       "version_major": 2,
       "version_minor": 0
      },
      "text/plain": [
       "HBox(children=(FloatProgress(value=0.0, max=42.0), HTML(value='')))"
      ]
     },
     "metadata": {},
     "output_type": "display_data"
    },
    {
     "name": "stdout",
     "output_type": "stream",
     "text": [
      "\n"
     ]
    },
    {
     "data": {
      "text/plain": [
       "126"
      ]
     },
     "execution_count": 14,
     "metadata": {},
     "output_type": "execute_result"
    }
   ],
   "source": [
    "files_df_rearrange = []\n",
    "for df in tqdm(prosup_files_df):\n",
    "    for lb in rearr_labels:\n",
    "        df[emg_labels] = df[lb]\n",
    "        files_df_rearrange.append(df) \n",
    "    \n",
    "prosup_files_df = prosup_files_df+files_df_rearrange\n",
    "len(prosup_files_df)"
   ]
  },
  {
   "cell_type": "markdown",
   "metadata": {},
   "source": [
    "### DTM Files"
   ]
  },
  {
   "cell_type": "code",
   "execution_count": 15,
   "metadata": {
    "scrolled": true
   },
   "outputs": [
    {
     "data": {
      "text/plain": [
       "['Subjects/Fazil/computed_Hammer.csv',\n",
       " 'Subjects/Fazil/computed_Hammer01.csv',\n",
       " 'Subjects/Fazil/computed_Hammer02.csv',\n",
       " 'Subjects/Fazil/computed_Cup.csv',\n",
       " 'Subjects/Fazil/computed_Cup01.csv',\n",
       " 'Subjects/Fazil/computed_Cup02.csv',\n",
       " 'Subjects/Nikhil/computed_Hammer.csv',\n",
       " 'Subjects/Nikhil/computed_Hammer01.csv',\n",
       " 'Subjects/Nikhil/computed_Hammer02.csv',\n",
       " 'Subjects/Nikhil/computed_Cup.csv',\n",
       " 'Subjects/Nikhil/computed_Cup01.csv',\n",
       " 'Subjects/Nikhil/computed_Cup02.csv',\n",
       " 'Subjects/Ingy/computed_Hammer.csv',\n",
       " 'Subjects/Ingy/computed_Hammer01.csv',\n",
       " 'Subjects/Ingy/computed_Hammer02.csv',\n",
       " 'Subjects/Ingy/computed_Cup.csv',\n",
       " 'Subjects/Ingy/computed_Cup01.csv',\n",
       " 'Subjects/Ingy/computed_Cup02.csv',\n",
       " 'Subjects/Abhishek/computed_Hammer.csv',\n",
       " 'Subjects/Abhishek/computed_Hammer01.csv',\n",
       " 'Subjects/Abhishek/computed_Hammer02.csv',\n",
       " 'Subjects/Abhishek/computed_Cup.csv',\n",
       " 'Subjects/Abhishek/computed_Cup01.csv',\n",
       " 'Subjects/Abhishek/computed_Cup02.csv',\n",
       " 'Subjects/Jai/computed_Hammer.csv',\n",
       " 'Subjects/Jai/computed_Hammer01.csv',\n",
       " 'Subjects/Jai/computed_Hammer02.csv',\n",
       " 'Subjects/Jai/computed_Cup.csv',\n",
       " 'Subjects/Jai/computed_Cup01.csv',\n",
       " 'Subjects/Jai/computed_Cup02.csv',\n",
       " 'Subjects/Deepti/computed_Hammer.csv',\n",
       " 'Subjects/Deepti/computed_Hammer01.csv',\n",
       " 'Subjects/Deepti/computed_Hammer02.csv',\n",
       " 'Subjects/Deepti/computed_Cup.csv',\n",
       " 'Subjects/Deepti/computed_Cup01.csv',\n",
       " 'Subjects/Deepti/computed_Cup02.csv',\n",
       " 'Subjects/Nirmayee/computed_Hammer.csv',\n",
       " 'Subjects/Nirmayee/computed_Hammer01.csv',\n",
       " 'Subjects/Nirmayee/computed_Hammer02.csv',\n",
       " 'Subjects/Nirmayee/computed_Cup.csv',\n",
       " 'Subjects/Nirmayee/computed_Cup01.csv',\n",
       " 'Subjects/Nirmayee/computed_Cup02.csv']"
      ]
     },
     "execution_count": 15,
     "metadata": {},
     "output_type": "execute_result"
    }
   ],
   "source": [
    "for subj in subjects:\n",
    "    path = 'Subjects/'+subj\n",
    "    # trial_names = ['Bulb','Hammer'] # 'Bulb','Hammer' ,'Cup','Screw'\n",
    "    trial_names = ['Hammer','Cup'] #,\n",
    "    for exp in trial_names:\n",
    "        for i in range(3):\n",
    "            if(i==0):\n",
    "                dtm_files.append(path+'/computed_'+exp+'.csv')\n",
    "            else:\n",
    "                dtm_files.append(path+'/computed_'+exp+'0'+str(i)+'.csv')\n",
    "dtm_files"
   ]
  },
  {
   "cell_type": "code",
   "execution_count": 16,
   "metadata": {},
   "outputs": [],
   "source": [
    "dtm_files_df = []\n",
    "for file in dtm_files:\n",
    "    dtm_files_df.append(pd.read_csv(file,index_col=0))\n",
    "dtm_files_df = filter_df(dtm_files_df)"
   ]
  },
  {
   "cell_type": "markdown",
   "metadata": {},
   "source": [
    "### Rearrange "
   ]
  },
  {
   "cell_type": "code",
   "execution_count": 17,
   "metadata": {},
   "outputs": [
    {
     "data": {
      "text/plain": [
       "[['EMG8', 'EMG1', 'EMG2', 'EMG3', 'EMG4', 'EMG5', 'EMG6', 'EMG7'],\n",
       " ['EMG2', 'EMG3', 'EMG4', 'EMG5', 'EMG6', 'EMG7', 'EMG8', 'EMG1']]"
      ]
     },
     "execution_count": 17,
     "metadata": {},
     "output_type": "execute_result"
    }
   ],
   "source": [
    "from collections import deque\n",
    "rearr_labels = []\n",
    "labels = deque(emg_labels)\n",
    "labels.rotate(1)\n",
    "rearr_labels.append(list(labels))\n",
    "labels.rotate(-2)\n",
    "rearr_labels.append(list(labels))\n",
    "rearr_labels"
   ]
  },
  {
   "cell_type": "code",
   "execution_count": 18,
   "metadata": {},
   "outputs": [
    {
     "data": {
      "application/vnd.jupyter.widget-view+json": {
       "model_id": "d298d918b34843ef8be84e871e19507b",
       "version_major": 2,
       "version_minor": 0
      },
      "text/plain": [
       "HBox(children=(FloatProgress(value=0.0, max=42.0), HTML(value='')))"
      ]
     },
     "metadata": {},
     "output_type": "display_data"
    },
    {
     "name": "stdout",
     "output_type": "stream",
     "text": [
      "\n"
     ]
    },
    {
     "data": {
      "text/plain": [
       "126"
      ]
     },
     "execution_count": 18,
     "metadata": {},
     "output_type": "execute_result"
    }
   ],
   "source": [
    "files_df_rearrange = []\n",
    "for df in tqdm(dtm_files_df):\n",
    "    for lb in rearr_labels:\n",
    "        df[emg_labels] = df[lb]\n",
    "        files_df_rearrange.append(df) \n",
    "    \n",
    "dtm_files_df = dtm_files_df+files_df_rearrange\n",
    "len(dtm_files_df)"
   ]
  },
  {
   "cell_type": "markdown",
   "metadata": {},
   "source": [
    "## Dataset Preparation"
   ]
  },
  {
   "cell_type": "code",
   "execution_count": 19,
   "metadata": {},
   "outputs": [],
   "source": [
    "window = 250\n",
    "interval = 25\n",
    "Normalize = False\n",
    "rms = False\n",
    "angle_thresh_DTM = 0.005\n",
    "angle_thresh_prosup = 0.001"
   ]
  },
  {
   "cell_type": "code",
   "execution_count": 20,
   "metadata": {},
   "outputs": [
    {
     "data": {
      "application/vnd.jupyter.widget-view+json": {
       "model_id": "cf4fbce6d04c49bdbd27421d7b9be3e2",
       "version_major": 2,
       "version_minor": 0
      },
      "text/plain": [
       "HBox(children=(FloatProgress(value=0.0, max=126.0), HTML(value='')))"
      ]
     },
     "metadata": {},
     "output_type": "display_data"
    },
    {
     "name": "stdout",
     "output_type": "stream",
     "text": [
      "\n",
      "(366660, 250, 8) (366660, 3)\n"
     ]
    }
   ],
   "source": [
    "X_prosup, y_prosup = multiple_prep_data_DTM(prosup_files_df,\n",
    "                                      window,\n",
    "                                      interval,\n",
    "                                      Normalize,\n",
    "                                      rms,\n",
    "                                      angle_thresh_prosup)\n",
    "print(X_prosup.shape,y_prosup.shape)"
   ]
  },
  {
   "cell_type": "code",
   "execution_count": 21,
   "metadata": {},
   "outputs": [
    {
     "data": {
      "application/vnd.jupyter.widget-view+json": {
       "model_id": "45a1add16abf43998ac3034db8a4d8b9",
       "version_major": 2,
       "version_minor": 0
      },
      "text/plain": [
       "HBox(children=(FloatProgress(value=0.0, max=126.0), HTML(value='')))"
      ]
     },
     "metadata": {},
     "output_type": "display_data"
    },
    {
     "name": "stdout",
     "output_type": "stream",
     "text": [
      "\n",
      "(270900, 250, 8) (270900, 3)\n"
     ]
    }
   ],
   "source": [
    "X_dtm, y_dtm = multiple_prep_data_DTM(dtm_files_df,\n",
    "                                      window,\n",
    "                                      interval,\n",
    "                                      Normalize,\n",
    "                                      rms,\n",
    "                                      angle_thresh_DTM)\n",
    "print(X_dtm.shape,y_dtm.shape)"
   ]
  },
  {
   "cell_type": "markdown",
   "metadata": {},
   "source": [
    "## Merge ProSup and DTM Datasets to Bianry excluding Rest Labels"
   ]
  },
  {
   "cell_type": "code",
   "execution_count": 22,
   "metadata": {},
   "outputs": [
    {
     "data": {
      "application/vnd.jupyter.widget-view+json": {
       "model_id": "b754b667170e48a3ab0b4df67e71d4f6",
       "version_major": 2,
       "version_minor": 0
      },
      "text/plain": [
       "HBox(children=(FloatProgress(value=0.0, max=270900.0), HTML(value='')))"
      ]
     },
     "metadata": {},
     "output_type": "display_data"
    },
    {
     "name": "stdout",
     "output_type": "stream",
     "text": [
      "\n"
     ]
    },
    {
     "data": {
      "application/vnd.jupyter.widget-view+json": {
       "model_id": "078f8880ec3244bdab3a751579e54900",
       "version_major": 2,
       "version_minor": 0
      },
      "text/plain": [
       "HBox(children=(FloatProgress(value=0.0, max=366660.0), HTML(value='')))"
      ]
     },
     "metadata": {},
     "output_type": "display_data"
    },
    {
     "name": "stdout",
     "output_type": "stream",
     "text": [
      "\n"
     ]
    }
   ],
   "source": [
    "X_dtm_n = []\n",
    "for i in tqdm(range(y_dtm.shape[0])):\n",
    "    if y_dtm[i][0]!=1:\n",
    "        X_dtm_n.append(X_dtm[i])\n",
    "X_dtm_n = np.array(X_dtm_n)        \n",
    "\n",
    "X_prosup_n = []\n",
    "for i in tqdm(range(y_prosup.shape[0])):\n",
    "    if y_prosup[i][0]!=1:\n",
    "        X_prosup_n.append(X_prosup[i])\n",
    "X_prosup_n = np.array(X_prosup_n)  \n",
    "\n",
    "# prosup - 0\n",
    "# DTM - 1\n",
    "X = np.vstack((X_prosup_n,X_dtm_n))\n",
    "a = np.array([[1,0]]*X_prosup_n.shape[0])\n",
    "b = np.array([[0,1]]*X_dtm_n.shape[0])\n",
    "y = np.vstack((a,b))"
   ]
  },
  {
   "cell_type": "code",
   "execution_count": 23,
   "metadata": {},
   "outputs": [
    {
     "data": {
      "text/plain": [
       "((476427, 250, 8), (476427, 2))"
      ]
     },
     "execution_count": 23,
     "metadata": {},
     "output_type": "execute_result"
    }
   ],
   "source": [
    "X.shape, y.shape"
   ]
  },
  {
   "cell_type": "markdown",
   "metadata": {},
   "source": [
    "## Time Window Normalization"
   ]
  },
  {
   "cell_type": "code",
   "execution_count": 16,
   "metadata": {},
   "outputs": [],
   "source": [
    "def variance(data, ddof=0):\n",
    "    n = len(data)\n",
    "    mean = sum(data) / n\n",
    "    return sum((x - mean) ** 2 for x in data) / (n - ddof)\n",
    "\n",
    "X_mean = np.zeros(X[0].shape)\n",
    "for x in X:\n",
    "    X_mean = X_mean + x\n",
    "X_mean = X_mean/X.shape[0]\n",
    "X_std = np.sqrt(variance(X))\n",
    "np.save('mean_std',np.array([X_mean,X_std]))"
   ]
  },
  {
   "cell_type": "code",
   "execution_count": 24,
   "metadata": {},
   "outputs": [],
   "source": [
    "X_mean = np.load('mean_std_master.npy')[0]\n",
    "X_std = np.load('mean_std_master.npy')[1]"
   ]
  },
  {
   "cell_type": "code",
   "execution_count": 25,
   "metadata": {},
   "outputs": [
    {
     "data": {
      "application/vnd.jupyter.widget-view+json": {
       "model_id": "eb36b6a210634cc49be293ff9e79d1f9",
       "version_major": 2,
       "version_minor": 0
      },
      "text/plain": [
       "HBox(children=(FloatProgress(value=0.0, max=476427.0), HTML(value='')))"
      ]
     },
     "metadata": {},
     "output_type": "display_data"
    },
    {
     "name": "stdout",
     "output_type": "stream",
     "text": [
      "\n"
     ]
    }
   ],
   "source": [
    "Xn = []\n",
    "for x in tqdm(X):\n",
    "    Xn.append((x-X_mean)/X_std)\n",
    "X = np.array(Xn)"
   ]
  },
  {
   "cell_type": "code",
   "execution_count": 18,
   "metadata": {},
   "outputs": [],
   "source": [
    "np.save('prepared_data/X_prosup_dtm_tw',X)\n",
    "np.save('prepared_data/y_prosup_dtm_tw',y)"
   ]
  },
  {
   "cell_type": "code",
   "execution_count": 48,
   "metadata": {},
   "outputs": [],
   "source": [
    "X = np.load('prepared_data/X_prosup_dtm_tw.npy')\n",
    "y = np.load('prepared_data/y_prosup_dtm_tw.npy')"
   ]
  },
  {
   "cell_type": "code",
   "execution_count": 26,
   "metadata": {},
   "outputs": [
    {
     "name": "stdout",
     "output_type": "stream",
     "text": [
      "(381141, 250, 8)\n",
      "(95286, 250, 8)\n",
      "(381141, 2)\n",
      "(95286, 2)\n"
     ]
    }
   ],
   "source": [
    "X_train, X_test, y_train, y_test = train_test_split(X, y,test_size=0.2)\n",
    "for data in [X_train, X_test, y_train, y_test]:\n",
    "    print(data.shape)"
   ]
  },
  {
   "cell_type": "code",
   "execution_count": 27,
   "metadata": {},
   "outputs": [],
   "source": [
    "y_true = []\n",
    "for d in y_test:\n",
    "    idx = list(d).index(1)\n",
    "    y_true.append(idx)"
   ]
  },
  {
   "cell_type": "markdown",
   "metadata": {},
   "source": [
    "## Label Distribution"
   ]
  },
  {
   "cell_type": "code",
   "execution_count": 28,
   "metadata": {},
   "outputs": [],
   "source": [
    "def count(y):\n",
    "    s0 = 0\n",
    "    s1 = 0\n",
    "    for arr in y:\n",
    "        if arr[0]==1:\n",
    "            s0 = s0+1\n",
    "        if arr[1]==1:\n",
    "            s1 = s1+1\n",
    "    ls = [s0,s1]\n",
    "    for i in range(2):\n",
    "        print(i,'-',ls[i],'[',ls[i]*100/len(y),'%]')"
   ]
  },
  {
   "cell_type": "code",
   "execution_count": 29,
   "metadata": {},
   "outputs": [
    {
     "name": "stdout",
     "output_type": "stream",
     "text": [
      "0 - 260904 [ 68.45340700685573 %]\n",
      "1 - 120237 [ 31.54659299314427 %]\n",
      "None\n",
      "0 - 65208 [ 68.43397770921227 %]\n",
      "1 - 30078 [ 31.566022290787735 %]\n",
      "None\n"
     ]
    }
   ],
   "source": [
    "count(y_train)\n",
    "count(y_test)"
   ]
  },
  {
   "cell_type": "markdown",
   "metadata": {},
   "source": [
    "# InceptionTime Trainer"
   ]
  },
  {
   "cell_type": "code",
   "execution_count": 30,
   "metadata": {},
   "outputs": [],
   "source": [
    "import numpy as np\n",
    "import sklearn\n",
    "import pandas as pd\n",
    "import sys\n",
    "import subprocess\n",
    "import tensorflow as tf\n",
    "from InceptionTime.classifiers.inception import Classifier_INCEPTION"
   ]
  },
  {
   "cell_type": "code",
   "execution_count": 31,
   "metadata": {
    "scrolled": true
   },
   "outputs": [
    {
     "name": "stdout",
     "output_type": "stream",
     "text": [
      "Model: \"model\"\n",
      "__________________________________________________________________________________________________\n",
      "Layer (type)                    Output Shape         Param #     Connected to                     \n",
      "==================================================================================================\n",
      "input_1 (InputLayer)            [(None, 250, 8)]     0                                            \n",
      "__________________________________________________________________________________________________\n",
      "conv1d (Conv1D)                 (None, 250, 32)      256         input_1[0][0]                    \n",
      "__________________________________________________________________________________________________\n",
      "max_pooling1d (MaxPooling1D)    (None, 250, 8)       0           input_1[0][0]                    \n",
      "__________________________________________________________________________________________________\n",
      "conv1d_1 (Conv1D)               (None, 250, 32)      10240       conv1d[0][0]                     \n",
      "__________________________________________________________________________________________________\n",
      "conv1d_2 (Conv1D)               (None, 250, 32)      5120        conv1d[0][0]                     \n",
      "__________________________________________________________________________________________________\n",
      "conv1d_3 (Conv1D)               (None, 250, 32)      2048        conv1d[0][0]                     \n",
      "__________________________________________________________________________________________________\n",
      "conv1d_4 (Conv1D)               (None, 250, 32)      256         max_pooling1d[0][0]              \n",
      "__________________________________________________________________________________________________\n",
      "concatenate (Concatenate)       (None, 250, 128)     0           conv1d_1[0][0]                   \n",
      "                                                                 conv1d_2[0][0]                   \n",
      "                                                                 conv1d_3[0][0]                   \n",
      "                                                                 conv1d_4[0][0]                   \n",
      "__________________________________________________________________________________________________\n",
      "batch_normalization (BatchNorma (None, 250, 128)     512         concatenate[0][0]                \n",
      "__________________________________________________________________________________________________\n",
      "activation (Activation)         (None, 250, 128)     0           batch_normalization[0][0]        \n",
      "__________________________________________________________________________________________________\n",
      "conv1d_5 (Conv1D)               (None, 250, 32)      4096        activation[0][0]                 \n",
      "__________________________________________________________________________________________________\n",
      "max_pooling1d_1 (MaxPooling1D)  (None, 250, 128)     0           activation[0][0]                 \n",
      "__________________________________________________________________________________________________\n",
      "conv1d_6 (Conv1D)               (None, 250, 32)      10240       conv1d_5[0][0]                   \n",
      "__________________________________________________________________________________________________\n",
      "conv1d_7 (Conv1D)               (None, 250, 32)      5120        conv1d_5[0][0]                   \n",
      "__________________________________________________________________________________________________\n",
      "conv1d_8 (Conv1D)               (None, 250, 32)      2048        conv1d_5[0][0]                   \n",
      "__________________________________________________________________________________________________\n",
      "conv1d_9 (Conv1D)               (None, 250, 32)      4096        max_pooling1d_1[0][0]            \n",
      "__________________________________________________________________________________________________\n",
      "concatenate_1 (Concatenate)     (None, 250, 128)     0           conv1d_6[0][0]                   \n",
      "                                                                 conv1d_7[0][0]                   \n",
      "                                                                 conv1d_8[0][0]                   \n",
      "                                                                 conv1d_9[0][0]                   \n",
      "__________________________________________________________________________________________________\n",
      "batch_normalization_1 (BatchNor (None, 250, 128)     512         concatenate_1[0][0]              \n",
      "__________________________________________________________________________________________________\n",
      "activation_1 (Activation)       (None, 250, 128)     0           batch_normalization_1[0][0]      \n",
      "__________________________________________________________________________________________________\n",
      "conv1d_10 (Conv1D)              (None, 250, 32)      4096        activation_1[0][0]               \n",
      "__________________________________________________________________________________________________\n",
      "max_pooling1d_2 (MaxPooling1D)  (None, 250, 128)     0           activation_1[0][0]               \n",
      "__________________________________________________________________________________________________\n",
      "conv1d_11 (Conv1D)              (None, 250, 32)      10240       conv1d_10[0][0]                  \n",
      "__________________________________________________________________________________________________\n",
      "conv1d_12 (Conv1D)              (None, 250, 32)      5120        conv1d_10[0][0]                  \n",
      "__________________________________________________________________________________________________\n",
      "conv1d_13 (Conv1D)              (None, 250, 32)      2048        conv1d_10[0][0]                  \n",
      "__________________________________________________________________________________________________\n",
      "conv1d_14 (Conv1D)              (None, 250, 32)      4096        max_pooling1d_2[0][0]            \n",
      "__________________________________________________________________________________________________\n",
      "concatenate_2 (Concatenate)     (None, 250, 128)     0           conv1d_11[0][0]                  \n",
      "                                                                 conv1d_12[0][0]                  \n",
      "                                                                 conv1d_13[0][0]                  \n",
      "                                                                 conv1d_14[0][0]                  \n",
      "__________________________________________________________________________________________________\n",
      "conv1d_15 (Conv1D)              (None, 250, 128)     1024        input_1[0][0]                    \n",
      "__________________________________________________________________________________________________\n",
      "batch_normalization_2 (BatchNor (None, 250, 128)     512         concatenate_2[0][0]              \n",
      "__________________________________________________________________________________________________\n",
      "batch_normalization_3 (BatchNor (None, 250, 128)     512         conv1d_15[0][0]                  \n",
      "__________________________________________________________________________________________________\n",
      "activation_2 (Activation)       (None, 250, 128)     0           batch_normalization_2[0][0]      \n",
      "__________________________________________________________________________________________________\n",
      "add (Add)                       (None, 250, 128)     0           batch_normalization_3[0][0]      \n",
      "                                                                 activation_2[0][0]               \n",
      "__________________________________________________________________________________________________\n",
      "activation_3 (Activation)       (None, 250, 128)     0           add[0][0]                        \n",
      "__________________________________________________________________________________________________\n",
      "conv1d_16 (Conv1D)              (None, 250, 32)      4096        activation_3[0][0]               \n",
      "__________________________________________________________________________________________________\n",
      "max_pooling1d_3 (MaxPooling1D)  (None, 250, 128)     0           activation_3[0][0]               \n",
      "__________________________________________________________________________________________________\n",
      "conv1d_17 (Conv1D)              (None, 250, 32)      10240       conv1d_16[0][0]                  \n",
      "__________________________________________________________________________________________________\n",
      "conv1d_18 (Conv1D)              (None, 250, 32)      5120        conv1d_16[0][0]                  \n",
      "__________________________________________________________________________________________________\n",
      "conv1d_19 (Conv1D)              (None, 250, 32)      2048        conv1d_16[0][0]                  \n",
      "__________________________________________________________________________________________________\n",
      "conv1d_20 (Conv1D)              (None, 250, 32)      4096        max_pooling1d_3[0][0]            \n",
      "__________________________________________________________________________________________________\n",
      "concatenate_3 (Concatenate)     (None, 250, 128)     0           conv1d_17[0][0]                  \n",
      "                                                                 conv1d_18[0][0]                  \n",
      "                                                                 conv1d_19[0][0]                  \n",
      "                                                                 conv1d_20[0][0]                  \n",
      "__________________________________________________________________________________________________\n",
      "batch_normalization_4 (BatchNor (None, 250, 128)     512         concatenate_3[0][0]              \n",
      "__________________________________________________________________________________________________\n",
      "activation_4 (Activation)       (None, 250, 128)     0           batch_normalization_4[0][0]      \n",
      "__________________________________________________________________________________________________\n",
      "conv1d_21 (Conv1D)              (None, 250, 32)      4096        activation_4[0][0]               \n",
      "__________________________________________________________________________________________________\n",
      "max_pooling1d_4 (MaxPooling1D)  (None, 250, 128)     0           activation_4[0][0]               \n",
      "__________________________________________________________________________________________________\n",
      "conv1d_22 (Conv1D)              (None, 250, 32)      10240       conv1d_21[0][0]                  \n",
      "__________________________________________________________________________________________________\n",
      "conv1d_23 (Conv1D)              (None, 250, 32)      5120        conv1d_21[0][0]                  \n",
      "__________________________________________________________________________________________________\n",
      "conv1d_24 (Conv1D)              (None, 250, 32)      2048        conv1d_21[0][0]                  \n",
      "__________________________________________________________________________________________________\n",
      "conv1d_25 (Conv1D)              (None, 250, 32)      4096        max_pooling1d_4[0][0]            \n",
      "__________________________________________________________________________________________________\n",
      "concatenate_4 (Concatenate)     (None, 250, 128)     0           conv1d_22[0][0]                  \n",
      "                                                                 conv1d_23[0][0]                  \n",
      "                                                                 conv1d_24[0][0]                  \n",
      "                                                                 conv1d_25[0][0]                  \n",
      "__________________________________________________________________________________________________\n",
      "batch_normalization_5 (BatchNor (None, 250, 128)     512         concatenate_4[0][0]              \n",
      "__________________________________________________________________________________________________\n",
      "activation_5 (Activation)       (None, 250, 128)     0           batch_normalization_5[0][0]      \n",
      "__________________________________________________________________________________________________\n",
      "conv1d_26 (Conv1D)              (None, 250, 32)      4096        activation_5[0][0]               \n",
      "__________________________________________________________________________________________________\n",
      "max_pooling1d_5 (MaxPooling1D)  (None, 250, 128)     0           activation_5[0][0]               \n",
      "__________________________________________________________________________________________________\n",
      "conv1d_27 (Conv1D)              (None, 250, 32)      10240       conv1d_26[0][0]                  \n",
      "__________________________________________________________________________________________________\n",
      "conv1d_28 (Conv1D)              (None, 250, 32)      5120        conv1d_26[0][0]                  \n",
      "__________________________________________________________________________________________________\n",
      "conv1d_29 (Conv1D)              (None, 250, 32)      2048        conv1d_26[0][0]                  \n",
      "__________________________________________________________________________________________________\n",
      "conv1d_30 (Conv1D)              (None, 250, 32)      4096        max_pooling1d_5[0][0]            \n",
      "__________________________________________________________________________________________________\n",
      "concatenate_5 (Concatenate)     (None, 250, 128)     0           conv1d_27[0][0]                  \n",
      "                                                                 conv1d_28[0][0]                  \n",
      "                                                                 conv1d_29[0][0]                  \n",
      "                                                                 conv1d_30[0][0]                  \n",
      "__________________________________________________________________________________________________\n",
      "conv1d_31 (Conv1D)              (None, 250, 128)     16384       activation_3[0][0]               \n",
      "__________________________________________________________________________________________________\n",
      "batch_normalization_6 (BatchNor (None, 250, 128)     512         concatenate_5[0][0]              \n",
      "__________________________________________________________________________________________________\n",
      "batch_normalization_7 (BatchNor (None, 250, 128)     512         conv1d_31[0][0]                  \n",
      "__________________________________________________________________________________________________\n",
      "activation_6 (Activation)       (None, 250, 128)     0           batch_normalization_6[0][0]      \n",
      "__________________________________________________________________________________________________\n",
      "add_1 (Add)                     (None, 250, 128)     0           batch_normalization_7[0][0]      \n",
      "                                                                 activation_6[0][0]               \n",
      "__________________________________________________________________________________________________\n",
      "activation_7 (Activation)       (None, 250, 128)     0           add_1[0][0]                      \n",
      "__________________________________________________________________________________________________\n",
      "conv1d_32 (Conv1D)              (None, 250, 32)      4096        activation_7[0][0]               \n",
      "__________________________________________________________________________________________________\n",
      "max_pooling1d_6 (MaxPooling1D)  (None, 250, 128)     0           activation_7[0][0]               \n",
      "__________________________________________________________________________________________________\n",
      "conv1d_33 (Conv1D)              (None, 250, 32)      10240       conv1d_32[0][0]                  \n",
      "__________________________________________________________________________________________________\n",
      "conv1d_34 (Conv1D)              (None, 250, 32)      5120        conv1d_32[0][0]                  \n",
      "__________________________________________________________________________________________________\n",
      "conv1d_35 (Conv1D)              (None, 250, 32)      2048        conv1d_32[0][0]                  \n",
      "__________________________________________________________________________________________________\n",
      "conv1d_36 (Conv1D)              (None, 250, 32)      4096        max_pooling1d_6[0][0]            \n",
      "__________________________________________________________________________________________________\n",
      "concatenate_6 (Concatenate)     (None, 250, 128)     0           conv1d_33[0][0]                  \n",
      "                                                                 conv1d_34[0][0]                  \n",
      "                                                                 conv1d_35[0][0]                  \n",
      "                                                                 conv1d_36[0][0]                  \n",
      "__________________________________________________________________________________________________\n",
      "batch_normalization_8 (BatchNor (None, 250, 128)     512         concatenate_6[0][0]              \n",
      "__________________________________________________________________________________________________\n",
      "activation_8 (Activation)       (None, 250, 128)     0           batch_normalization_8[0][0]      \n",
      "__________________________________________________________________________________________________\n",
      "conv1d_37 (Conv1D)              (None, 250, 32)      4096        activation_8[0][0]               \n",
      "__________________________________________________________________________________________________\n",
      "max_pooling1d_7 (MaxPooling1D)  (None, 250, 128)     0           activation_8[0][0]               \n",
      "__________________________________________________________________________________________________\n",
      "conv1d_38 (Conv1D)              (None, 250, 32)      10240       conv1d_37[0][0]                  \n",
      "__________________________________________________________________________________________________\n",
      "conv1d_39 (Conv1D)              (None, 250, 32)      5120        conv1d_37[0][0]                  \n",
      "__________________________________________________________________________________________________\n",
      "conv1d_40 (Conv1D)              (None, 250, 32)      2048        conv1d_37[0][0]                  \n",
      "__________________________________________________________________________________________________\n",
      "conv1d_41 (Conv1D)              (None, 250, 32)      4096        max_pooling1d_7[0][0]            \n",
      "__________________________________________________________________________________________________\n",
      "concatenate_7 (Concatenate)     (None, 250, 128)     0           conv1d_38[0][0]                  \n",
      "                                                                 conv1d_39[0][0]                  \n",
      "                                                                 conv1d_40[0][0]                  \n",
      "                                                                 conv1d_41[0][0]                  \n",
      "__________________________________________________________________________________________________\n",
      "batch_normalization_9 (BatchNor (None, 250, 128)     512         concatenate_7[0][0]              \n",
      "__________________________________________________________________________________________________\n",
      "activation_9 (Activation)       (None, 250, 128)     0           batch_normalization_9[0][0]      \n",
      "__________________________________________________________________________________________________\n",
      "conv1d_42 (Conv1D)              (None, 250, 32)      4096        activation_9[0][0]               \n",
      "__________________________________________________________________________________________________\n",
      "max_pooling1d_8 (MaxPooling1D)  (None, 250, 128)     0           activation_9[0][0]               \n",
      "__________________________________________________________________________________________________\n",
      "conv1d_43 (Conv1D)              (None, 250, 32)      10240       conv1d_42[0][0]                  \n",
      "__________________________________________________________________________________________________\n",
      "conv1d_44 (Conv1D)              (None, 250, 32)      5120        conv1d_42[0][0]                  \n",
      "__________________________________________________________________________________________________\n",
      "conv1d_45 (Conv1D)              (None, 250, 32)      2048        conv1d_42[0][0]                  \n",
      "__________________________________________________________________________________________________\n",
      "conv1d_46 (Conv1D)              (None, 250, 32)      4096        max_pooling1d_8[0][0]            \n",
      "__________________________________________________________________________________________________\n",
      "concatenate_8 (Concatenate)     (None, 250, 128)     0           conv1d_43[0][0]                  \n",
      "                                                                 conv1d_44[0][0]                  \n",
      "                                                                 conv1d_45[0][0]                  \n",
      "                                                                 conv1d_46[0][0]                  \n",
      "__________________________________________________________________________________________________\n",
      "conv1d_47 (Conv1D)              (None, 250, 128)     16384       activation_7[0][0]               \n",
      "__________________________________________________________________________________________________\n",
      "batch_normalization_10 (BatchNo (None, 250, 128)     512         concatenate_8[0][0]              \n",
      "__________________________________________________________________________________________________\n",
      "batch_normalization_11 (BatchNo (None, 250, 128)     512         conv1d_47[0][0]                  \n",
      "__________________________________________________________________________________________________\n",
      "activation_10 (Activation)      (None, 250, 128)     0           batch_normalization_10[0][0]     \n",
      "__________________________________________________________________________________________________\n",
      "add_2 (Add)                     (None, 250, 128)     0           batch_normalization_11[0][0]     \n",
      "                                                                 activation_10[0][0]              \n",
      "__________________________________________________________________________________________________\n",
      "activation_11 (Activation)      (None, 250, 128)     0           add_2[0][0]                      \n",
      "__________________________________________________________________________________________________\n",
      "conv1d_48 (Conv1D)              (None, 250, 32)      4096        activation_11[0][0]              \n",
      "__________________________________________________________________________________________________\n",
      "max_pooling1d_9 (MaxPooling1D)  (None, 250, 128)     0           activation_11[0][0]              \n",
      "__________________________________________________________________________________________________\n",
      "conv1d_49 (Conv1D)              (None, 250, 32)      10240       conv1d_48[0][0]                  \n",
      "__________________________________________________________________________________________________\n",
      "conv1d_50 (Conv1D)              (None, 250, 32)      5120        conv1d_48[0][0]                  \n",
      "__________________________________________________________________________________________________\n",
      "conv1d_51 (Conv1D)              (None, 250, 32)      2048        conv1d_48[0][0]                  \n",
      "__________________________________________________________________________________________________\n",
      "conv1d_52 (Conv1D)              (None, 250, 32)      4096        max_pooling1d_9[0][0]            \n",
      "__________________________________________________________________________________________________\n",
      "concatenate_9 (Concatenate)     (None, 250, 128)     0           conv1d_49[0][0]                  \n",
      "                                                                 conv1d_50[0][0]                  \n",
      "                                                                 conv1d_51[0][0]                  \n",
      "                                                                 conv1d_52[0][0]                  \n",
      "__________________________________________________________________________________________________\n",
      "batch_normalization_12 (BatchNo (None, 250, 128)     512         concatenate_9[0][0]              \n",
      "__________________________________________________________________________________________________\n",
      "activation_12 (Activation)      (None, 250, 128)     0           batch_normalization_12[0][0]     \n",
      "__________________________________________________________________________________________________\n",
      "conv1d_53 (Conv1D)              (None, 250, 32)      4096        activation_12[0][0]              \n",
      "__________________________________________________________________________________________________\n",
      "max_pooling1d_10 (MaxPooling1D) (None, 250, 128)     0           activation_12[0][0]              \n",
      "__________________________________________________________________________________________________\n",
      "conv1d_54 (Conv1D)              (None, 250, 32)      10240       conv1d_53[0][0]                  \n",
      "__________________________________________________________________________________________________\n",
      "conv1d_55 (Conv1D)              (None, 250, 32)      5120        conv1d_53[0][0]                  \n",
      "__________________________________________________________________________________________________\n",
      "conv1d_56 (Conv1D)              (None, 250, 32)      2048        conv1d_53[0][0]                  \n",
      "__________________________________________________________________________________________________\n",
      "conv1d_57 (Conv1D)              (None, 250, 32)      4096        max_pooling1d_10[0][0]           \n",
      "__________________________________________________________________________________________________\n",
      "concatenate_10 (Concatenate)    (None, 250, 128)     0           conv1d_54[0][0]                  \n",
      "                                                                 conv1d_55[0][0]                  \n",
      "                                                                 conv1d_56[0][0]                  \n",
      "                                                                 conv1d_57[0][0]                  \n",
      "__________________________________________________________________________________________________\n",
      "batch_normalization_13 (BatchNo (None, 250, 128)     512         concatenate_10[0][0]             \n",
      "__________________________________________________________________________________________________\n",
      "activation_13 (Activation)      (None, 250, 128)     0           batch_normalization_13[0][0]     \n",
      "__________________________________________________________________________________________________\n",
      "conv1d_58 (Conv1D)              (None, 250, 32)      4096        activation_13[0][0]              \n",
      "__________________________________________________________________________________________________\n",
      "max_pooling1d_11 (MaxPooling1D) (None, 250, 128)     0           activation_13[0][0]              \n",
      "__________________________________________________________________________________________________\n",
      "conv1d_59 (Conv1D)              (None, 250, 32)      10240       conv1d_58[0][0]                  \n",
      "__________________________________________________________________________________________________\n",
      "conv1d_60 (Conv1D)              (None, 250, 32)      5120        conv1d_58[0][0]                  \n",
      "__________________________________________________________________________________________________\n",
      "conv1d_61 (Conv1D)              (None, 250, 32)      2048        conv1d_58[0][0]                  \n",
      "__________________________________________________________________________________________________\n",
      "conv1d_62 (Conv1D)              (None, 250, 32)      4096        max_pooling1d_11[0][0]           \n",
      "__________________________________________________________________________________________________\n",
      "concatenate_11 (Concatenate)    (None, 250, 128)     0           conv1d_59[0][0]                  \n",
      "                                                                 conv1d_60[0][0]                  \n",
      "                                                                 conv1d_61[0][0]                  \n",
      "                                                                 conv1d_62[0][0]                  \n",
      "__________________________________________________________________________________________________\n",
      "conv1d_63 (Conv1D)              (None, 250, 128)     16384       activation_11[0][0]              \n",
      "__________________________________________________________________________________________________\n",
      "batch_normalization_14 (BatchNo (None, 250, 128)     512         concatenate_11[0][0]             \n",
      "__________________________________________________________________________________________________\n",
      "batch_normalization_15 (BatchNo (None, 250, 128)     512         conv1d_63[0][0]                  \n",
      "__________________________________________________________________________________________________\n",
      "activation_14 (Activation)      (None, 250, 128)     0           batch_normalization_14[0][0]     \n",
      "__________________________________________________________________________________________________\n",
      "add_3 (Add)                     (None, 250, 128)     0           batch_normalization_15[0][0]     \n",
      "                                                                 activation_14[0][0]              \n",
      "__________________________________________________________________________________________________\n",
      "activation_15 (Activation)      (None, 250, 128)     0           add_3[0][0]                      \n",
      "__________________________________________________________________________________________________\n",
      "conv1d_64 (Conv1D)              (None, 250, 32)      4096        activation_15[0][0]              \n",
      "__________________________________________________________________________________________________\n",
      "max_pooling1d_12 (MaxPooling1D) (None, 250, 128)     0           activation_15[0][0]              \n",
      "__________________________________________________________________________________________________\n",
      "conv1d_65 (Conv1D)              (None, 250, 32)      10240       conv1d_64[0][0]                  \n",
      "__________________________________________________________________________________________________\n",
      "conv1d_66 (Conv1D)              (None, 250, 32)      5120        conv1d_64[0][0]                  \n",
      "__________________________________________________________________________________________________\n",
      "conv1d_67 (Conv1D)              (None, 250, 32)      2048        conv1d_64[0][0]                  \n",
      "__________________________________________________________________________________________________\n",
      "conv1d_68 (Conv1D)              (None, 250, 32)      4096        max_pooling1d_12[0][0]           \n",
      "__________________________________________________________________________________________________\n",
      "concatenate_12 (Concatenate)    (None, 250, 128)     0           conv1d_65[0][0]                  \n",
      "                                                                 conv1d_66[0][0]                  \n",
      "                                                                 conv1d_67[0][0]                  \n",
      "                                                                 conv1d_68[0][0]                  \n",
      "__________________________________________________________________________________________________\n",
      "batch_normalization_16 (BatchNo (None, 250, 128)     512         concatenate_12[0][0]             \n",
      "__________________________________________________________________________________________________\n",
      "activation_16 (Activation)      (None, 250, 128)     0           batch_normalization_16[0][0]     \n",
      "__________________________________________________________________________________________________\n",
      "conv1d_69 (Conv1D)              (None, 250, 32)      4096        activation_16[0][0]              \n",
      "__________________________________________________________________________________________________\n",
      "max_pooling1d_13 (MaxPooling1D) (None, 250, 128)     0           activation_16[0][0]              \n",
      "__________________________________________________________________________________________________\n",
      "conv1d_70 (Conv1D)              (None, 250, 32)      10240       conv1d_69[0][0]                  \n",
      "__________________________________________________________________________________________________\n",
      "conv1d_71 (Conv1D)              (None, 250, 32)      5120        conv1d_69[0][0]                  \n",
      "__________________________________________________________________________________________________\n",
      "conv1d_72 (Conv1D)              (None, 250, 32)      2048        conv1d_69[0][0]                  \n",
      "__________________________________________________________________________________________________\n",
      "conv1d_73 (Conv1D)              (None, 250, 32)      4096        max_pooling1d_13[0][0]           \n",
      "__________________________________________________________________________________________________\n",
      "concatenate_13 (Concatenate)    (None, 250, 128)     0           conv1d_70[0][0]                  \n",
      "                                                                 conv1d_71[0][0]                  \n",
      "                                                                 conv1d_72[0][0]                  \n",
      "                                                                 conv1d_73[0][0]                  \n",
      "__________________________________________________________________________________________________\n",
      "batch_normalization_17 (BatchNo (None, 250, 128)     512         concatenate_13[0][0]             \n",
      "__________________________________________________________________________________________________\n",
      "activation_17 (Activation)      (None, 250, 128)     0           batch_normalization_17[0][0]     \n",
      "__________________________________________________________________________________________________\n",
      "conv1d_74 (Conv1D)              (None, 250, 32)      4096        activation_17[0][0]              \n",
      "__________________________________________________________________________________________________\n",
      "max_pooling1d_14 (MaxPooling1D) (None, 250, 128)     0           activation_17[0][0]              \n",
      "__________________________________________________________________________________________________\n",
      "conv1d_75 (Conv1D)              (None, 250, 32)      10240       conv1d_74[0][0]                  \n",
      "__________________________________________________________________________________________________\n",
      "conv1d_76 (Conv1D)              (None, 250, 32)      5120        conv1d_74[0][0]                  \n",
      "__________________________________________________________________________________________________\n",
      "conv1d_77 (Conv1D)              (None, 250, 32)      2048        conv1d_74[0][0]                  \n",
      "__________________________________________________________________________________________________\n",
      "conv1d_78 (Conv1D)              (None, 250, 32)      4096        max_pooling1d_14[0][0]           \n",
      "__________________________________________________________________________________________________\n",
      "concatenate_14 (Concatenate)    (None, 250, 128)     0           conv1d_75[0][0]                  \n",
      "                                                                 conv1d_76[0][0]                  \n",
      "                                                                 conv1d_77[0][0]                  \n",
      "                                                                 conv1d_78[0][0]                  \n",
      "__________________________________________________________________________________________________\n",
      "conv1d_79 (Conv1D)              (None, 250, 128)     16384       activation_15[0][0]              \n",
      "__________________________________________________________________________________________________\n",
      "batch_normalization_18 (BatchNo (None, 250, 128)     512         concatenate_14[0][0]             \n",
      "__________________________________________________________________________________________________\n",
      "batch_normalization_19 (BatchNo (None, 250, 128)     512         conv1d_79[0][0]                  \n",
      "__________________________________________________________________________________________________\n",
      "activation_18 (Activation)      (None, 250, 128)     0           batch_normalization_18[0][0]     \n",
      "__________________________________________________________________________________________________\n",
      "add_4 (Add)                     (None, 250, 128)     0           batch_normalization_19[0][0]     \n",
      "                                                                 activation_18[0][0]              \n",
      "__________________________________________________________________________________________________\n",
      "activation_19 (Activation)      (None, 250, 128)     0           add_4[0][0]                      \n",
      "__________________________________________________________________________________________________\n",
      "conv1d_80 (Conv1D)              (None, 250, 32)      4096        activation_19[0][0]              \n",
      "__________________________________________________________________________________________________\n",
      "max_pooling1d_15 (MaxPooling1D) (None, 250, 128)     0           activation_19[0][0]              \n",
      "__________________________________________________________________________________________________\n",
      "conv1d_81 (Conv1D)              (None, 250, 32)      10240       conv1d_80[0][0]                  \n",
      "__________________________________________________________________________________________________\n",
      "conv1d_82 (Conv1D)              (None, 250, 32)      5120        conv1d_80[0][0]                  \n",
      "__________________________________________________________________________________________________\n",
      "conv1d_83 (Conv1D)              (None, 250, 32)      2048        conv1d_80[0][0]                  \n",
      "__________________________________________________________________________________________________\n",
      "conv1d_84 (Conv1D)              (None, 250, 32)      4096        max_pooling1d_15[0][0]           \n",
      "__________________________________________________________________________________________________\n",
      "concatenate_15 (Concatenate)    (None, 250, 128)     0           conv1d_81[0][0]                  \n",
      "                                                                 conv1d_82[0][0]                  \n",
      "                                                                 conv1d_83[0][0]                  \n",
      "                                                                 conv1d_84[0][0]                  \n",
      "__________________________________________________________________________________________________\n",
      "batch_normalization_20 (BatchNo (None, 250, 128)     512         concatenate_15[0][0]             \n",
      "__________________________________________________________________________________________________\n",
      "activation_20 (Activation)      (None, 250, 128)     0           batch_normalization_20[0][0]     \n",
      "__________________________________________________________________________________________________\n",
      "global_average_pooling1d (Globa (None, 128)          0           activation_20[0][0]              \n",
      "__________________________________________________________________________________________________\n",
      "dense (Dense)                   (None, 2)            258         global_average_pooling1d[0][0]   \n",
      "==================================================================================================\n",
      "Total params: 479,490\n",
      "Trainable params: 474,114\n",
      "Non-trainable params: 5,376\n",
      "__________________________________________________________________________________________________\n"
     ]
    }
   ],
   "source": [
    "clf = Classifier_INCEPTION('', (X_train.shape[1],X_train.shape[2]),nb_classes=2,\n",
    "                            verbose=True,batch_size=256,nb_epochs=25,nb_filters=32,\n",
    "                            depth=16, kernel_size=11)"
   ]
  },
  {
   "cell_type": "code",
   "execution_count": 32,
   "metadata": {
    "scrolled": true
   },
   "outputs": [
    {
     "name": "stdout",
     "output_type": "stream",
     "text": [
      "Epoch 1/25\n",
      "1489/1489 [==============================] - 547s 359ms/step - loss: 0.2557 - accuracy: 0.8898 - val_loss: 0.1865 - val_accuracy: 0.9279\n"
     ]
    },
    {
     "name": "stderr",
     "output_type": "stream",
     "text": [
      "C:\\Users\\moham\\AppData\\Local\\Programs\\Python\\Python38\\lib\\site-packages\\tensorflow\\python\\keras\\utils\\generic_utils.py:494: CustomMaskWarning: Custom mask layers require a config and must override get_config. When loading, the custom mask layer must be passed to the custom_objects argument.\n",
      "  warnings.warn('Custom mask layers require a config and must override '\n"
     ]
    },
    {
     "name": "stdout",
     "output_type": "stream",
     "text": [
      "Epoch 2/25\n",
      "1489/1489 [==============================] - 563s 378ms/step - loss: 0.1135 - accuracy: 0.9549 - val_loss: 0.1430 - val_accuracy: 0.9441\n",
      "Epoch 3/25\n",
      "1489/1489 [==============================] - 566s 380ms/step - loss: 0.0651 - accuracy: 0.9752 - val_loss: 0.1870 - val_accuracy: 0.9290\n",
      "Epoch 4/25\n",
      "1489/1489 [==============================] - 564s 379ms/step - loss: 0.0449 - accuracy: 0.9833 - val_loss: 0.0699 - val_accuracy: 0.9732\n",
      "Epoch 5/25\n",
      "1489/1489 [==============================] - 567s 381ms/step - loss: 0.0362 - accuracy: 0.9866 - val_loss: 0.0298 - val_accuracy: 0.9888\n",
      "Epoch 6/25\n",
      "1489/1489 [==============================] - 563s 378ms/step - loss: 0.0297 - accuracy: 0.9893 - val_loss: 0.0537 - val_accuracy: 0.9810\n",
      "Epoch 7/25\n",
      "1489/1489 [==============================] - 553s 371ms/step - loss: 0.0252 - accuracy: 0.9910 - val_loss: 0.0255 - val_accuracy: 0.9909\n",
      "Epoch 8/25\n",
      "1489/1489 [==============================] - 553s 371ms/step - loss: 0.0230 - accuracy: 0.9918 - val_loss: 0.0262 - val_accuracy: 0.9905\n",
      "Epoch 9/25\n",
      "1489/1489 [==============================] - 555s 373ms/step - loss: 0.0197 - accuracy: 0.9930 - val_loss: 0.0304 - val_accuracy: 0.9890\n",
      "Epoch 10/25\n",
      "1489/1489 [==============================] - 550s 369ms/step - loss: 0.0192 - accuracy: 0.9933 - val_loss: 0.0465 - val_accuracy: 0.9833\n",
      "Epoch 11/25\n",
      "1489/1489 [==============================] - 553s 372ms/step - loss: 0.0156 - accuracy: 0.9945 - val_loss: 0.0220 - val_accuracy: 0.9922\n",
      "Epoch 12/25\n",
      "1489/1489 [==============================] - 557s 374ms/step - loss: 0.0161 - accuracy: 0.9943 - val_loss: 0.0163 - val_accuracy: 0.9942\n",
      "Epoch 13/25\n",
      "1489/1489 [==============================] - 556s 373ms/step - loss: 0.0144 - accuracy: 0.9950 - val_loss: 0.0156 - val_accuracy: 0.9948\n",
      "Epoch 14/25\n",
      "1489/1489 [==============================] - 556s 374ms/step - loss: 0.0133 - accuracy: 0.9952 - val_loss: 0.0194 - val_accuracy: 0.9931\n",
      "Epoch 15/25\n",
      "1489/1489 [==============================] - 555s 373ms/step - loss: 0.0117 - accuracy: 0.9959 - val_loss: 0.0101 - val_accuracy: 0.9964\n",
      "Epoch 16/25\n",
      "1489/1489 [==============================] - 550s 370ms/step - loss: 0.0120 - accuracy: 0.9959 - val_loss: 0.0239 - val_accuracy: 0.9917\n",
      "Epoch 17/25\n",
      "1489/1489 [==============================] - 551s 370ms/step - loss: 0.0104 - accuracy: 0.9964 - val_loss: 0.0080 - val_accuracy: 0.9973\n",
      "Epoch 18/25\n",
      "1489/1489 [==============================] - 556s 373ms/step - loss: 0.0107 - accuracy: 0.9962 - val_loss: 0.0474 - val_accuracy: 0.9829\n",
      "Epoch 19/25\n",
      "1489/1489 [==============================] - 549s 369ms/step - loss: 0.0097 - accuracy: 0.9966 - val_loss: 0.0176 - val_accuracy: 0.9941\n",
      "Epoch 20/25\n",
      "1489/1489 [==============================] - 549s 369ms/step - loss: 0.0091 - accuracy: 0.9969 - val_loss: 0.0227 - val_accuracy: 0.9926\n",
      "Epoch 21/25\n",
      "1489/1489 [==============================] - 560s 376ms/step - loss: 0.0091 - accuracy: 0.9968 - val_loss: 0.0550 - val_accuracy: 0.9827\n",
      "Epoch 22/25\n",
      "1489/1489 [==============================] - 553s 371ms/step - loss: 0.0088 - accuracy: 0.9970 - val_loss: 0.0155 - val_accuracy: 0.9943\n",
      "Epoch 23/25\n",
      "1489/1489 [==============================] - 556s 373ms/step - loss: 0.0075 - accuracy: 0.9974 - val_loss: 0.0231 - val_accuracy: 0.9929\n",
      "Epoch 24/25\n",
      "1489/1489 [==============================] - 552s 371ms/step - loss: 0.0084 - accuracy: 0.9971 - val_loss: 0.0065 - val_accuracy: 0.9977\n",
      "Epoch 25/25\n",
      "1489/1489 [==============================] - 559s 375ms/step - loss: 0.0074 - accuracy: 0.9975 - val_loss: 0.0219 - val_accuracy: 0.9932\n"
     ]
    }
   ],
   "source": [
    "df_metrics = clf.fit(X_train, y_train, X_test, y_test, y_true,plot_test_acc=True)"
   ]
  },
  {
   "cell_type": "code",
   "execution_count": 34,
   "metadata": {},
   "outputs": [],
   "source": [
    "best_model = load_model('best_model.hdf5')\n",
    "best_model.save('models/prosup_dtm_{}_tw.hdf5'.format(window))"
   ]
  },
  {
   "cell_type": "markdown",
   "metadata": {},
   "source": [
    "## Testing "
   ]
  },
  {
   "cell_type": "code",
   "execution_count": 47,
   "metadata": {},
   "outputs": [
    {
     "name": "stdout",
     "output_type": "stream",
     "text": [
      "1281/1281 [==============================] - 37s 28ms/step - loss: 0.0178 - accuracy: 0.9940\n"
     ]
    },
    {
     "data": {
      "text/plain": [
       "[0.01776963472366333, 0.9940188527107239]"
      ]
     },
     "execution_count": 47,
     "metadata": {},
     "output_type": "execute_result"
    }
   ],
   "source": [
    "best_model.evaluate(X_test,y_test) # Subject - Varun"
   ]
  },
  {
   "cell_type": "code",
   "execution_count": 35,
   "metadata": {},
   "outputs": [],
   "source": [
    "%matplotlib inline\n",
    "metrics_df = pd.read_csv('df_metrics.csv')\n",
    "best_model_df = pd.read_csv('df_best_model.csv')\n",
    "history_df = pd.read_csv('history.csv')"
   ]
  },
  {
   "cell_type": "code",
   "execution_count": 36,
   "metadata": {},
   "outputs": [
    {
     "data": {
      "text/html": [
       "<div>\n",
       "<style scoped>\n",
       "    .dataframe tbody tr th:only-of-type {\n",
       "        vertical-align: middle;\n",
       "    }\n",
       "\n",
       "    .dataframe tbody tr th {\n",
       "        vertical-align: top;\n",
       "    }\n",
       "\n",
       "    .dataframe thead th {\n",
       "        text-align: right;\n",
       "    }\n",
       "</style>\n",
       "<table border=\"1\" class=\"dataframe\">\n",
       "  <thead>\n",
       "    <tr style=\"text-align: right;\">\n",
       "      <th></th>\n",
       "      <th>precision</th>\n",
       "      <th>accuracy</th>\n",
       "      <th>recall</th>\n",
       "      <th>duration</th>\n",
       "    </tr>\n",
       "  </thead>\n",
       "  <tbody>\n",
       "    <tr>\n",
       "      <th>0</th>\n",
       "      <td>0.996726</td>\n",
       "      <td>0.99766</td>\n",
       "      <td>0.997869</td>\n",
       "      <td>13903.32536</td>\n",
       "    </tr>\n",
       "  </tbody>\n",
       "</table>\n",
       "</div>"
      ],
      "text/plain": [
       "   precision  accuracy    recall     duration\n",
       "0   0.996726   0.99766  0.997869  13903.32536"
      ]
     },
     "execution_count": 36,
     "metadata": {},
     "output_type": "execute_result"
    }
   ],
   "source": [
    "metrics_df"
   ]
  },
  {
   "cell_type": "code",
   "execution_count": 37,
   "metadata": {},
   "outputs": [
    {
     "data": {
      "text/plain": [
       "<AxesSubplot:title={'center':'Loss'}>"
      ]
     },
     "execution_count": 37,
     "metadata": {},
     "output_type": "execute_result"
    },
    {
     "data": {
      "image/png": "[encoded data removed]",
      "text/plain": [
       "<Figure size 1008x576 with 1 Axes>"
      ]
     },
     "metadata": {
      "needs_background": "light"
     },
     "output_type": "display_data"
    },
    {
     "data": {
      "image/png": "[encoded data removed]",
      "text/plain": [
       "<Figure size 1008x576 with 1 Axes>"
      ]
     },
     "metadata": {
      "needs_background": "light"
     },
     "output_type": "display_data"
    }
   ],
   "source": [
    "history_df[['accuracy','val_accuracy']].plot(figsize=(14,8),title='Accuracy',grid=True,fontsize=15)\n",
    "history_df[['loss','val_loss']].plot(figsize=(14,8),title='Loss',grid=True,fontsize=15)"
   ]
  },
  {
   "cell_type": "code",
   "execution_count": null,
   "metadata": {},
   "outputs": [],
   "source": []
  }
 ],
 "metadata": {
  "kernelspec": {
   "display_name": "Python 3.8.0 64-bit",
   "language": "python",
   "name": "python38064bitcaed634bb72a48a5bf9eda0dc4f94389"
  },
  "language_info": {
   "codemirror_mode": {
    "name": "ipython",
    "version": 3
   },
   "file_extension": ".py",
   "mimetype": "text/x-python",
   "name": "python",
   "nbconvert_exporter": "python",
   "pygments_lexer": "ipython3",
   "version": "3.8.5"
  }
 },
 "nbformat": 4,
 "nbformat_minor": 4
}
