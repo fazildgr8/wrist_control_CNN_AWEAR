{
 "cells": [
  {
   "cell_type": "markdown",
   "metadata": {},
   "source": [
    "# DTM  Classifier"
   ]
  },
  {
   "cell_type": "code",
   "execution_count": 1,
   "metadata": {},
   "outputs": [],
   "source": [
    "import pandas as pd\n",
    "from Data_preparation_Library import *\n",
    "import numpy as np\n",
    "import matplotlib.pyplot as plt\n",
    "from tqdm.notebook import tqdm\n",
    "from time import time\n",
    "from sklearn.model_selection import train_test_split\n",
    "from keras.models import load_model\n",
    "from random import choice"
   ]
  },
  {
   "cell_type": "markdown",
   "metadata": {},
   "source": [
    "## Data Analysis Section"
   ]
  },
  {
   "cell_type": "code",
   "execution_count": 51,
   "metadata": {},
   "outputs": [
    {
     "data": {
      "text/plain": [
       "<AxesSubplot:title={'center':'Subjects/Fazil/day_04_24_21/computed_Hammer02.csv'}>"
      ]
     },
     "execution_count": 51,
     "metadata": {},
     "output_type": "execute_result"
    }
   ],
   "source": [
    "file = 'Subjects/Fazil/day_04_24_21/computed_Hammer02.csv'\n",
    "angle_lables = ['Pronation_Angle','Flexion_Angle',  'Radial_Angle','Elbow_Joint_Angle']\n",
    "df = pd.read_csv(file,index_col=0)\n",
    "df[angle_lables].plot(figsize=(16,5),title=file,grid=True,xticks=np.linspace(0,len(df),5))"
   ]
  },
  {
   "cell_type": "code",
   "execution_count": null,
   "metadata": {},
   "outputs": [],
   "source": [
    "df = df[13500:27000]"
   ]
  },
  {
   "cell_type": "code",
   "execution_count": null,
   "metadata": {},
   "outputs": [],
   "source": [
    "X, y = prep_data_DTM(df,400,interval=40,Normalize=False,plot=True,angle_thresh=0.008,rms=False)\n",
    "X.shape"
   ]
  },
  {
   "cell_type": "markdown",
   "metadata": {},
   "source": [
    "## File Name Generation"
   ]
  },
  {
   "cell_type": "code",
   "execution_count": 2,
   "metadata": {},
   "outputs": [],
   "source": [
    "files = []"
   ]
  },
  {
   "cell_type": "code",
   "execution_count": 3,
   "metadata": {},
   "outputs": [
    {
     "data": {
      "text/plain": [
       "['Subjects/Fazil/day_04_24_21/computed_Bulb.csv',\n",
       " 'Subjects/Fazil/day_04_24_21/computed_Bulb01.csv',\n",
       " 'Subjects/Fazil/day_04_24_21/computed_Bulb02.csv',\n",
       " 'Subjects/Fazil/day_04_24_21/computed_Hammer.csv',\n",
       " 'Subjects/Fazil/day_04_24_21/computed_Hammer01.csv',\n",
       " 'Subjects/Fazil/day_04_24_21/computed_Hammer02.csv',\n",
       " 'Subjects/Fazil/day_04_24_21/computed_Cup.csv',\n",
       " 'Subjects/Fazil/day_04_24_21/computed_Cup01.csv',\n",
       " 'Subjects/Fazil/day_04_24_21/computed_Cup02.csv',\n",
       " 'Subjects/Fazil/day_04_24_21/computed_Screw.csv',\n",
       " 'Subjects/Fazil/day_04_24_21/computed_Screw01.csv',\n",
       " 'Subjects/Fazil/day_04_24_21/computed_Screw02.csv']"
      ]
     },
     "execution_count": 3,
     "metadata": {},
     "output_type": "execute_result"
    }
   ],
   "source": [
    "path = 'Subjects/Fazil/day_04_24_21'\n",
    "# trial_names = ['Hammer'] # 'Bulb','Hammer' ,'Cup','Screw'\n",
    "trial_names = ['Bulb','Hammer' ,'Cup','Screw']\n",
    "for exp in trial_names:\n",
    "    for i in range(3):\n",
    "        if(i==0):\n",
    "            files.append(path+'/computed_'+exp+'.csv')\n",
    "        else:\n",
    "            files.append(path+'/computed_'+exp+'0'+str(i)+'.csv')\n",
    "files"
   ]
  },
  {
   "cell_type": "code",
   "execution_count": 4,
   "metadata": {},
   "outputs": [
    {
     "data": {
      "text/plain": [
       "['Subjects/Fazil/day_04_24_21/computed_Bulb.csv',\n",
       " 'Subjects/Fazil/day_04_24_21/computed_Bulb01.csv',\n",
       " 'Subjects/Fazil/day_04_24_21/computed_Bulb02.csv',\n",
       " 'Subjects/Fazil/day_04_24_21/computed_Hammer.csv',\n",
       " 'Subjects/Fazil/day_04_24_21/computed_Hammer01.csv',\n",
       " 'Subjects/Fazil/day_04_24_21/computed_Hammer02.csv',\n",
       " 'Subjects/Fazil/day_04_24_21/computed_Cup.csv',\n",
       " 'Subjects/Fazil/day_04_24_21/computed_Cup01.csv',\n",
       " 'Subjects/Fazil/day_04_24_21/computed_Cup02.csv',\n",
       " 'Subjects/Fazil/day_04_24_21/computed_Screw.csv',\n",
       " 'Subjects/Fazil/day_04_24_21/computed_Screw01.csv',\n",
       " 'Subjects/Fazil/day_04_24_21/computed_Screw02.csv',\n",
       " 'Subjects/Fazil/day_04_14_21/computed_Bulb.csv',\n",
       " 'Subjects/Fazil/day_04_14_21/computed_Bulb01.csv',\n",
       " 'Subjects/Fazil/day_04_14_21/computed_Bulb02.csv',\n",
       " 'Subjects/Fazil/day_04_14_21/computed_Hammer.csv',\n",
       " 'Subjects/Fazil/day_04_14_21/computed_Hammer01.csv',\n",
       " 'Subjects/Fazil/day_04_14_21/computed_Hammer02.csv',\n",
       " 'Subjects/Fazil/day_04_14_21/computed_Cup.csv',\n",
       " 'Subjects/Fazil/day_04_14_21/computed_Cup01.csv',\n",
       " 'Subjects/Fazil/day_04_14_21/computed_Cup02.csv']"
      ]
     },
     "execution_count": 4,
     "metadata": {},
     "output_type": "execute_result"
    }
   ],
   "source": [
    "path = 'Subjects/Fazil/day_04_14_21'\n",
    "# trial_names = ['Hammer','Bulb'] # 'Bulb','Hammer' ,'Cup','Screw'\n",
    "trial_names = ['Bulb','Hammer' ,'Cup']\n",
    "for exp in trial_names:\n",
    "    for i in range(3):\n",
    "        if(i==0):\n",
    "            files.append(path+'/computed_'+exp+'.csv')\n",
    "        else:\n",
    "            files.append(path+'/computed_'+exp+'0'+str(i)+'.csv')\n",
    "files"
   ]
  },
  {
   "cell_type": "code",
   "execution_count": 5,
   "metadata": {},
   "outputs": [],
   "source": [
    "files_df = []\n",
    "for file in files:\n",
    "    files_df.append(pd.read_csv(file,index_col=0))"
   ]
  },
  {
   "cell_type": "markdown",
   "metadata": {},
   "source": [
    "## Data Augumentation"
   ]
  },
  {
   "cell_type": "code",
   "execution_count": null,
   "metadata": {},
   "outputs": [],
   "source": [
    "emg_labels = ['EMG1','EMG2','EMG3','EMG4','EMG5','EMG6','EMG8','EMG7']"
   ]
  },
  {
   "cell_type": "code",
   "execution_count": null,
   "metadata": {},
   "outputs": [],
   "source": [
    "files_df_aug = []\n",
    "\n",
    "for df in tqdm(files_df):\n",
    "    theta = choice(np.linspace(0,0.4,10))\n",
    "    emg_array = np.array(add__Gausian_noise(df[emg_labels],theta))\n",
    "    df[emg_labels] = emg_array\n",
    "    files_df_aug.append(df)"
   ]
  },
  {
   "cell_type": "code",
   "execution_count": null,
   "metadata": {},
   "outputs": [],
   "source": [
    "files_df = files_df+files_df_aug"
   ]
  },
  {
   "cell_type": "markdown",
   "metadata": {},
   "source": [
    "## Data Prep Pipeline"
   ]
  },
  {
   "cell_type": "markdown",
   "metadata": {},
   "source": [
    "### Parameters"
   ]
  },
  {
   "cell_type": "code",
   "execution_count": 6,
   "metadata": {},
   "outputs": [],
   "source": [
    "window = 400\n",
    "interval = 6\n",
    "Normalize = False\n",
    "rms = False\n",
    "angle_thresh_DTM = 0.008"
   ]
  },
  {
   "cell_type": "code",
   "execution_count": 7,
   "metadata": {},
   "outputs": [
    {
     "data": {
      "application/vnd.jupyter.widget-view+json": {
       "model_id": "d02555f6ff6a4dbea3136ce84d176160",
       "version_major": 2,
       "version_minor": 0
      },
      "text/plain": [
       "HBox(children=(FloatProgress(value=0.0, max=21.0), HTML(value='')))"
      ]
     },
     "metadata": {},
     "output_type": "display_data"
    },
    {
     "name": "stdout",
     "output_type": "stream",
     "text": [
      "\n",
      "(231609, 400, 8) (231609, 3)\n"
     ]
    }
   ],
   "source": [
    "X_dtm, y_dtm = multiple_prep_data_DTM(files_df,\n",
    "                                      window,\n",
    "                                      interval,\n",
    "                                      Normalize,\n",
    "                                      rms,\n",
    "                                      angle_thresh_DTM)\n",
    "print(X_dtm.shape,y_dtm.shape)"
   ]
  },
  {
   "cell_type": "markdown",
   "metadata": {},
   "source": [
    "## Whole Normalize"
   ]
  },
  {
   "cell_type": "code",
   "execution_count": 8,
   "metadata": {},
   "outputs": [],
   "source": [
    "X = X_dtm.reshape((X_dtm.shape[0]*X_dtm.shape[1],X_dtm.shape[2]))\n",
    "X = norm(X)\n",
    "# X = min_max(X)\n",
    "X_dtm = X.reshape(X_dtm.shape)"
   ]
  },
  {
   "cell_type": "code",
   "execution_count": 9,
   "metadata": {},
   "outputs": [],
   "source": [
    "np.save('prepared_data/X_dtm',X_dtm)\n",
    "np.save('prepared_data/y_dtm',y_dtm)"
   ]
  },
  {
   "cell_type": "code",
   "execution_count": null,
   "metadata": {},
   "outputs": [],
   "source": [
    "X = np.load('prepared_data/X_dtm.npy')\n",
    "y = np.load('prepared_data/y_dtm.npy')"
   ]
  },
  {
   "cell_type": "code",
   "execution_count": 10,
   "metadata": {},
   "outputs": [
    {
     "name": "stdout",
     "output_type": "stream",
     "text": [
      "(185287, 400, 8)\n",
      "(46322, 400, 8)\n",
      "(185287, 3)\n",
      "(46322, 3)\n"
     ]
    }
   ],
   "source": [
    "X_train, X_test, y_train, y_test = train_test_split(X_dtm, y_dtm,test_size=0.2)\n",
    "for data in [X_train, X_test, y_train, y_test]:\n",
    "    print(data.shape)"
   ]
  },
  {
   "cell_type": "code",
   "execution_count": 11,
   "metadata": {},
   "outputs": [],
   "source": [
    "y_true = []\n",
    "for d in y_test:\n",
    "    idx = list(d).index(1)\n",
    "    y_true.append(idx)"
   ]
  },
  {
   "cell_type": "code",
   "execution_count": 12,
   "metadata": {},
   "outputs": [],
   "source": [
    "def count(y):\n",
    "    s0 = 0\n",
    "    s1 = 0\n",
    "    s2 = 0\n",
    "    for arr in y:\n",
    "        if arr[0]==1:\n",
    "            s0 = s0+1\n",
    "        if arr[1]==1:\n",
    "            s1 = s1+1\n",
    "        if arr[2]==1:\n",
    "            s2 = s2+1\n",
    "    ls = [s0,s1,s2]\n",
    "    for i in range(3):\n",
    "        print(i,'-',ls[i],'[',ls[i]*100/len(y),'%]')"
   ]
  },
  {
   "cell_type": "code",
   "execution_count": 13,
   "metadata": {
    "scrolled": true
   },
   "outputs": [
    {
     "name": "stdout",
     "output_type": "stream",
     "text": [
      "0 - 96848 [ 52.26918240351455 %]\n",
      "1 - 21870 [ 11.803310539865182 %]\n",
      "2 - 66569 [ 35.92750705662027 %]\n",
      "None\n",
      "0 - 23969 [ 51.744311558222876 %]\n",
      "1 - 5448 [ 11.76115020940374 %]\n",
      "2 - 16905 [ 36.49453823237339 %]\n",
      "None\n"
     ]
    }
   ],
   "source": [
    "print(count(y_train))\n",
    "print(count(y_test))"
   ]
  },
  {
   "cell_type": "markdown",
   "metadata": {},
   "source": [
    "# InceptionTime Trainer"
   ]
  },
  {
   "cell_type": "code",
   "execution_count": 14,
   "metadata": {},
   "outputs": [],
   "source": [
    "import numpy as np\n",
    "import sklearn\n",
    "import pandas as pd\n",
    "import sys\n",
    "import subprocess\n",
    "import tensorflow as tf\n",
    "from InceptionTime.classifiers.inception import Classifier_INCEPTION"
   ]
  },
  {
   "cell_type": "markdown",
   "metadata": {},
   "source": [
    "## Build Model"
   ]
  },
  {
   "cell_type": "code",
   "execution_count": 15,
   "metadata": {
    "scrolled": true
   },
   "outputs": [
    {
     "name": "stdout",
     "output_type": "stream",
     "text": [
      "Model: \"model\"\n",
      "__________________________________________________________________________________________________\n",
      "Layer (type)                    Output Shape         Param #     Connected to                     \n",
      "==================================================================================================\n",
      "input_1 (InputLayer)            [(None, 400, 8)]     0                                            \n",
      "__________________________________________________________________________________________________\n",
      "conv1d (Conv1D)                 (None, 400, 32)      256         input_1[0][0]                    \n",
      "__________________________________________________________________________________________________\n",
      "max_pooling1d (MaxPooling1D)    (None, 400, 8)       0           input_1[0][0]                    \n",
      "__________________________________________________________________________________________________\n",
      "conv1d_1 (Conv1D)               (None, 400, 16)      5120        conv1d[0][0]                     \n",
      "__________________________________________________________________________________________________\n",
      "conv1d_2 (Conv1D)               (None, 400, 16)      2560        conv1d[0][0]                     \n",
      "__________________________________________________________________________________________________\n",
      "conv1d_3 (Conv1D)               (None, 400, 16)      1024        conv1d[0][0]                     \n",
      "__________________________________________________________________________________________________\n",
      "conv1d_4 (Conv1D)               (None, 400, 16)      128         max_pooling1d[0][0]              \n",
      "__________________________________________________________________________________________________\n",
      "concatenate (Concatenate)       (None, 400, 64)      0           conv1d_1[0][0]                   \n",
      "                                                                 conv1d_2[0][0]                   \n",
      "                                                                 conv1d_3[0][0]                   \n",
      "                                                                 conv1d_4[0][0]                   \n",
      "__________________________________________________________________________________________________\n",
      "batch_normalization (BatchNorma (None, 400, 64)      256         concatenate[0][0]                \n",
      "__________________________________________________________________________________________________\n",
      "activation (Activation)         (None, 400, 64)      0           batch_normalization[0][0]        \n",
      "__________________________________________________________________________________________________\n",
      "conv1d_5 (Conv1D)               (None, 400, 32)      2048        activation[0][0]                 \n",
      "__________________________________________________________________________________________________\n",
      "max_pooling1d_1 (MaxPooling1D)  (None, 400, 64)      0           activation[0][0]                 \n",
      "__________________________________________________________________________________________________\n",
      "conv1d_6 (Conv1D)               (None, 400, 16)      5120        conv1d_5[0][0]                   \n",
      "__________________________________________________________________________________________________\n",
      "conv1d_7 (Conv1D)               (None, 400, 16)      2560        conv1d_5[0][0]                   \n",
      "__________________________________________________________________________________________________\n",
      "conv1d_8 (Conv1D)               (None, 400, 16)      1024        conv1d_5[0][0]                   \n",
      "__________________________________________________________________________________________________\n",
      "conv1d_9 (Conv1D)               (None, 400, 16)      1024        max_pooling1d_1[0][0]            \n",
      "__________________________________________________________________________________________________\n",
      "concatenate_1 (Concatenate)     (None, 400, 64)      0           conv1d_6[0][0]                   \n",
      "                                                                 conv1d_7[0][0]                   \n",
      "                                                                 conv1d_8[0][0]                   \n",
      "                                                                 conv1d_9[0][0]                   \n",
      "__________________________________________________________________________________________________\n",
      "batch_normalization_1 (BatchNor (None, 400, 64)      256         concatenate_1[0][0]              \n",
      "__________________________________________________________________________________________________\n",
      "activation_1 (Activation)       (None, 400, 64)      0           batch_normalization_1[0][0]      \n",
      "__________________________________________________________________________________________________\n",
      "conv1d_10 (Conv1D)              (None, 400, 32)      2048        activation_1[0][0]               \n",
      "__________________________________________________________________________________________________\n",
      "max_pooling1d_2 (MaxPooling1D)  (None, 400, 64)      0           activation_1[0][0]               \n",
      "__________________________________________________________________________________________________\n",
      "conv1d_11 (Conv1D)              (None, 400, 16)      5120        conv1d_10[0][0]                  \n",
      "__________________________________________________________________________________________________\n",
      "conv1d_12 (Conv1D)              (None, 400, 16)      2560        conv1d_10[0][0]                  \n",
      "__________________________________________________________________________________________________\n",
      "conv1d_13 (Conv1D)              (None, 400, 16)      1024        conv1d_10[0][0]                  \n",
      "__________________________________________________________________________________________________\n",
      "conv1d_14 (Conv1D)              (None, 400, 16)      1024        max_pooling1d_2[0][0]            \n",
      "__________________________________________________________________________________________________\n",
      "concatenate_2 (Concatenate)     (None, 400, 64)      0           conv1d_11[0][0]                  \n",
      "                                                                 conv1d_12[0][0]                  \n",
      "                                                                 conv1d_13[0][0]                  \n",
      "                                                                 conv1d_14[0][0]                  \n",
      "__________________________________________________________________________________________________\n",
      "conv1d_15 (Conv1D)              (None, 400, 64)      512         input_1[0][0]                    \n",
      "__________________________________________________________________________________________________\n",
      "batch_normalization_2 (BatchNor (None, 400, 64)      256         concatenate_2[0][0]              \n",
      "__________________________________________________________________________________________________\n",
      "batch_normalization_3 (BatchNor (None, 400, 64)      256         conv1d_15[0][0]                  \n",
      "__________________________________________________________________________________________________\n",
      "activation_2 (Activation)       (None, 400, 64)      0           batch_normalization_2[0][0]      \n",
      "__________________________________________________________________________________________________\n",
      "add (Add)                       (None, 400, 64)      0           batch_normalization_3[0][0]      \n",
      "                                                                 activation_2[0][0]               \n",
      "__________________________________________________________________________________________________\n",
      "activation_3 (Activation)       (None, 400, 64)      0           add[0][0]                        \n",
      "__________________________________________________________________________________________________\n",
      "conv1d_16 (Conv1D)              (None, 400, 32)      2048        activation_3[0][0]               \n",
      "__________________________________________________________________________________________________\n",
      "max_pooling1d_3 (MaxPooling1D)  (None, 400, 64)      0           activation_3[0][0]               \n",
      "__________________________________________________________________________________________________\n",
      "conv1d_17 (Conv1D)              (None, 400, 16)      5120        conv1d_16[0][0]                  \n",
      "__________________________________________________________________________________________________\n",
      "conv1d_18 (Conv1D)              (None, 400, 16)      2560        conv1d_16[0][0]                  \n",
      "__________________________________________________________________________________________________\n",
      "conv1d_19 (Conv1D)              (None, 400, 16)      1024        conv1d_16[0][0]                  \n",
      "__________________________________________________________________________________________________\n",
      "conv1d_20 (Conv1D)              (None, 400, 16)      1024        max_pooling1d_3[0][0]            \n",
      "__________________________________________________________________________________________________\n",
      "concatenate_3 (Concatenate)     (None, 400, 64)      0           conv1d_17[0][0]                  \n",
      "                                                                 conv1d_18[0][0]                  \n",
      "                                                                 conv1d_19[0][0]                  \n",
      "                                                                 conv1d_20[0][0]                  \n",
      "__________________________________________________________________________________________________\n",
      "batch_normalization_4 (BatchNor (None, 400, 64)      256         concatenate_3[0][0]              \n",
      "__________________________________________________________________________________________________\n",
      "activation_4 (Activation)       (None, 400, 64)      0           batch_normalization_4[0][0]      \n",
      "__________________________________________________________________________________________________\n",
      "conv1d_21 (Conv1D)              (None, 400, 32)      2048        activation_4[0][0]               \n",
      "__________________________________________________________________________________________________\n",
      "max_pooling1d_4 (MaxPooling1D)  (None, 400, 64)      0           activation_4[0][0]               \n",
      "__________________________________________________________________________________________________\n",
      "conv1d_22 (Conv1D)              (None, 400, 16)      5120        conv1d_21[0][0]                  \n",
      "__________________________________________________________________________________________________\n",
      "conv1d_23 (Conv1D)              (None, 400, 16)      2560        conv1d_21[0][0]                  \n",
      "__________________________________________________________________________________________________\n",
      "conv1d_24 (Conv1D)              (None, 400, 16)      1024        conv1d_21[0][0]                  \n",
      "__________________________________________________________________________________________________\n",
      "conv1d_25 (Conv1D)              (None, 400, 16)      1024        max_pooling1d_4[0][0]            \n",
      "__________________________________________________________________________________________________\n",
      "concatenate_4 (Concatenate)     (None, 400, 64)      0           conv1d_22[0][0]                  \n",
      "                                                                 conv1d_23[0][0]                  \n",
      "                                                                 conv1d_24[0][0]                  \n",
      "                                                                 conv1d_25[0][0]                  \n",
      "__________________________________________________________________________________________________\n",
      "batch_normalization_5 (BatchNor (None, 400, 64)      256         concatenate_4[0][0]              \n",
      "__________________________________________________________________________________________________\n",
      "activation_5 (Activation)       (None, 400, 64)      0           batch_normalization_5[0][0]      \n",
      "__________________________________________________________________________________________________\n",
      "conv1d_26 (Conv1D)              (None, 400, 32)      2048        activation_5[0][0]               \n",
      "__________________________________________________________________________________________________\n",
      "max_pooling1d_5 (MaxPooling1D)  (None, 400, 64)      0           activation_5[0][0]               \n",
      "__________________________________________________________________________________________________\n",
      "conv1d_27 (Conv1D)              (None, 400, 16)      5120        conv1d_26[0][0]                  \n",
      "__________________________________________________________________________________________________\n",
      "conv1d_28 (Conv1D)              (None, 400, 16)      2560        conv1d_26[0][0]                  \n",
      "__________________________________________________________________________________________________\n",
      "conv1d_29 (Conv1D)              (None, 400, 16)      1024        conv1d_26[0][0]                  \n",
      "__________________________________________________________________________________________________\n",
      "conv1d_30 (Conv1D)              (None, 400, 16)      1024        max_pooling1d_5[0][0]            \n",
      "__________________________________________________________________________________________________\n",
      "concatenate_5 (Concatenate)     (None, 400, 64)      0           conv1d_27[0][0]                  \n",
      "                                                                 conv1d_28[0][0]                  \n",
      "                                                                 conv1d_29[0][0]                  \n",
      "                                                                 conv1d_30[0][0]                  \n",
      "__________________________________________________________________________________________________\n",
      "conv1d_31 (Conv1D)              (None, 400, 64)      4096        activation_3[0][0]               \n",
      "__________________________________________________________________________________________________\n",
      "batch_normalization_6 (BatchNor (None, 400, 64)      256         concatenate_5[0][0]              \n",
      "__________________________________________________________________________________________________\n",
      "batch_normalization_7 (BatchNor (None, 400, 64)      256         conv1d_31[0][0]                  \n",
      "__________________________________________________________________________________________________\n",
      "activation_6 (Activation)       (None, 400, 64)      0           batch_normalization_6[0][0]      \n",
      "__________________________________________________________________________________________________\n",
      "add_1 (Add)                     (None, 400, 64)      0           batch_normalization_7[0][0]      \n",
      "                                                                 activation_6[0][0]               \n",
      "__________________________________________________________________________________________________\n",
      "activation_7 (Activation)       (None, 400, 64)      0           add_1[0][0]                      \n",
      "__________________________________________________________________________________________________\n",
      "conv1d_32 (Conv1D)              (None, 400, 32)      2048        activation_7[0][0]               \n",
      "__________________________________________________________________________________________________\n",
      "max_pooling1d_6 (MaxPooling1D)  (None, 400, 64)      0           activation_7[0][0]               \n",
      "__________________________________________________________________________________________________\n",
      "conv1d_33 (Conv1D)              (None, 400, 16)      5120        conv1d_32[0][0]                  \n",
      "__________________________________________________________________________________________________\n",
      "conv1d_34 (Conv1D)              (None, 400, 16)      2560        conv1d_32[0][0]                  \n",
      "__________________________________________________________________________________________________\n",
      "conv1d_35 (Conv1D)              (None, 400, 16)      1024        conv1d_32[0][0]                  \n",
      "__________________________________________________________________________________________________\n",
      "conv1d_36 (Conv1D)              (None, 400, 16)      1024        max_pooling1d_6[0][0]            \n",
      "__________________________________________________________________________________________________\n",
      "concatenate_6 (Concatenate)     (None, 400, 64)      0           conv1d_33[0][0]                  \n",
      "                                                                 conv1d_34[0][0]                  \n",
      "                                                                 conv1d_35[0][0]                  \n",
      "                                                                 conv1d_36[0][0]                  \n",
      "__________________________________________________________________________________________________\n",
      "batch_normalization_8 (BatchNor (None, 400, 64)      256         concatenate_6[0][0]              \n",
      "__________________________________________________________________________________________________\n",
      "activation_8 (Activation)       (None, 400, 64)      0           batch_normalization_8[0][0]      \n",
      "__________________________________________________________________________________________________\n",
      "conv1d_37 (Conv1D)              (None, 400, 32)      2048        activation_8[0][0]               \n",
      "__________________________________________________________________________________________________\n",
      "max_pooling1d_7 (MaxPooling1D)  (None, 400, 64)      0           activation_8[0][0]               \n",
      "__________________________________________________________________________________________________\n",
      "conv1d_38 (Conv1D)              (None, 400, 16)      5120        conv1d_37[0][0]                  \n",
      "__________________________________________________________________________________________________\n",
      "conv1d_39 (Conv1D)              (None, 400, 16)      2560        conv1d_37[0][0]                  \n",
      "__________________________________________________________________________________________________\n",
      "conv1d_40 (Conv1D)              (None, 400, 16)      1024        conv1d_37[0][0]                  \n",
      "__________________________________________________________________________________________________\n",
      "conv1d_41 (Conv1D)              (None, 400, 16)      1024        max_pooling1d_7[0][0]            \n",
      "__________________________________________________________________________________________________\n",
      "concatenate_7 (Concatenate)     (None, 400, 64)      0           conv1d_38[0][0]                  \n",
      "                                                                 conv1d_39[0][0]                  \n",
      "                                                                 conv1d_40[0][0]                  \n",
      "                                                                 conv1d_41[0][0]                  \n",
      "__________________________________________________________________________________________________\n",
      "batch_normalization_9 (BatchNor (None, 400, 64)      256         concatenate_7[0][0]              \n",
      "__________________________________________________________________________________________________\n",
      "activation_9 (Activation)       (None, 400, 64)      0           batch_normalization_9[0][0]      \n",
      "__________________________________________________________________________________________________\n",
      "conv1d_42 (Conv1D)              (None, 400, 32)      2048        activation_9[0][0]               \n",
      "__________________________________________________________________________________________________\n",
      "max_pooling1d_8 (MaxPooling1D)  (None, 400, 64)      0           activation_9[0][0]               \n",
      "__________________________________________________________________________________________________\n",
      "conv1d_43 (Conv1D)              (None, 400, 16)      5120        conv1d_42[0][0]                  \n",
      "__________________________________________________________________________________________________\n",
      "conv1d_44 (Conv1D)              (None, 400, 16)      2560        conv1d_42[0][0]                  \n",
      "__________________________________________________________________________________________________\n",
      "conv1d_45 (Conv1D)              (None, 400, 16)      1024        conv1d_42[0][0]                  \n",
      "__________________________________________________________________________________________________\n",
      "conv1d_46 (Conv1D)              (None, 400, 16)      1024        max_pooling1d_8[0][0]            \n",
      "__________________________________________________________________________________________________\n",
      "concatenate_8 (Concatenate)     (None, 400, 64)      0           conv1d_43[0][0]                  \n",
      "                                                                 conv1d_44[0][0]                  \n",
      "                                                                 conv1d_45[0][0]                  \n",
      "                                                                 conv1d_46[0][0]                  \n",
      "__________________________________________________________________________________________________\n",
      "conv1d_47 (Conv1D)              (None, 400, 64)      4096        activation_7[0][0]               \n",
      "__________________________________________________________________________________________________\n",
      "batch_normalization_10 (BatchNo (None, 400, 64)      256         concatenate_8[0][0]              \n",
      "__________________________________________________________________________________________________\n",
      "batch_normalization_11 (BatchNo (None, 400, 64)      256         conv1d_47[0][0]                  \n",
      "__________________________________________________________________________________________________\n",
      "activation_10 (Activation)      (None, 400, 64)      0           batch_normalization_10[0][0]     \n",
      "__________________________________________________________________________________________________\n",
      "add_2 (Add)                     (None, 400, 64)      0           batch_normalization_11[0][0]     \n",
      "                                                                 activation_10[0][0]              \n",
      "__________________________________________________________________________________________________\n",
      "activation_11 (Activation)      (None, 400, 64)      0           add_2[0][0]                      \n",
      "__________________________________________________________________________________________________\n",
      "conv1d_48 (Conv1D)              (None, 400, 32)      2048        activation_11[0][0]              \n",
      "__________________________________________________________________________________________________\n",
      "max_pooling1d_9 (MaxPooling1D)  (None, 400, 64)      0           activation_11[0][0]              \n",
      "__________________________________________________________________________________________________\n",
      "conv1d_49 (Conv1D)              (None, 400, 16)      5120        conv1d_48[0][0]                  \n",
      "__________________________________________________________________________________________________\n",
      "conv1d_50 (Conv1D)              (None, 400, 16)      2560        conv1d_48[0][0]                  \n",
      "__________________________________________________________________________________________________\n",
      "conv1d_51 (Conv1D)              (None, 400, 16)      1024        conv1d_48[0][0]                  \n",
      "__________________________________________________________________________________________________\n",
      "conv1d_52 (Conv1D)              (None, 400, 16)      1024        max_pooling1d_9[0][0]            \n",
      "__________________________________________________________________________________________________\n",
      "concatenate_9 (Concatenate)     (None, 400, 64)      0           conv1d_49[0][0]                  \n",
      "                                                                 conv1d_50[0][0]                  \n",
      "                                                                 conv1d_51[0][0]                  \n",
      "                                                                 conv1d_52[0][0]                  \n",
      "__________________________________________________________________________________________________\n",
      "batch_normalization_12 (BatchNo (None, 400, 64)      256         concatenate_9[0][0]              \n",
      "__________________________________________________________________________________________________\n",
      "activation_12 (Activation)      (None, 400, 64)      0           batch_normalization_12[0][0]     \n",
      "__________________________________________________________________________________________________\n",
      "conv1d_53 (Conv1D)              (None, 400, 32)      2048        activation_12[0][0]              \n",
      "__________________________________________________________________________________________________\n",
      "max_pooling1d_10 (MaxPooling1D) (None, 400, 64)      0           activation_12[0][0]              \n",
      "__________________________________________________________________________________________________\n",
      "conv1d_54 (Conv1D)              (None, 400, 16)      5120        conv1d_53[0][0]                  \n",
      "__________________________________________________________________________________________________\n",
      "conv1d_55 (Conv1D)              (None, 400, 16)      2560        conv1d_53[0][0]                  \n",
      "__________________________________________________________________________________________________\n",
      "conv1d_56 (Conv1D)              (None, 400, 16)      1024        conv1d_53[0][0]                  \n",
      "__________________________________________________________________________________________________\n",
      "conv1d_57 (Conv1D)              (None, 400, 16)      1024        max_pooling1d_10[0][0]           \n",
      "__________________________________________________________________________________________________\n",
      "concatenate_10 (Concatenate)    (None, 400, 64)      0           conv1d_54[0][0]                  \n",
      "                                                                 conv1d_55[0][0]                  \n",
      "                                                                 conv1d_56[0][0]                  \n",
      "                                                                 conv1d_57[0][0]                  \n",
      "__________________________________________________________________________________________________\n",
      "batch_normalization_13 (BatchNo (None, 400, 64)      256         concatenate_10[0][0]             \n",
      "__________________________________________________________________________________________________\n",
      "activation_13 (Activation)      (None, 400, 64)      0           batch_normalization_13[0][0]     \n",
      "__________________________________________________________________________________________________\n",
      "conv1d_58 (Conv1D)              (None, 400, 32)      2048        activation_13[0][0]              \n",
      "__________________________________________________________________________________________________\n",
      "max_pooling1d_11 (MaxPooling1D) (None, 400, 64)      0           activation_13[0][0]              \n",
      "__________________________________________________________________________________________________\n",
      "conv1d_59 (Conv1D)              (None, 400, 16)      5120        conv1d_58[0][0]                  \n",
      "__________________________________________________________________________________________________\n",
      "conv1d_60 (Conv1D)              (None, 400, 16)      2560        conv1d_58[0][0]                  \n",
      "__________________________________________________________________________________________________\n",
      "conv1d_61 (Conv1D)              (None, 400, 16)      1024        conv1d_58[0][0]                  \n",
      "__________________________________________________________________________________________________\n",
      "conv1d_62 (Conv1D)              (None, 400, 16)      1024        max_pooling1d_11[0][0]           \n",
      "__________________________________________________________________________________________________\n",
      "concatenate_11 (Concatenate)    (None, 400, 64)      0           conv1d_59[0][0]                  \n",
      "                                                                 conv1d_60[0][0]                  \n",
      "                                                                 conv1d_61[0][0]                  \n",
      "                                                                 conv1d_62[0][0]                  \n",
      "__________________________________________________________________________________________________\n",
      "conv1d_63 (Conv1D)              (None, 400, 64)      4096        activation_11[0][0]              \n",
      "__________________________________________________________________________________________________\n",
      "batch_normalization_14 (BatchNo (None, 400, 64)      256         concatenate_11[0][0]             \n",
      "__________________________________________________________________________________________________\n",
      "batch_normalization_15 (BatchNo (None, 400, 64)      256         conv1d_63[0][0]                  \n",
      "__________________________________________________________________________________________________\n",
      "activation_14 (Activation)      (None, 400, 64)      0           batch_normalization_14[0][0]     \n",
      "__________________________________________________________________________________________________\n",
      "add_3 (Add)                     (None, 400, 64)      0           batch_normalization_15[0][0]     \n",
      "                                                                 activation_14[0][0]              \n",
      "__________________________________________________________________________________________________\n",
      "activation_15 (Activation)      (None, 400, 64)      0           add_3[0][0]                      \n",
      "__________________________________________________________________________________________________\n",
      "global_average_pooling1d (Globa (None, 64)           0           activation_15[0][0]              \n",
      "__________________________________________________________________________________________________\n",
      "dense (Dense)                   (None, 3)            195         global_average_pooling1d[0][0]   \n",
      "==================================================================================================\n",
      "Total params: 155,715\n",
      "Trainable params: 153,667\n",
      "Non-trainable params: 2,048\n",
      "__________________________________________________________________________________________________\n"
     ]
    }
   ],
   "source": [
    "clf = Classifier_INCEPTION('', (X_train.shape[1],X_train.shape[2]),nb_classes=3,\n",
    "                            verbose=True,batch_size=128,nb_epochs=25,nb_filters=16,\n",
    "                            depth=12, kernel_size=11)"
   ]
  },
  {
   "cell_type": "code",
   "execution_count": 16,
   "metadata": {
    "scrolled": true
   },
   "outputs": [
    {
     "name": "stdout",
     "output_type": "stream",
     "text": [
      "Epoch 1/25\n",
      "1448/1448 [==============================] - 161s 111ms/step - loss: 0.7375 - accuracy: 0.6701 - val_loss: 0.7154 - val_accuracy: 0.6896 - lr: 0.0010\n",
      "Epoch 2/25\n",
      "1448/1448 [==============================] - 170s 117ms/step - loss: 0.4342 - accuracy: 0.8294 - val_loss: 0.5218 - val_accuracy: 0.8007 - lr: 0.0010\n",
      "Epoch 3/25\n",
      "1448/1448 [==============================] - 176s 121ms/step - loss: 0.3264 - accuracy: 0.8768 - val_loss: 0.4141 - val_accuracy: 0.8487 - lr: 0.0010\n",
      "Epoch 4/25\n",
      "1448/1448 [==============================] - 176s 121ms/step - loss: 0.2886 - accuracy: 0.8910 - val_loss: 0.3022 - val_accuracy: 0.8837 - lr: 0.0010\n",
      "Epoch 5/25\n",
      "1448/1448 [==============================] - 177s 122ms/step - loss: 0.2659 - accuracy: 0.8997 - val_loss: 0.4347 - val_accuracy: 0.8467 - lr: 0.0010\n",
      "Epoch 6/25\n",
      "1448/1448 [==============================] - 176s 122ms/step - loss: 0.2504 - accuracy: 0.9053 - val_loss: 0.5615 - val_accuracy: 0.8291 - lr: 0.0010\n",
      "Epoch 7/25\n",
      "1448/1448 [==============================] - 179s 124ms/step - loss: 0.2388 - accuracy: 0.9100 - val_loss: 0.2541 - val_accuracy: 0.9026 - lr: 0.0010\n",
      "Epoch 8/25\n",
      "1448/1448 [==============================] - 179s 123ms/step - loss: 0.2279 - accuracy: 0.9138 - val_loss: 0.2384 - val_accuracy: 0.9095 - lr: 0.0010\n",
      "Epoch 9/25\n",
      "1448/1448 [==============================] - 178s 123ms/step - loss: 0.2206 - accuracy: 0.9162 - val_loss: 0.4251 - val_accuracy: 0.8557 - lr: 0.0010\n",
      "Epoch 10/25\n",
      "1448/1448 [==============================] - 177s 122ms/step - loss: 0.2129 - accuracy: 0.9193 - val_loss: 0.2877 - val_accuracy: 0.8887 - lr: 0.0010\n",
      "Epoch 11/25\n",
      "1448/1448 [==============================] - 175s 121ms/step - loss: 0.2070 - accuracy: 0.9222 - val_loss: 0.4032 - val_accuracy: 0.8691 - lr: 0.0010\n",
      "Epoch 12/25\n",
      "1448/1448 [==============================] - 176s 122ms/step - loss: 0.1990 - accuracy: 0.9241 - val_loss: 0.3559 - val_accuracy: 0.8733 - lr: 0.0010\n",
      "Epoch 13/25\n",
      "1448/1448 [==============================] - 175s 121ms/step - loss: 0.1955 - accuracy: 0.9253 - val_loss: 0.2758 - val_accuracy: 0.8939 - lr: 0.0010\n",
      "Epoch 14/25\n",
      "1448/1448 [==============================] - 175s 121ms/step - loss: 0.1884 - accuracy: 0.9281 - val_loss: 0.2266 - val_accuracy: 0.9151 - lr: 0.0010\n",
      "Epoch 15/25\n",
      "1448/1448 [==============================] - 175s 121ms/step - loss: 0.1869 - accuracy: 0.9288 - val_loss: 0.2373 - val_accuracy: 0.9129 - lr: 0.0010\n",
      "Epoch 16/25\n",
      "1448/1448 [==============================] - 175s 121ms/step - loss: 0.1826 - accuracy: 0.9300 - val_loss: 0.1988 - val_accuracy: 0.9234 - lr: 0.0010\n",
      "Epoch 17/25\n",
      "1448/1448 [==============================] - 174s 120ms/step - loss: 0.1797 - accuracy: 0.9320 - val_loss: 0.2236 - val_accuracy: 0.9182 - lr: 0.0010\n",
      "Epoch 18/25\n",
      "1448/1448 [==============================] - 174s 120ms/step - loss: 0.1730 - accuracy: 0.9347 - val_loss: 0.2163 - val_accuracy: 0.9221 - lr: 0.0010\n",
      "Epoch 19/25\n",
      "1448/1448 [==============================] - 174s 120ms/step - loss: 0.1724 - accuracy: 0.9340 - val_loss: 0.2060 - val_accuracy: 0.9235 - lr: 0.0010\n",
      "Epoch 20/25\n",
      "1448/1448 [==============================] - 175s 121ms/step - loss: 0.1697 - accuracy: 0.9357 - val_loss: 0.1908 - val_accuracy: 0.9291 - lr: 0.0010\n",
      "Epoch 21/25\n",
      "1448/1448 [==============================] - 174s 120ms/step - loss: 0.1657 - accuracy: 0.9367 - val_loss: 0.1910 - val_accuracy: 0.9279 - lr: 0.0010\n",
      "Epoch 22/25\n",
      "1448/1448 [==============================] - 175s 121ms/step - loss: 0.1625 - accuracy: 0.9381 - val_loss: 0.1759 - val_accuracy: 0.9331 - lr: 0.0010\n",
      "Epoch 23/25\n",
      "1448/1448 [==============================] - 177s 122ms/step - loss: 0.1606 - accuracy: 0.9389 - val_loss: 0.1852 - val_accuracy: 0.9282 - lr: 0.0010\n",
      "Epoch 24/25\n",
      "1448/1448 [==============================] - 175s 121ms/step - loss: 0.1591 - accuracy: 0.9390 - val_loss: 0.1804 - val_accuracy: 0.9312 - lr: 0.0010\n",
      "Epoch 25/25\n",
      "1448/1448 [==============================] - 175s 121ms/step - loss: 0.1552 - accuracy: 0.9410 - val_loss: 0.1884 - val_accuracy: 0.9326 - lr: 0.0010\n"
     ]
    }
   ],
   "source": [
    "df_metrics = clf.fit(X_train, y_train, X_test, y_test, y_true,plot_test_acc=True)"
   ]
  },
  {
   "cell_type": "code",
   "execution_count": 27,
   "metadata": {},
   "outputs": [],
   "source": [
    "clf.model = load_model('last_model.hdf5')"
   ]
  },
  {
   "cell_type": "code",
   "execution_count": 17,
   "metadata": {},
   "outputs": [],
   "source": [
    "best_model = load_model('best_model.hdf5')\n",
    "best_model.save('models/DTM_{}.hdf5'.format(window))"
   ]
  },
  {
   "cell_type": "markdown",
   "metadata": {},
   "source": [
    "## Testing"
   ]
  },
  {
   "cell_type": "code",
   "execution_count": null,
   "metadata": {},
   "outputs": [],
   "source": [
    "model = load_model('models/DTM_{}.hdf5'.format(window))"
   ]
  },
  {
   "cell_type": "code",
   "execution_count": null,
   "metadata": {},
   "outputs": [],
   "source": [
    "mx_scaler = load(open('min_max.pkl', 'rb'))\n",
    "std_scaler = load(open('standard_scaler.pkl', 'rb'))"
   ]
  },
  {
   "cell_type": "code",
   "execution_count": null,
   "metadata": {},
   "outputs": [],
   "source": [
    "model.evaluate(X_dtm, y_dtm)"
   ]
  },
  {
   "cell_type": "markdown",
   "metadata": {},
   "source": [
    "## Plot Results"
   ]
  },
  {
   "cell_type": "code",
   "execution_count": 18,
   "metadata": {},
   "outputs": [],
   "source": [
    "%matplotlib inline\n",
    "metrics_df = pd.read_csv('df_metrics.csv')\n",
    "best_model_df = pd.read_csv('df_best_model.csv')\n",
    "history_df = pd.read_csv('history.csv')"
   ]
  },
  {
   "cell_type": "code",
   "execution_count": 19,
   "metadata": {},
   "outputs": [
    {
     "data": {
      "text/html": [
       "<div>\n",
       "<style scoped>\n",
       "    .dataframe tbody tr th:only-of-type {\n",
       "        vertical-align: middle;\n",
       "    }\n",
       "\n",
       "    .dataframe tbody tr th {\n",
       "        vertical-align: top;\n",
       "    }\n",
       "\n",
       "    .dataframe thead th {\n",
       "        text-align: right;\n",
       "    }\n",
       "</style>\n",
       "<table border=\"1\" class=\"dataframe\">\n",
       "  <thead>\n",
       "    <tr style=\"text-align: right;\">\n",
       "      <th></th>\n",
       "      <th>precision</th>\n",
       "      <th>accuracy</th>\n",
       "      <th>recall</th>\n",
       "      <th>duration</th>\n",
       "    </tr>\n",
       "  </thead>\n",
       "  <tbody>\n",
       "    <tr>\n",
       "      <th>0</th>\n",
       "      <td>0.908488</td>\n",
       "      <td>0.932602</td>\n",
       "      <td>0.935385</td>\n",
       "      <td>4384.434993</td>\n",
       "    </tr>\n",
       "  </tbody>\n",
       "</table>\n",
       "</div>"
      ],
      "text/plain": [
       "   precision  accuracy    recall     duration\n",
       "0   0.908488  0.932602  0.935385  4384.434993"
      ]
     },
     "execution_count": 19,
     "metadata": {},
     "output_type": "execute_result"
    }
   ],
   "source": [
    "metrics_df"
   ]
  },
  {
   "cell_type": "code",
   "execution_count": 20,
   "metadata": {
    "scrolled": false
   },
   "outputs": [
    {
     "data": {
      "text/plain": [
       "<AxesSubplot:title={'center':'Loss'}>"
      ]
     },
     "execution_count": 20,
     "metadata": {},
     "output_type": "execute_result"
    },
    {
     "data": {
      "image/png": "[encoded data removed]",
      "text/plain": [
       "<Figure size 1008x576 with 1 Axes>"
      ]
     },
     "metadata": {
      "needs_background": "light"
     },
     "output_type": "display_data"
    },
    {
     "data": {
      "image/png": "[encoded data removed]",
      "text/plain": [
       "<Figure size 1008x576 with 1 Axes>"
      ]
     },
     "metadata": {
      "needs_background": "light"
     },
     "output_type": "display_data"
    }
   ],
   "source": [
    "history_df[['accuracy','val_accuracy']].plot(figsize=(14,8),title='Accuracy',grid=True,fontsize=15)\n",
    "history_df[['loss','val_loss']].plot(figsize=(14,8),title='Loss',grid=True,fontsize=15)"
   ]
  },
  {
   "cell_type": "code",
   "execution_count": null,
   "metadata": {},
   "outputs": [],
   "source": []
  }
 ],
 "metadata": {
  "kernelspec": {
   "display_name": "Python 3.8.0 64-bit",
   "language": "python",
   "name": "python38064bitcaed634bb72a48a5bf9eda0dc4f94389"
  },
  "language_info": {
   "codemirror_mode": {
    "name": "ipython",
    "version": 3
   },
   "file_extension": ".py",
   "mimetype": "text/x-python",
   "name": "python",
   "nbconvert_exporter": "python",
   "pygments_lexer": "ipython3",
   "version": "3.8.5"
  }
 },
 "nbformat": 4,
 "nbformat_minor": 4
}
